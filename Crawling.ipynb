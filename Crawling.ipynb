{
 "cells": [
  {
   "cell_type": "code",
   "execution_count": 2,
   "metadata": {},
   "outputs": [],
   "source": [
    "# 패키지 불러오기\n",
    "from selenium import webdriver\n",
    "import pandas as pd\n",
    "import time\n",
    "from selenium.webdriver.common.by import By"
   ]
  },
  {
   "cell_type": "code",
   "execution_count": 3,
   "metadata": {},
   "outputs": [],
   "source": [
    "driver = webdriver.Edge()\n",
    "\n",
    "list1 = []\n",
    "\n",
    "for i in range(287248, 289545):\n",
    "    # 검색어 입력 및 검색\n",
    "    review_search_url = f\"https://www.smarthb-math.co.kr/franchise/find.php?ptype=view&idx={i}\"\n",
    "\n",
    "    driver.get(review_search_url)\n",
    "\n",
    "    name = driver.find_element(by='xpath',value = f'//*[@id=\"wrap\"]/div[3]/div/table/tbody/tr[1]/th').text # 지점명\n",
    "    address = driver.find_element(by='xpath',value = f'//*[@id=\"wrap\"]/div[3]/div/table/tbody/tr[2]/td').text # 주소\n",
    "\n",
    "    list1.append([i, name, address])\n",
    "    \n",
    "    df = pd.DataFrame(list1)\n",
    "    df.to_csv('해법수학.csv')\n",
    "    time.sleep(0.1)"
   ]
  },
  {
   "cell_type": "code",
   "execution_count": 6,
   "metadata": {},
   "outputs": [
    {
     "data": {
      "text/plain": [
       "2296"
      ]
     },
     "execution_count": 6,
     "metadata": {},
     "output_type": "execute_result"
    }
   ],
   "source": [
    "len(list1)"
   ]
  }
 ],
 "metadata": {
  "kernelspec": {
   "display_name": "base",
   "language": "python",
   "name": "python3"
  },
  "language_info": {
   "codemirror_mode": {
    "name": "ipython",
    "version": 3
   },
   "file_extension": ".py",
   "mimetype": "text/x-python",
   "name": "python",
   "nbconvert_exporter": "python",
   "pygments_lexer": "ipython3",
   "version": "3.10.9"
  },
  "orig_nbformat": 4
 },
 "nbformat": 4,
 "nbformat_minor": 2
}
