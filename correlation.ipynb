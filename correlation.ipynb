{
 "cells": [
  {
   "cell_type": "code",
   "execution_count": 1,
   "metadata": {},
   "outputs": [],
   "source": [
    "import pandas as pd\n",
    "import numpy as np\n",
    "import matplotlib\n",
    "import matplotlib.pyplot as plt\n",
    "import plotly.express as px"
   ]
  },
  {
   "cell_type": "code",
   "execution_count": 2,
   "metadata": {},
   "outputs": [],
   "source": [
    "# 그래프 한글 출력\n",
    "matplotlib.rcParams['font.family'] ='Malgun Gothic'\n",
    "\n",
    "# warning 제거\n",
    "import warnings\n",
    "warnings.filterwarnings('ignore')"
   ]
  },
  {
   "cell_type": "code",
   "execution_count": 3,
   "metadata": {},
   "outputs": [],
   "source": [
    "# 해법수학 지점 데이터\n",
    "\n",
    "hme = pd.read_csv('./data/hme_preprocessed.csv')"
   ]
  },
  {
   "cell_type": "code",
   "execution_count": 4,
   "metadata": {},
   "outputs": [],
   "source": [
    "# 사교육비 데이터\n",
    "# 2014~2021년만\n",
    "\n",
    "edu = pd.read_csv('./data/시도별__학생_1인당_월평균_사교육비.csv', encoding = 'cp949')\n",
    "\n",
    "# 불필요한 데이터 정리\n",
    "edu = edu.drop(index = [0, 1])\n",
    "\n",
    "edu1 = edu.iloc[:, 0]\n",
    "edu2 = edu.iloc[:, 6:-1]\n",
    "\n",
    "edu = pd.concat([edu1, edu2], axis = 1)\n",
    "\n",
    "# 시도별 컬럼 띄어쓰기 없애기\n",
    "edu['시도별'] = edu['시도별'].apply(lambda x: x.replace(' ', ''))\n",
    "\n",
    "# 저장\n",
    "edu.to_csv('./data/시도별_학생_1인당_월평균_사교육비.csv', index = False)"
   ]
  },
  {
   "cell_type": "markdown",
   "metadata": {},
   "source": [
    "필요한 데이터 로드"
   ]
  },
  {
   "cell_type": "code",
   "execution_count": 5,
   "metadata": {},
   "outputs": [],
   "source": [
    "# 2014-2021 시.도별 1인당 개인소득\n",
    "grdp = pd.read_csv('./data/시도별_1인당_개인소득.csv')\n",
    "\n",
    "# 2014-2021 시.도별 학생 1인당 월평균 사교육비\n",
    "edu = pd.read_csv('./data/시도별_학생_1인당_월평균_사교육비.csv')"
   ]
  },
  {
   "cell_type": "markdown",
   "metadata": {},
   "source": [
    "### 3D plot \n",
    "- 연도 / 1인당 개인소득 / 1인당 사교육비"
   ]
  },
  {
   "cell_type": "markdown",
   "metadata": {},
   "source": [
    "##### 연도를 그래프로 이용하기 쉽도록 DF 변환\n",
    "- 연도별 1인당 개인소득 데이터"
   ]
  },
  {
   "cell_type": "code",
   "execution_count": 6,
   "metadata": {},
   "outputs": [
    {
     "data": {
      "text/html": [
       "<div>\n",
       "<style scoped>\n",
       "    .dataframe tbody tr th:only-of-type {\n",
       "        vertical-align: middle;\n",
       "    }\n",
       "\n",
       "    .dataframe tbody tr th {\n",
       "        vertical-align: top;\n",
       "    }\n",
       "\n",
       "    .dataframe thead th {\n",
       "        text-align: right;\n",
       "    }\n",
       "</style>\n",
       "<table border=\"1\" class=\"dataframe\">\n",
       "  <thead>\n",
       "    <tr style=\"text-align: right;\">\n",
       "      <th></th>\n",
       "      <th>시도별</th>\n",
       "      <th>2014</th>\n",
       "      <th>2015</th>\n",
       "      <th>2016</th>\n",
       "      <th>2017</th>\n",
       "      <th>2018</th>\n",
       "      <th>2019</th>\n",
       "      <th>2020</th>\n",
       "      <th>2021</th>\n",
       "    </tr>\n",
       "  </thead>\n",
       "  <tbody>\n",
       "    <tr>\n",
       "      <th>0</th>\n",
       "      <td>서울</td>\n",
       "      <td>19832</td>\n",
       "      <td>20857</td>\n",
       "      <td>21295</td>\n",
       "      <td>22237</td>\n",
       "      <td>23323</td>\n",
       "      <td>23978</td>\n",
       "      <td>24226</td>\n",
       "      <td>25256</td>\n",
       "    </tr>\n",
       "    <tr>\n",
       "      <th>1</th>\n",
       "      <td>부산</td>\n",
       "      <td>16147</td>\n",
       "      <td>17044</td>\n",
       "      <td>17525</td>\n",
       "      <td>18189</td>\n",
       "      <td>18868</td>\n",
       "      <td>19723</td>\n",
       "      <td>20460</td>\n",
       "      <td>21352</td>\n",
       "    </tr>\n",
       "    <tr>\n",
       "      <th>2</th>\n",
       "      <td>대구</td>\n",
       "      <td>16031</td>\n",
       "      <td>17226</td>\n",
       "      <td>17848</td>\n",
       "      <td>18350</td>\n",
       "      <td>18555</td>\n",
       "      <td>19196</td>\n",
       "      <td>20229</td>\n",
       "      <td>21046</td>\n",
       "    </tr>\n",
       "    <tr>\n",
       "      <th>3</th>\n",
       "      <td>인천</td>\n",
       "      <td>15507</td>\n",
       "      <td>16598</td>\n",
       "      <td>17222</td>\n",
       "      <td>17884</td>\n",
       "      <td>18659</td>\n",
       "      <td>19582</td>\n",
       "      <td>20310</td>\n",
       "      <td>21317</td>\n",
       "    </tr>\n",
       "    <tr>\n",
       "      <th>4</th>\n",
       "      <td>광주</td>\n",
       "      <td>16225</td>\n",
       "      <td>17459</td>\n",
       "      <td>18232</td>\n",
       "      <td>18926</td>\n",
       "      <td>19868</td>\n",
       "      <td>20791</td>\n",
       "      <td>21591</td>\n",
       "      <td>22472</td>\n",
       "    </tr>\n",
       "    <tr>\n",
       "      <th>5</th>\n",
       "      <td>대전</td>\n",
       "      <td>16946</td>\n",
       "      <td>18229</td>\n",
       "      <td>18741</td>\n",
       "      <td>19314</td>\n",
       "      <td>19649</td>\n",
       "      <td>20648</td>\n",
       "      <td>21707</td>\n",
       "      <td>22730</td>\n",
       "    </tr>\n",
       "    <tr>\n",
       "      <th>6</th>\n",
       "      <td>울산</td>\n",
       "      <td>20142</td>\n",
       "      <td>21348</td>\n",
       "      <td>21422</td>\n",
       "      <td>21956</td>\n",
       "      <td>21655</td>\n",
       "      <td>22617</td>\n",
       "      <td>23863</td>\n",
       "      <td>25165</td>\n",
       "    </tr>\n",
       "    <tr>\n",
       "      <th>7</th>\n",
       "      <td>세종</td>\n",
       "      <td>22944</td>\n",
       "      <td>21957</td>\n",
       "      <td>21000</td>\n",
       "      <td>21404</td>\n",
       "      <td>20990</td>\n",
       "      <td>20674</td>\n",
       "      <td>21407</td>\n",
       "      <td>22061</td>\n",
       "    </tr>\n",
       "    <tr>\n",
       "      <th>8</th>\n",
       "      <td>경기</td>\n",
       "      <td>16969</td>\n",
       "      <td>18069</td>\n",
       "      <td>18611</td>\n",
       "      <td>19375</td>\n",
       "      <td>19907</td>\n",
       "      <td>20746</td>\n",
       "      <td>21220</td>\n",
       "      <td>21937</td>\n",
       "    </tr>\n",
       "    <tr>\n",
       "      <th>9</th>\n",
       "      <td>강원</td>\n",
       "      <td>15152</td>\n",
       "      <td>16311</td>\n",
       "      <td>16798</td>\n",
       "      <td>17484</td>\n",
       "      <td>18450</td>\n",
       "      <td>19174</td>\n",
       "      <td>20267</td>\n",
       "      <td>21038</td>\n",
       "    </tr>\n",
       "    <tr>\n",
       "      <th>10</th>\n",
       "      <td>충북</td>\n",
       "      <td>15558</td>\n",
       "      <td>16531</td>\n",
       "      <td>16915</td>\n",
       "      <td>17465</td>\n",
       "      <td>18440</td>\n",
       "      <td>18989</td>\n",
       "      <td>20029</td>\n",
       "      <td>21081</td>\n",
       "    </tr>\n",
       "    <tr>\n",
       "      <th>11</th>\n",
       "      <td>충남</td>\n",
       "      <td>15509</td>\n",
       "      <td>16703</td>\n",
       "      <td>16952</td>\n",
       "      <td>17788</td>\n",
       "      <td>18458</td>\n",
       "      <td>19216</td>\n",
       "      <td>20393</td>\n",
       "      <td>21262</td>\n",
       "    </tr>\n",
       "    <tr>\n",
       "      <th>12</th>\n",
       "      <td>전북</td>\n",
       "      <td>15548</td>\n",
       "      <td>16239</td>\n",
       "      <td>16499</td>\n",
       "      <td>17059</td>\n",
       "      <td>18141</td>\n",
       "      <td>18941</td>\n",
       "      <td>19991</td>\n",
       "      <td>20862</td>\n",
       "    </tr>\n",
       "    <tr>\n",
       "      <th>13</th>\n",
       "      <td>전남</td>\n",
       "      <td>15039</td>\n",
       "      <td>16067</td>\n",
       "      <td>16528</td>\n",
       "      <td>17043</td>\n",
       "      <td>18207</td>\n",
       "      <td>19072</td>\n",
       "      <td>19873</td>\n",
       "      <td>20881</td>\n",
       "    </tr>\n",
       "    <tr>\n",
       "      <th>14</th>\n",
       "      <td>경북</td>\n",
       "      <td>15738</td>\n",
       "      <td>16550</td>\n",
       "      <td>16894</td>\n",
       "      <td>17428</td>\n",
       "      <td>18185</td>\n",
       "      <td>18748</td>\n",
       "      <td>19798</td>\n",
       "      <td>20667</td>\n",
       "    </tr>\n",
       "    <tr>\n",
       "      <th>15</th>\n",
       "      <td>경남</td>\n",
       "      <td>16272</td>\n",
       "      <td>17411</td>\n",
       "      <td>17744</td>\n",
       "      <td>18011</td>\n",
       "      <td>18466</td>\n",
       "      <td>19078</td>\n",
       "      <td>19759</td>\n",
       "      <td>20650</td>\n",
       "    </tr>\n",
       "    <tr>\n",
       "      <th>16</th>\n",
       "      <td>제주</td>\n",
       "      <td>15329</td>\n",
       "      <td>16685</td>\n",
       "      <td>17366</td>\n",
       "      <td>17816</td>\n",
       "      <td>18456</td>\n",
       "      <td>18815</td>\n",
       "      <td>19954</td>\n",
       "      <td>20475</td>\n",
       "    </tr>\n",
       "  </tbody>\n",
       "</table>\n",
       "</div>"
      ],
      "text/plain": [
       "   시도별   2014   2015   2016   2017   2018   2019   2020   2021\n",
       "0   서울  19832  20857  21295  22237  23323  23978  24226  25256\n",
       "1   부산  16147  17044  17525  18189  18868  19723  20460  21352\n",
       "2   대구  16031  17226  17848  18350  18555  19196  20229  21046\n",
       "3   인천  15507  16598  17222  17884  18659  19582  20310  21317\n",
       "4   광주  16225  17459  18232  18926  19868  20791  21591  22472\n",
       "5   대전  16946  18229  18741  19314  19649  20648  21707  22730\n",
       "6   울산  20142  21348  21422  21956  21655  22617  23863  25165\n",
       "7   세종  22944  21957  21000  21404  20990  20674  21407  22061\n",
       "8   경기  16969  18069  18611  19375  19907  20746  21220  21937\n",
       "9   강원  15152  16311  16798  17484  18450  19174  20267  21038\n",
       "10  충북  15558  16531  16915  17465  18440  18989  20029  21081\n",
       "11  충남  15509  16703  16952  17788  18458  19216  20393  21262\n",
       "12  전북  15548  16239  16499  17059  18141  18941  19991  20862\n",
       "13  전남  15039  16067  16528  17043  18207  19072  19873  20881\n",
       "14  경북  15738  16550  16894  17428  18185  18748  19798  20667\n",
       "15  경남  16272  17411  17744  18011  18466  19078  19759  20650\n",
       "16  제주  15329  16685  17366  17816  18456  18815  19954  20475"
      ]
     },
     "execution_count": 6,
     "metadata": {},
     "output_type": "execute_result"
    }
   ],
   "source": [
    "grdp"
   ]
  },
  {
   "cell_type": "code",
   "execution_count": 7,
   "metadata": {},
   "outputs": [],
   "source": [
    "grdp_TP = pd.DataFrame()\n",
    "\n",
    "for idx, column in enumerate(grdp):\n",
    "    if idx == 0:\n",
    "        continue\n",
    "    df = grdp.iloc[:, [0, idx]]\n",
    "    df.columns = ['시도별','1인당_개인소득(천 원)']\n",
    "    df['year'] = column\n",
    "    grdp_TP = pd.concat([grdp_TP, df])"
   ]
  },
  {
   "cell_type": "code",
   "execution_count": 8,
   "metadata": {},
   "outputs": [
    {
     "data": {
      "text/html": [
       "<div>\n",
       "<style scoped>\n",
       "    .dataframe tbody tr th:only-of-type {\n",
       "        vertical-align: middle;\n",
       "    }\n",
       "\n",
       "    .dataframe tbody tr th {\n",
       "        vertical-align: top;\n",
       "    }\n",
       "\n",
       "    .dataframe thead th {\n",
       "        text-align: right;\n",
       "    }\n",
       "</style>\n",
       "<table border=\"1\" class=\"dataframe\">\n",
       "  <thead>\n",
       "    <tr style=\"text-align: right;\">\n",
       "      <th></th>\n",
       "      <th>시도별</th>\n",
       "      <th>1인당_개인소득(천 원)</th>\n",
       "      <th>year</th>\n",
       "    </tr>\n",
       "  </thead>\n",
       "  <tbody>\n",
       "    <tr>\n",
       "      <th>0</th>\n",
       "      <td>서울</td>\n",
       "      <td>19832</td>\n",
       "      <td>2014</td>\n",
       "    </tr>\n",
       "    <tr>\n",
       "      <th>1</th>\n",
       "      <td>부산</td>\n",
       "      <td>16147</td>\n",
       "      <td>2014</td>\n",
       "    </tr>\n",
       "    <tr>\n",
       "      <th>2</th>\n",
       "      <td>대구</td>\n",
       "      <td>16031</td>\n",
       "      <td>2014</td>\n",
       "    </tr>\n",
       "    <tr>\n",
       "      <th>3</th>\n",
       "      <td>인천</td>\n",
       "      <td>15507</td>\n",
       "      <td>2014</td>\n",
       "    </tr>\n",
       "    <tr>\n",
       "      <th>4</th>\n",
       "      <td>광주</td>\n",
       "      <td>16225</td>\n",
       "      <td>2014</td>\n",
       "    </tr>\n",
       "    <tr>\n",
       "      <th>...</th>\n",
       "      <td>...</td>\n",
       "      <td>...</td>\n",
       "      <td>...</td>\n",
       "    </tr>\n",
       "    <tr>\n",
       "      <th>12</th>\n",
       "      <td>전북</td>\n",
       "      <td>20862</td>\n",
       "      <td>2021</td>\n",
       "    </tr>\n",
       "    <tr>\n",
       "      <th>13</th>\n",
       "      <td>전남</td>\n",
       "      <td>20881</td>\n",
       "      <td>2021</td>\n",
       "    </tr>\n",
       "    <tr>\n",
       "      <th>14</th>\n",
       "      <td>경북</td>\n",
       "      <td>20667</td>\n",
       "      <td>2021</td>\n",
       "    </tr>\n",
       "    <tr>\n",
       "      <th>15</th>\n",
       "      <td>경남</td>\n",
       "      <td>20650</td>\n",
       "      <td>2021</td>\n",
       "    </tr>\n",
       "    <tr>\n",
       "      <th>16</th>\n",
       "      <td>제주</td>\n",
       "      <td>20475</td>\n",
       "      <td>2021</td>\n",
       "    </tr>\n",
       "  </tbody>\n",
       "</table>\n",
       "<p>136 rows × 3 columns</p>\n",
       "</div>"
      ],
      "text/plain": [
       "   시도별  1인당_개인소득(천 원)  year\n",
       "0   서울          19832  2014\n",
       "1   부산          16147  2014\n",
       "2   대구          16031  2014\n",
       "3   인천          15507  2014\n",
       "4   광주          16225  2014\n",
       "..  ..            ...   ...\n",
       "12  전북          20862  2021\n",
       "13  전남          20881  2021\n",
       "14  경북          20667  2021\n",
       "15  경남          20650  2021\n",
       "16  제주          20475  2021\n",
       "\n",
       "[136 rows x 3 columns]"
      ]
     },
     "execution_count": 8,
     "metadata": {},
     "output_type": "execute_result"
    }
   ],
   "source": [
    "grdp_TP"
   ]
  },
  {
   "cell_type": "markdown",
   "metadata": {},
   "source": [
    "- 연도별 1인당 사교육비 데이터 합치기"
   ]
  },
  {
   "cell_type": "code",
   "execution_count": 9,
   "metadata": {},
   "outputs": [],
   "source": [
    "edu_TP = pd.DataFrame()\n",
    "\n",
    "for idx, column in enumerate(edu):\n",
    "    if idx == 0:\n",
    "        continue\n",
    "    df = edu.iloc[:, [0, idx]]\n",
    "    df.columns = ['시도별','1인당_사교육비(만 원)']\n",
    "    edu_TP = pd.concat([edu_TP, df])"
   ]
  },
  {
   "cell_type": "code",
   "execution_count": 10,
   "metadata": {},
   "outputs": [],
   "source": [
    "grdp_TP['1인당_사교육비(만 원)'] = edu_TP['1인당_사교육비(만 원)']"
   ]
  },
  {
   "cell_type": "code",
   "execution_count": 11,
   "metadata": {},
   "outputs": [
    {
     "data": {
      "text/html": [
       "<div>\n",
       "<style scoped>\n",
       "    .dataframe tbody tr th:only-of-type {\n",
       "        vertical-align: middle;\n",
       "    }\n",
       "\n",
       "    .dataframe tbody tr th {\n",
       "        vertical-align: top;\n",
       "    }\n",
       "\n",
       "    .dataframe thead th {\n",
       "        text-align: right;\n",
       "    }\n",
       "</style>\n",
       "<table border=\"1\" class=\"dataframe\">\n",
       "  <thead>\n",
       "    <tr style=\"text-align: right;\">\n",
       "      <th></th>\n",
       "      <th>시도별</th>\n",
       "      <th>1인당_개인소득(천 원)</th>\n",
       "      <th>year</th>\n",
       "      <th>1인당_사교육비(만 원)</th>\n",
       "    </tr>\n",
       "  </thead>\n",
       "  <tbody>\n",
       "    <tr>\n",
       "      <th>0</th>\n",
       "      <td>서울</td>\n",
       "      <td>19832</td>\n",
       "      <td>2014</td>\n",
       "      <td>34.9</td>\n",
       "    </tr>\n",
       "    <tr>\n",
       "      <th>1</th>\n",
       "      <td>부산</td>\n",
       "      <td>16147</td>\n",
       "      <td>2014</td>\n",
       "      <td>26.8</td>\n",
       "    </tr>\n",
       "    <tr>\n",
       "      <th>2</th>\n",
       "      <td>대구</td>\n",
       "      <td>16031</td>\n",
       "      <td>2014</td>\n",
       "      <td>26.7</td>\n",
       "    </tr>\n",
       "    <tr>\n",
       "      <th>3</th>\n",
       "      <td>인천</td>\n",
       "      <td>15507</td>\n",
       "      <td>2014</td>\n",
       "      <td>22.6</td>\n",
       "    </tr>\n",
       "    <tr>\n",
       "      <th>4</th>\n",
       "      <td>광주</td>\n",
       "      <td>16225</td>\n",
       "      <td>2014</td>\n",
       "      <td>27.3</td>\n",
       "    </tr>\n",
       "    <tr>\n",
       "      <th>...</th>\n",
       "      <td>...</td>\n",
       "      <td>...</td>\n",
       "      <td>...</td>\n",
       "      <td>...</td>\n",
       "    </tr>\n",
       "    <tr>\n",
       "      <th>12</th>\n",
       "      <td>전북</td>\n",
       "      <td>20862</td>\n",
       "      <td>2021</td>\n",
       "      <td>30.0</td>\n",
       "    </tr>\n",
       "    <tr>\n",
       "      <th>13</th>\n",
       "      <td>전남</td>\n",
       "      <td>20881</td>\n",
       "      <td>2021</td>\n",
       "      <td>25.6</td>\n",
       "    </tr>\n",
       "    <tr>\n",
       "      <th>14</th>\n",
       "      <td>경북</td>\n",
       "      <td>20667</td>\n",
       "      <td>2021</td>\n",
       "      <td>31.6</td>\n",
       "    </tr>\n",
       "    <tr>\n",
       "      <th>15</th>\n",
       "      <td>경남</td>\n",
       "      <td>20650</td>\n",
       "      <td>2021</td>\n",
       "      <td>29.8</td>\n",
       "    </tr>\n",
       "    <tr>\n",
       "      <th>16</th>\n",
       "      <td>제주</td>\n",
       "      <td>20475</td>\n",
       "      <td>2021</td>\n",
       "      <td>34.2</td>\n",
       "    </tr>\n",
       "  </tbody>\n",
       "</table>\n",
       "<p>136 rows × 4 columns</p>\n",
       "</div>"
      ],
      "text/plain": [
       "   시도별  1인당_개인소득(천 원)  year  1인당_사교육비(만 원)\n",
       "0   서울          19832  2014           34.9\n",
       "1   부산          16147  2014           26.8\n",
       "2   대구          16031  2014           26.7\n",
       "3   인천          15507  2014           22.6\n",
       "4   광주          16225  2014           27.3\n",
       "..  ..            ...   ...            ...\n",
       "12  전북          20862  2021           30.0\n",
       "13  전남          20881  2021           25.6\n",
       "14  경북          20667  2021           31.6\n",
       "15  경남          20650  2021           29.8\n",
       "16  제주          20475  2021           34.2\n",
       "\n",
       "[136 rows x 4 columns]"
      ]
     },
     "execution_count": 11,
     "metadata": {},
     "output_type": "execute_result"
    }
   ],
   "source": [
    "grdp_TP"
   ]
  },
  {
   "cell_type": "markdown",
   "metadata": {},
   "source": [
    "- 3D scatter plot 그리기"
   ]
  },
  {
   "cell_type": "code",
   "execution_count": 12,
   "metadata": {},
   "outputs": [
    {
     "data": {
      "application/vnd.plotly.v1+json": {
       "config": {
        "plotlyServerURL": "https://plot.ly"
       },
       "data": [
        {
         "hovertemplate": "시도별=서울<br>year=%{x}<br>1인당_개인소득(천 원)=%{y}<br>1인당_사교육비(만 원)=%{z}<extra></extra>",
         "legendgroup": "서울",
         "marker": {
          "color": "#636efa",
          "opacity": 0.7,
          "symbol": "circle"
         },
         "mode": "markers",
         "name": "서울",
         "scene": "scene",
         "showlegend": true,
         "type": "scatter3d",
         "x": [
          "2014",
          "2015",
          "2016",
          "2017",
          "2018",
          "2019",
          "2020",
          "2021"
         ],
         "y": [
          19832,
          20857,
          21295,
          22237,
          23323,
          23978,
          24226,
          25256
         ],
         "z": [
          34.9,
          35.5,
          37,
          41.7,
          41.5,
          46.3,
          49.2,
          52.6
         ]
        },
        {
         "hovertemplate": "시도별=부산<br>year=%{x}<br>1인당_개인소득(천 원)=%{y}<br>1인당_사교육비(만 원)=%{z}<extra></extra>",
         "legendgroup": "부산",
         "marker": {
          "color": "#EF553B",
          "opacity": 0.7,
          "symbol": "circle"
         },
         "mode": "markers",
         "name": "부산",
         "scene": "scene",
         "showlegend": true,
         "type": "scatter3d",
         "x": [
          "2014",
          "2015",
          "2016",
          "2017",
          "2018",
          "2019",
          "2020",
          "2021"
         ],
         "y": [
          16147,
          17044,
          17525,
          18189,
          18868,
          19723,
          20460,
          21352
         ],
         "z": [
          26.8,
          27.6,
          29.2,
          33.5,
          31.6,
          32.5,
          34,
          42.1
         ]
        },
        {
         "hovertemplate": "시도별=대구<br>year=%{x}<br>1인당_개인소득(천 원)=%{y}<br>1인당_사교육비(만 원)=%{z}<extra></extra>",
         "legendgroup": "대구",
         "marker": {
          "color": "#00cc96",
          "opacity": 0.7,
          "symbol": "circle"
         },
         "mode": "markers",
         "name": "대구",
         "scene": "scene",
         "showlegend": true,
         "type": "scatter3d",
         "x": [
          "2014",
          "2015",
          "2016",
          "2017",
          "2018",
          "2019",
          "2020",
          "2021"
         ],
         "y": [
          16031,
          17226,
          17848,
          18350,
          18555,
          19196,
          20229,
          21046
         ],
         "z": [
          26.7,
          26.8,
          26.3,
          30.6,
          33.2,
          34.2,
          34.4,
          42.2
         ]
        },
        {
         "hovertemplate": "시도별=인천<br>year=%{x}<br>1인당_개인소득(천 원)=%{y}<br>1인당_사교육비(만 원)=%{z}<extra></extra>",
         "legendgroup": "인천",
         "marker": {
          "color": "#ab63fa",
          "opacity": 0.7,
          "symbol": "circle"
         },
         "mode": "markers",
         "name": "인천",
         "scene": "scene",
         "showlegend": true,
         "type": "scatter3d",
         "x": [
          "2014",
          "2015",
          "2016",
          "2017",
          "2018",
          "2019",
          "2020",
          "2021"
         ],
         "y": [
          15507,
          16598,
          17222,
          17884,
          18659,
          19582,
          20310,
          21317
         ],
         "z": [
          22.6,
          22.9,
          23.6,
          22.8,
          30,
          33.4,
          32.9,
          38.9
         ]
        },
        {
         "hovertemplate": "시도별=광주<br>year=%{x}<br>1인당_개인소득(천 원)=%{y}<br>1인당_사교육비(만 원)=%{z}<extra></extra>",
         "legendgroup": "광주",
         "marker": {
          "color": "#FFA15A",
          "opacity": 0.7,
          "symbol": "circle"
         },
         "mode": "markers",
         "name": "광주",
         "scene": "scene",
         "showlegend": true,
         "type": "scatter3d",
         "x": [
          "2014",
          "2015",
          "2016",
          "2017",
          "2018",
          "2019",
          "2020",
          "2021"
         ],
         "y": [
          16225,
          17459,
          18232,
          18926,
          19868,
          20791,
          21591,
          22472
         ],
         "z": [
          27.3,
          27.2,
          25.1,
          27.6,
          31,
          31.9,
          33.2,
          37.4
         ]
        },
        {
         "hovertemplate": "시도별=대전<br>year=%{x}<br>1인당_개인소득(천 원)=%{y}<br>1인당_사교육비(만 원)=%{z}<extra></extra>",
         "legendgroup": "대전",
         "marker": {
          "color": "#19d3f3",
          "opacity": 0.7,
          "symbol": "circle"
         },
         "mode": "markers",
         "name": "대전",
         "scene": "scene",
         "showlegend": true,
         "type": "scatter3d",
         "x": [
          "2014",
          "2015",
          "2016",
          "2017",
          "2018",
          "2019",
          "2020",
          "2021"
         ],
         "y": [
          16946,
          18229,
          18741,
          19314,
          19649,
          20648,
          21707,
          22730
         ],
         "z": [
          27.1,
          27.3,
          29,
          24.7,
          29.3,
          31.7,
          34.9,
          35.3
         ]
        },
        {
         "hovertemplate": "시도별=울산<br>year=%{x}<br>1인당_개인소득(천 원)=%{y}<br>1인당_사교육비(만 원)=%{z}<extra></extra>",
         "legendgroup": "울산",
         "marker": {
          "color": "#FF6692",
          "opacity": 0.7,
          "symbol": "circle"
         },
         "mode": "markers",
         "name": "울산",
         "scene": "scene",
         "showlegend": true,
         "type": "scatter3d",
         "x": [
          "2014",
          "2015",
          "2016",
          "2017",
          "2018",
          "2019",
          "2020",
          "2021"
         ],
         "y": [
          20142,
          21348,
          21422,
          21956,
          21655,
          22617,
          23863,
          25165
         ],
         "z": [
          25.4,
          26.2,
          25.5,
          26.1,
          29.1,
          30.3,
          31,
          34
         ]
        },
        {
         "hovertemplate": "시도별=세종<br>year=%{x}<br>1인당_개인소득(천 원)=%{y}<br>1인당_사교육비(만 원)=%{z}<extra></extra>",
         "legendgroup": "세종",
         "marker": {
          "color": "#B6E880",
          "opacity": 0.7,
          "symbol": "circle"
         },
         "mode": "markers",
         "name": "세종",
         "scene": "scene",
         "showlegend": true,
         "type": "scatter3d",
         "x": [
          "2014",
          "2015",
          "2016",
          "2017",
          "2018",
          "2019",
          "2020",
          "2021"
         ],
         "y": [
          22944,
          21957,
          21000,
          21404,
          20990,
          20674,
          21407,
          22061
         ],
         "z": [
          21.5,
          22.1,
          24.1,
          32,
          33.4,
          40.2,
          37.2,
          40.6
         ]
        },
        {
         "hovertemplate": "시도별=경기<br>year=%{x}<br>1인당_개인소득(천 원)=%{y}<br>1인당_사교육비(만 원)=%{z}<extra></extra>",
         "legendgroup": "경기",
         "marker": {
          "color": "#FF97FF",
          "opacity": 0.7,
          "symbol": "circle"
         },
         "mode": "markers",
         "name": "경기",
         "scene": "scene",
         "showlegend": true,
         "type": "scatter3d",
         "x": [
          "2014",
          "2015",
          "2016",
          "2017",
          "2018",
          "2019",
          "2020",
          "2021"
         ],
         "y": [
          16969,
          18069,
          18611,
          19375,
          19907,
          20746,
          21220,
          21937
         ],
         "z": [
          29.1,
          30,
          29.7,
          29.4,
          33.2,
          35.7,
          35.7,
          42.2
         ]
        },
        {
         "hovertemplate": "시도별=강원<br>year=%{x}<br>1인당_개인소득(천 원)=%{y}<br>1인당_사교육비(만 원)=%{z}<extra></extra>",
         "legendgroup": "강원",
         "marker": {
          "color": "#FECB52",
          "opacity": 0.7,
          "symbol": "circle"
         },
         "mode": "markers",
         "name": "강원",
         "scene": "scene",
         "showlegend": true,
         "type": "scatter3d",
         "x": [
          "2014",
          "2015",
          "2016",
          "2017",
          "2018",
          "2019",
          "2020",
          "2021"
         ],
         "y": [
          15152,
          16311,
          16798,
          17484,
          18450,
          19174,
          20267,
          21038
         ],
         "z": [
          20.4,
          21.2,
          21.6,
          22,
          25.5,
          20.9,
          23.3,
          28.9
         ]
        },
        {
         "hovertemplate": "시도별=충북<br>year=%{x}<br>1인당_개인소득(천 원)=%{y}<br>1인당_사교육비(만 원)=%{z}<extra></extra>",
         "legendgroup": "충북",
         "marker": {
          "color": "#636efa",
          "opacity": 0.7,
          "symbol": "circle"
         },
         "mode": "markers",
         "name": "충북",
         "scene": "scene",
         "showlegend": true,
         "type": "scatter3d",
         "x": [
          "2014",
          "2015",
          "2016",
          "2017",
          "2018",
          "2019",
          "2020",
          "2021"
         ],
         "y": [
          15558,
          16531,
          16915,
          17465,
          18440,
          18989,
          20029,
          21081
         ],
         "z": [
          21.6,
          21.4,
          22.6,
          22.1,
          29.1,
          25.9,
          25.7,
          28.7
         ]
        },
        {
         "hovertemplate": "시도별=충남<br>year=%{x}<br>1인당_개인소득(천 원)=%{y}<br>1인당_사교육비(만 원)=%{z}<extra></extra>",
         "legendgroup": "충남",
         "marker": {
          "color": "#EF553B",
          "opacity": 0.7,
          "symbol": "circle"
         },
         "mode": "markers",
         "name": "충남",
         "scene": "scene",
         "showlegend": true,
         "type": "scatter3d",
         "x": [
          "2014",
          "2015",
          "2016",
          "2017",
          "2018",
          "2019",
          "2020",
          "2021"
         ],
         "y": [
          15509,
          16703,
          16952,
          17788,
          18458,
          19216,
          20393,
          21262
         ],
         "z": [
          20.2,
          19.9,
          18.8,
          20.2,
          20.2,
          28.1,
          21.1,
          29.2
         ]
        },
        {
         "hovertemplate": "시도별=전북<br>year=%{x}<br>1인당_개인소득(천 원)=%{y}<br>1인당_사교육비(만 원)=%{z}<extra></extra>",
         "legendgroup": "전북",
         "marker": {
          "color": "#00cc96",
          "opacity": 0.7,
          "symbol": "circle"
         },
         "mode": "markers",
         "name": "전북",
         "scene": "scene",
         "showlegend": true,
         "type": "scatter3d",
         "x": [
          "2014",
          "2015",
          "2016",
          "2017",
          "2018",
          "2019",
          "2020",
          "2021"
         ],
         "y": [
          15548,
          16239,
          16499,
          17059,
          18141,
          18941,
          19991,
          20862
         ],
         "z": [
          23.4,
          24,
          21.4,
          25.3,
          24.5,
          27.6,
          26.3,
          30
         ]
        },
        {
         "hovertemplate": "시도별=전남<br>year=%{x}<br>1인당_개인소득(천 원)=%{y}<br>1인당_사교육비(만 원)=%{z}<extra></extra>",
         "legendgroup": "전남",
         "marker": {
          "color": "#ab63fa",
          "opacity": 0.7,
          "symbol": "circle"
         },
         "mode": "markers",
         "name": "전남",
         "scene": "scene",
         "showlegend": true,
         "type": "scatter3d",
         "x": [
          "2014",
          "2015",
          "2016",
          "2017",
          "2018",
          "2019",
          "2020",
          "2021"
         ],
         "y": [
          15039,
          16067,
          16528,
          17043,
          18207,
          19072,
          19873,
          20881
         ],
         "z": [
          21.3,
          21.2,
          19.1,
          19.5,
          22,
          22.6,
          23,
          25.6
         ]
        },
        {
         "hovertemplate": "시도별=경북<br>year=%{x}<br>1인당_개인소득(천 원)=%{y}<br>1인당_사교육비(만 원)=%{z}<extra></extra>",
         "legendgroup": "경북",
         "marker": {
          "color": "#FFA15A",
          "opacity": 0.7,
          "symbol": "circle"
         },
         "mode": "markers",
         "name": "경북",
         "scene": "scene",
         "showlegend": true,
         "type": "scatter3d",
         "x": [
          "2014",
          "2015",
          "2016",
          "2017",
          "2018",
          "2019",
          "2020",
          "2021"
         ],
         "y": [
          15738,
          16550,
          16894,
          17428,
          18185,
          18748,
          19798,
          20667
         ],
         "z": [
          22.5,
          22.6,
          22.5,
          26.4,
          26.4,
          25.7,
          27.2,
          31.6
         ]
        },
        {
         "hovertemplate": "시도별=경남<br>year=%{x}<br>1인당_개인소득(천 원)=%{y}<br>1인당_사교육비(만 원)=%{z}<extra></extra>",
         "legendgroup": "경남",
         "marker": {
          "color": "#19d3f3",
          "opacity": 0.7,
          "symbol": "circle"
         },
         "mode": "markers",
         "name": "경남",
         "scene": "scene",
         "showlegend": true,
         "type": "scatter3d",
         "x": [
          "2014",
          "2015",
          "2016",
          "2017",
          "2018",
          "2019",
          "2020",
          "2021"
         ],
         "y": [
          16272,
          17411,
          17744,
          18011,
          18466,
          19078,
          19759,
          20650
         ],
         "z": [
          23.3,
          24,
          22.2,
          23.7,
          22.6,
          28.9,
          28.1,
          29.8
         ]
        },
        {
         "hovertemplate": "시도별=제주<br>year=%{x}<br>1인당_개인소득(천 원)=%{y}<br>1인당_사교육비(만 원)=%{z}<extra></extra>",
         "legendgroup": "제주",
         "marker": {
          "color": "#FF6692",
          "opacity": 0.7,
          "symbol": "circle"
         },
         "mode": "markers",
         "name": "제주",
         "scene": "scene",
         "showlegend": true,
         "type": "scatter3d",
         "x": [
          "2014",
          "2015",
          "2016",
          "2017",
          "2018",
          "2019",
          "2020",
          "2021"
         ],
         "y": [
          15329,
          16685,
          17366,
          17816,
          18456,
          18815,
          19954,
          20475
         ],
         "z": [
          22.8,
          23.6,
          26.9,
          26,
          28.2,
          29.8,
          28.9,
          34.2
         ]
        }
       ],
       "layout": {
        "height": 480,
        "legend": {
         "title": {
          "text": "시도별"
         },
         "tracegroupgap": 0
        },
        "margin": {
         "t": 60
        },
        "scene": {
         "domain": {
          "x": [
           0,
           1
          ],
          "y": [
           0,
           1
          ]
         },
         "xaxis": {
          "title": {
           "text": "year"
          }
         },
         "yaxis": {
          "title": {
           "text": "1인당_개인소득(천 원)"
          }
         },
         "zaxis": {
          "title": {
           "text": "1인당_사교육비(만 원)"
          }
         }
        },
        "template": {
         "data": {
          "bar": [
           {
            "error_x": {
             "color": "#2a3f5f"
            },
            "error_y": {
             "color": "#2a3f5f"
            },
            "marker": {
             "line": {
              "color": "#E5ECF6",
              "width": 0.5
             },
             "pattern": {
              "fillmode": "overlay",
              "size": 10,
              "solidity": 0.2
             }
            },
            "type": "bar"
           }
          ],
          "barpolar": [
           {
            "marker": {
             "line": {
              "color": "#E5ECF6",
              "width": 0.5
             },
             "pattern": {
              "fillmode": "overlay",
              "size": 10,
              "solidity": 0.2
             }
            },
            "type": "barpolar"
           }
          ],
          "carpet": [
           {
            "aaxis": {
             "endlinecolor": "#2a3f5f",
             "gridcolor": "white",
             "linecolor": "white",
             "minorgridcolor": "white",
             "startlinecolor": "#2a3f5f"
            },
            "baxis": {
             "endlinecolor": "#2a3f5f",
             "gridcolor": "white",
             "linecolor": "white",
             "minorgridcolor": "white",
             "startlinecolor": "#2a3f5f"
            },
            "type": "carpet"
           }
          ],
          "choropleth": [
           {
            "colorbar": {
             "outlinewidth": 0,
             "ticks": ""
            },
            "type": "choropleth"
           }
          ],
          "contour": [
           {
            "colorbar": {
             "outlinewidth": 0,
             "ticks": ""
            },
            "colorscale": [
             [
              0,
              "#0d0887"
             ],
             [
              0.1111111111111111,
              "#46039f"
             ],
             [
              0.2222222222222222,
              "#7201a8"
             ],
             [
              0.3333333333333333,
              "#9c179e"
             ],
             [
              0.4444444444444444,
              "#bd3786"
             ],
             [
              0.5555555555555556,
              "#d8576b"
             ],
             [
              0.6666666666666666,
              "#ed7953"
             ],
             [
              0.7777777777777778,
              "#fb9f3a"
             ],
             [
              0.8888888888888888,
              "#fdca26"
             ],
             [
              1,
              "#f0f921"
             ]
            ],
            "type": "contour"
           }
          ],
          "contourcarpet": [
           {
            "colorbar": {
             "outlinewidth": 0,
             "ticks": ""
            },
            "type": "contourcarpet"
           }
          ],
          "heatmap": [
           {
            "colorbar": {
             "outlinewidth": 0,
             "ticks": ""
            },
            "colorscale": [
             [
              0,
              "#0d0887"
             ],
             [
              0.1111111111111111,
              "#46039f"
             ],
             [
              0.2222222222222222,
              "#7201a8"
             ],
             [
              0.3333333333333333,
              "#9c179e"
             ],
             [
              0.4444444444444444,
              "#bd3786"
             ],
             [
              0.5555555555555556,
              "#d8576b"
             ],
             [
              0.6666666666666666,
              "#ed7953"
             ],
             [
              0.7777777777777778,
              "#fb9f3a"
             ],
             [
              0.8888888888888888,
              "#fdca26"
             ],
             [
              1,
              "#f0f921"
             ]
            ],
            "type": "heatmap"
           }
          ],
          "heatmapgl": [
           {
            "colorbar": {
             "outlinewidth": 0,
             "ticks": ""
            },
            "colorscale": [
             [
              0,
              "#0d0887"
             ],
             [
              0.1111111111111111,
              "#46039f"
             ],
             [
              0.2222222222222222,
              "#7201a8"
             ],
             [
              0.3333333333333333,
              "#9c179e"
             ],
             [
              0.4444444444444444,
              "#bd3786"
             ],
             [
              0.5555555555555556,
              "#d8576b"
             ],
             [
              0.6666666666666666,
              "#ed7953"
             ],
             [
              0.7777777777777778,
              "#fb9f3a"
             ],
             [
              0.8888888888888888,
              "#fdca26"
             ],
             [
              1,
              "#f0f921"
             ]
            ],
            "type": "heatmapgl"
           }
          ],
          "histogram": [
           {
            "marker": {
             "pattern": {
              "fillmode": "overlay",
              "size": 10,
              "solidity": 0.2
             }
            },
            "type": "histogram"
           }
          ],
          "histogram2d": [
           {
            "colorbar": {
             "outlinewidth": 0,
             "ticks": ""
            },
            "colorscale": [
             [
              0,
              "#0d0887"
             ],
             [
              0.1111111111111111,
              "#46039f"
             ],
             [
              0.2222222222222222,
              "#7201a8"
             ],
             [
              0.3333333333333333,
              "#9c179e"
             ],
             [
              0.4444444444444444,
              "#bd3786"
             ],
             [
              0.5555555555555556,
              "#d8576b"
             ],
             [
              0.6666666666666666,
              "#ed7953"
             ],
             [
              0.7777777777777778,
              "#fb9f3a"
             ],
             [
              0.8888888888888888,
              "#fdca26"
             ],
             [
              1,
              "#f0f921"
             ]
            ],
            "type": "histogram2d"
           }
          ],
          "histogram2dcontour": [
           {
            "colorbar": {
             "outlinewidth": 0,
             "ticks": ""
            },
            "colorscale": [
             [
              0,
              "#0d0887"
             ],
             [
              0.1111111111111111,
              "#46039f"
             ],
             [
              0.2222222222222222,
              "#7201a8"
             ],
             [
              0.3333333333333333,
              "#9c179e"
             ],
             [
              0.4444444444444444,
              "#bd3786"
             ],
             [
              0.5555555555555556,
              "#d8576b"
             ],
             [
              0.6666666666666666,
              "#ed7953"
             ],
             [
              0.7777777777777778,
              "#fb9f3a"
             ],
             [
              0.8888888888888888,
              "#fdca26"
             ],
             [
              1,
              "#f0f921"
             ]
            ],
            "type": "histogram2dcontour"
           }
          ],
          "mesh3d": [
           {
            "colorbar": {
             "outlinewidth": 0,
             "ticks": ""
            },
            "type": "mesh3d"
           }
          ],
          "parcoords": [
           {
            "line": {
             "colorbar": {
              "outlinewidth": 0,
              "ticks": ""
             }
            },
            "type": "parcoords"
           }
          ],
          "pie": [
           {
            "automargin": true,
            "type": "pie"
           }
          ],
          "scatter": [
           {
            "fillpattern": {
             "fillmode": "overlay",
             "size": 10,
             "solidity": 0.2
            },
            "type": "scatter"
           }
          ],
          "scatter3d": [
           {
            "line": {
             "colorbar": {
              "outlinewidth": 0,
              "ticks": ""
             }
            },
            "marker": {
             "colorbar": {
              "outlinewidth": 0,
              "ticks": ""
             }
            },
            "type": "scatter3d"
           }
          ],
          "scattercarpet": [
           {
            "marker": {
             "colorbar": {
              "outlinewidth": 0,
              "ticks": ""
             }
            },
            "type": "scattercarpet"
           }
          ],
          "scattergeo": [
           {
            "marker": {
             "colorbar": {
              "outlinewidth": 0,
              "ticks": ""
             }
            },
            "type": "scattergeo"
           }
          ],
          "scattergl": [
           {
            "marker": {
             "colorbar": {
              "outlinewidth": 0,
              "ticks": ""
             }
            },
            "type": "scattergl"
           }
          ],
          "scattermapbox": [
           {
            "marker": {
             "colorbar": {
              "outlinewidth": 0,
              "ticks": ""
             }
            },
            "type": "scattermapbox"
           }
          ],
          "scatterpolar": [
           {
            "marker": {
             "colorbar": {
              "outlinewidth": 0,
              "ticks": ""
             }
            },
            "type": "scatterpolar"
           }
          ],
          "scatterpolargl": [
           {
            "marker": {
             "colorbar": {
              "outlinewidth": 0,
              "ticks": ""
             }
            },
            "type": "scatterpolargl"
           }
          ],
          "scatterternary": [
           {
            "marker": {
             "colorbar": {
              "outlinewidth": 0,
              "ticks": ""
             }
            },
            "type": "scatterternary"
           }
          ],
          "surface": [
           {
            "colorbar": {
             "outlinewidth": 0,
             "ticks": ""
            },
            "colorscale": [
             [
              0,
              "#0d0887"
             ],
             [
              0.1111111111111111,
              "#46039f"
             ],
             [
              0.2222222222222222,
              "#7201a8"
             ],
             [
              0.3333333333333333,
              "#9c179e"
             ],
             [
              0.4444444444444444,
              "#bd3786"
             ],
             [
              0.5555555555555556,
              "#d8576b"
             ],
             [
              0.6666666666666666,
              "#ed7953"
             ],
             [
              0.7777777777777778,
              "#fb9f3a"
             ],
             [
              0.8888888888888888,
              "#fdca26"
             ],
             [
              1,
              "#f0f921"
             ]
            ],
            "type": "surface"
           }
          ],
          "table": [
           {
            "cells": {
             "fill": {
              "color": "#EBF0F8"
             },
             "line": {
              "color": "white"
             }
            },
            "header": {
             "fill": {
              "color": "#C8D4E3"
             },
             "line": {
              "color": "white"
             }
            },
            "type": "table"
           }
          ]
         },
         "layout": {
          "annotationdefaults": {
           "arrowcolor": "#2a3f5f",
           "arrowhead": 0,
           "arrowwidth": 1
          },
          "autotypenumbers": "strict",
          "coloraxis": {
           "colorbar": {
            "outlinewidth": 0,
            "ticks": ""
           }
          },
          "colorscale": {
           "diverging": [
            [
             0,
             "#8e0152"
            ],
            [
             0.1,
             "#c51b7d"
            ],
            [
             0.2,
             "#de77ae"
            ],
            [
             0.3,
             "#f1b6da"
            ],
            [
             0.4,
             "#fde0ef"
            ],
            [
             0.5,
             "#f7f7f7"
            ],
            [
             0.6,
             "#e6f5d0"
            ],
            [
             0.7,
             "#b8e186"
            ],
            [
             0.8,
             "#7fbc41"
            ],
            [
             0.9,
             "#4d9221"
            ],
            [
             1,
             "#276419"
            ]
           ],
           "sequential": [
            [
             0,
             "#0d0887"
            ],
            [
             0.1111111111111111,
             "#46039f"
            ],
            [
             0.2222222222222222,
             "#7201a8"
            ],
            [
             0.3333333333333333,
             "#9c179e"
            ],
            [
             0.4444444444444444,
             "#bd3786"
            ],
            [
             0.5555555555555556,
             "#d8576b"
            ],
            [
             0.6666666666666666,
             "#ed7953"
            ],
            [
             0.7777777777777778,
             "#fb9f3a"
            ],
            [
             0.8888888888888888,
             "#fdca26"
            ],
            [
             1,
             "#f0f921"
            ]
           ],
           "sequentialminus": [
            [
             0,
             "#0d0887"
            ],
            [
             0.1111111111111111,
             "#46039f"
            ],
            [
             0.2222222222222222,
             "#7201a8"
            ],
            [
             0.3333333333333333,
             "#9c179e"
            ],
            [
             0.4444444444444444,
             "#bd3786"
            ],
            [
             0.5555555555555556,
             "#d8576b"
            ],
            [
             0.6666666666666666,
             "#ed7953"
            ],
            [
             0.7777777777777778,
             "#fb9f3a"
            ],
            [
             0.8888888888888888,
             "#fdca26"
            ],
            [
             1,
             "#f0f921"
            ]
           ]
          },
          "colorway": [
           "#636efa",
           "#EF553B",
           "#00cc96",
           "#ab63fa",
           "#FFA15A",
           "#19d3f3",
           "#FF6692",
           "#B6E880",
           "#FF97FF",
           "#FECB52"
          ],
          "font": {
           "color": "#2a3f5f"
          },
          "geo": {
           "bgcolor": "white",
           "lakecolor": "white",
           "landcolor": "#E5ECF6",
           "showlakes": true,
           "showland": true,
           "subunitcolor": "white"
          },
          "hoverlabel": {
           "align": "left"
          },
          "hovermode": "closest",
          "mapbox": {
           "style": "light"
          },
          "paper_bgcolor": "white",
          "plot_bgcolor": "#E5ECF6",
          "polar": {
           "angularaxis": {
            "gridcolor": "white",
            "linecolor": "white",
            "ticks": ""
           },
           "bgcolor": "#E5ECF6",
           "radialaxis": {
            "gridcolor": "white",
            "linecolor": "white",
            "ticks": ""
           }
          },
          "scene": {
           "xaxis": {
            "backgroundcolor": "#E5ECF6",
            "gridcolor": "white",
            "gridwidth": 2,
            "linecolor": "white",
            "showbackground": true,
            "ticks": "",
            "zerolinecolor": "white"
           },
           "yaxis": {
            "backgroundcolor": "#E5ECF6",
            "gridcolor": "white",
            "gridwidth": 2,
            "linecolor": "white",
            "showbackground": true,
            "ticks": "",
            "zerolinecolor": "white"
           },
           "zaxis": {
            "backgroundcolor": "#E5ECF6",
            "gridcolor": "white",
            "gridwidth": 2,
            "linecolor": "white",
            "showbackground": true,
            "ticks": "",
            "zerolinecolor": "white"
           }
          },
          "shapedefaults": {
           "line": {
            "color": "#2a3f5f"
           }
          },
          "ternary": {
           "aaxis": {
            "gridcolor": "white",
            "linecolor": "white",
            "ticks": ""
           },
           "baxis": {
            "gridcolor": "white",
            "linecolor": "white",
            "ticks": ""
           },
           "bgcolor": "#E5ECF6",
           "caxis": {
            "gridcolor": "white",
            "linecolor": "white",
            "ticks": ""
           }
          },
          "title": {
           "x": 0.05
          },
          "xaxis": {
           "automargin": true,
           "gridcolor": "white",
           "linecolor": "white",
           "ticks": "",
           "title": {
            "standoff": 15
           },
           "zerolinecolor": "white",
           "zerolinewidth": 2
          },
          "yaxis": {
           "automargin": true,
           "gridcolor": "white",
           "linecolor": "white",
           "ticks": "",
           "title": {
            "standoff": 15
           },
           "zerolinecolor": "white",
           "zerolinewidth": 2
          }
         }
        },
        "width": 640
       }
      }
     },
     "metadata": {},
     "output_type": "display_data"
    }
   ],
   "source": [
    "fig = px.scatter_3d(grdp_TP, x='year', y='1인당_개인소득(천 원)', z='1인당_사교육비(만 원)', \n",
    "                    color='시도별', width=640, height=480,\n",
    "                    size_max=18, opacity=0.7)\n",
    "fig.show()"
   ]
  },
  {
   "cell_type": "markdown",
   "metadata": {},
   "source": [
    "### 2D plot\n",
    "- 지역별 인구수 및 지점수\n",
    "- 지역별 1인당 사교육비 및 10만명 당 지점 수\n",
    "- 지역별 1인당 개인소득 및 10만명 당 지점 수"
   ]
  },
  {
   "cell_type": "markdown",
   "metadata": {},
   "source": [
    "##### 2021년 기준으로 데이터 정리"
   ]
  },
  {
   "cell_type": "code",
   "execution_count": 13,
   "metadata": {},
   "outputs": [],
   "source": [
    "df2021 = grdp_TP[grdp_TP['year'] == '2021']"
   ]
  },
  {
   "cell_type": "code",
   "execution_count": 14,
   "metadata": {},
   "outputs": [
    {
     "data": {
      "text/html": [
       "<div>\n",
       "<style scoped>\n",
       "    .dataframe tbody tr th:only-of-type {\n",
       "        vertical-align: middle;\n",
       "    }\n",
       "\n",
       "    .dataframe tbody tr th {\n",
       "        vertical-align: top;\n",
       "    }\n",
       "\n",
       "    .dataframe thead th {\n",
       "        text-align: right;\n",
       "    }\n",
       "</style>\n",
       "<table border=\"1\" class=\"dataframe\">\n",
       "  <thead>\n",
       "    <tr style=\"text-align: right;\">\n",
       "      <th></th>\n",
       "      <th>시도별</th>\n",
       "      <th>1인당_개인소득(천 원)</th>\n",
       "      <th>year</th>\n",
       "      <th>1인당_사교육비(만 원)</th>\n",
       "    </tr>\n",
       "  </thead>\n",
       "  <tbody>\n",
       "    <tr>\n",
       "      <th>0</th>\n",
       "      <td>서울</td>\n",
       "      <td>25256</td>\n",
       "      <td>2021</td>\n",
       "      <td>52.6</td>\n",
       "    </tr>\n",
       "    <tr>\n",
       "      <th>1</th>\n",
       "      <td>부산</td>\n",
       "      <td>21352</td>\n",
       "      <td>2021</td>\n",
       "      <td>42.1</td>\n",
       "    </tr>\n",
       "    <tr>\n",
       "      <th>2</th>\n",
       "      <td>대구</td>\n",
       "      <td>21046</td>\n",
       "      <td>2021</td>\n",
       "      <td>42.2</td>\n",
       "    </tr>\n",
       "    <tr>\n",
       "      <th>3</th>\n",
       "      <td>인천</td>\n",
       "      <td>21317</td>\n",
       "      <td>2021</td>\n",
       "      <td>38.9</td>\n",
       "    </tr>\n",
       "    <tr>\n",
       "      <th>4</th>\n",
       "      <td>광주</td>\n",
       "      <td>22472</td>\n",
       "      <td>2021</td>\n",
       "      <td>37.4</td>\n",
       "    </tr>\n",
       "    <tr>\n",
       "      <th>5</th>\n",
       "      <td>대전</td>\n",
       "      <td>22730</td>\n",
       "      <td>2021</td>\n",
       "      <td>35.3</td>\n",
       "    </tr>\n",
       "    <tr>\n",
       "      <th>6</th>\n",
       "      <td>울산</td>\n",
       "      <td>25165</td>\n",
       "      <td>2021</td>\n",
       "      <td>34.0</td>\n",
       "    </tr>\n",
       "    <tr>\n",
       "      <th>7</th>\n",
       "      <td>세종</td>\n",
       "      <td>22061</td>\n",
       "      <td>2021</td>\n",
       "      <td>40.6</td>\n",
       "    </tr>\n",
       "    <tr>\n",
       "      <th>8</th>\n",
       "      <td>경기</td>\n",
       "      <td>21937</td>\n",
       "      <td>2021</td>\n",
       "      <td>42.2</td>\n",
       "    </tr>\n",
       "    <tr>\n",
       "      <th>9</th>\n",
       "      <td>강원</td>\n",
       "      <td>21038</td>\n",
       "      <td>2021</td>\n",
       "      <td>28.9</td>\n",
       "    </tr>\n",
       "    <tr>\n",
       "      <th>10</th>\n",
       "      <td>충북</td>\n",
       "      <td>21081</td>\n",
       "      <td>2021</td>\n",
       "      <td>28.7</td>\n",
       "    </tr>\n",
       "    <tr>\n",
       "      <th>11</th>\n",
       "      <td>충남</td>\n",
       "      <td>21262</td>\n",
       "      <td>2021</td>\n",
       "      <td>29.2</td>\n",
       "    </tr>\n",
       "    <tr>\n",
       "      <th>12</th>\n",
       "      <td>전북</td>\n",
       "      <td>20862</td>\n",
       "      <td>2021</td>\n",
       "      <td>30.0</td>\n",
       "    </tr>\n",
       "    <tr>\n",
       "      <th>13</th>\n",
       "      <td>전남</td>\n",
       "      <td>20881</td>\n",
       "      <td>2021</td>\n",
       "      <td>25.6</td>\n",
       "    </tr>\n",
       "    <tr>\n",
       "      <th>14</th>\n",
       "      <td>경북</td>\n",
       "      <td>20667</td>\n",
       "      <td>2021</td>\n",
       "      <td>31.6</td>\n",
       "    </tr>\n",
       "    <tr>\n",
       "      <th>15</th>\n",
       "      <td>경남</td>\n",
       "      <td>20650</td>\n",
       "      <td>2021</td>\n",
       "      <td>29.8</td>\n",
       "    </tr>\n",
       "    <tr>\n",
       "      <th>16</th>\n",
       "      <td>제주</td>\n",
       "      <td>20475</td>\n",
       "      <td>2021</td>\n",
       "      <td>34.2</td>\n",
       "    </tr>\n",
       "  </tbody>\n",
       "</table>\n",
       "</div>"
      ],
      "text/plain": [
       "   시도별  1인당_개인소득(천 원)  year  1인당_사교육비(만 원)\n",
       "0   서울          25256  2021           52.6\n",
       "1   부산          21352  2021           42.1\n",
       "2   대구          21046  2021           42.2\n",
       "3   인천          21317  2021           38.9\n",
       "4   광주          22472  2021           37.4\n",
       "5   대전          22730  2021           35.3\n",
       "6   울산          25165  2021           34.0\n",
       "7   세종          22061  2021           40.6\n",
       "8   경기          21937  2021           42.2\n",
       "9   강원          21038  2021           28.9\n",
       "10  충북          21081  2021           28.7\n",
       "11  충남          21262  2021           29.2\n",
       "12  전북          20862  2021           30.0\n",
       "13  전남          20881  2021           25.6\n",
       "14  경북          20667  2021           31.6\n",
       "15  경남          20650  2021           29.8\n",
       "16  제주          20475  2021           34.2"
      ]
     },
     "execution_count": 14,
     "metadata": {},
     "output_type": "execute_result"
    }
   ],
   "source": [
    "df2021"
   ]
  },
  {
   "cell_type": "code",
   "execution_count": 15,
   "metadata": {},
   "outputs": [],
   "source": [
    "# year 컬럼 제거\n",
    "df2021 = df2021.drop(columns = 'year')\n",
    "\n",
    "# 시도별 컬럼 기준으로 정렬\n",
    "df2021_sorted = df2021.sort_values(by = '시도별').reset_index(drop=True)\n",
    "\n",
    "# 지역별 지점 수 컬럼 합치기\n",
    "df2021_sorted['지점수'] = hme.groupby('시도').size().to_frame().reset_index()[0]"
   ]
  },
  {
   "cell_type": "code",
   "execution_count": 16,
   "metadata": {},
   "outputs": [
    {
     "data": {
      "text/html": [
       "<div>\n",
       "<style scoped>\n",
       "    .dataframe tbody tr th:only-of-type {\n",
       "        vertical-align: middle;\n",
       "    }\n",
       "\n",
       "    .dataframe tbody tr th {\n",
       "        vertical-align: top;\n",
       "    }\n",
       "\n",
       "    .dataframe thead th {\n",
       "        text-align: right;\n",
       "    }\n",
       "</style>\n",
       "<table border=\"1\" class=\"dataframe\">\n",
       "  <thead>\n",
       "    <tr style=\"text-align: right;\">\n",
       "      <th></th>\n",
       "      <th>시도별</th>\n",
       "      <th>1인당_개인소득(천 원)</th>\n",
       "      <th>1인당_사교육비(만 원)</th>\n",
       "      <th>지점수</th>\n",
       "    </tr>\n",
       "  </thead>\n",
       "  <tbody>\n",
       "    <tr>\n",
       "      <th>0</th>\n",
       "      <td>강원</td>\n",
       "      <td>21038</td>\n",
       "      <td>28.9</td>\n",
       "      <td>48</td>\n",
       "    </tr>\n",
       "    <tr>\n",
       "      <th>1</th>\n",
       "      <td>경기</td>\n",
       "      <td>21937</td>\n",
       "      <td>42.2</td>\n",
       "      <td>861</td>\n",
       "    </tr>\n",
       "    <tr>\n",
       "      <th>2</th>\n",
       "      <td>경남</td>\n",
       "      <td>20650</td>\n",
       "      <td>29.8</td>\n",
       "      <td>159</td>\n",
       "    </tr>\n",
       "    <tr>\n",
       "      <th>3</th>\n",
       "      <td>경북</td>\n",
       "      <td>20667</td>\n",
       "      <td>31.6</td>\n",
       "      <td>123</td>\n",
       "    </tr>\n",
       "    <tr>\n",
       "      <th>4</th>\n",
       "      <td>광주</td>\n",
       "      <td>22472</td>\n",
       "      <td>37.4</td>\n",
       "      <td>46</td>\n",
       "    </tr>\n",
       "    <tr>\n",
       "      <th>5</th>\n",
       "      <td>대구</td>\n",
       "      <td>21046</td>\n",
       "      <td>42.2</td>\n",
       "      <td>85</td>\n",
       "    </tr>\n",
       "    <tr>\n",
       "      <th>6</th>\n",
       "      <td>대전</td>\n",
       "      <td>22730</td>\n",
       "      <td>35.3</td>\n",
       "      <td>35</td>\n",
       "    </tr>\n",
       "    <tr>\n",
       "      <th>7</th>\n",
       "      <td>부산</td>\n",
       "      <td>21352</td>\n",
       "      <td>42.1</td>\n",
       "      <td>155</td>\n",
       "    </tr>\n",
       "    <tr>\n",
       "      <th>8</th>\n",
       "      <td>서울</td>\n",
       "      <td>25256</td>\n",
       "      <td>52.6</td>\n",
       "      <td>386</td>\n",
       "    </tr>\n",
       "    <tr>\n",
       "      <th>9</th>\n",
       "      <td>세종</td>\n",
       "      <td>22061</td>\n",
       "      <td>40.6</td>\n",
       "      <td>25</td>\n",
       "    </tr>\n",
       "    <tr>\n",
       "      <th>10</th>\n",
       "      <td>울산</td>\n",
       "      <td>25165</td>\n",
       "      <td>34.0</td>\n",
       "      <td>16</td>\n",
       "    </tr>\n",
       "    <tr>\n",
       "      <th>11</th>\n",
       "      <td>인천</td>\n",
       "      <td>21317</td>\n",
       "      <td>38.9</td>\n",
       "      <td>112</td>\n",
       "    </tr>\n",
       "    <tr>\n",
       "      <th>12</th>\n",
       "      <td>전남</td>\n",
       "      <td>20881</td>\n",
       "      <td>25.6</td>\n",
       "      <td>55</td>\n",
       "    </tr>\n",
       "    <tr>\n",
       "      <th>13</th>\n",
       "      <td>전북</td>\n",
       "      <td>20862</td>\n",
       "      <td>30.0</td>\n",
       "      <td>59</td>\n",
       "    </tr>\n",
       "    <tr>\n",
       "      <th>14</th>\n",
       "      <td>제주</td>\n",
       "      <td>20475</td>\n",
       "      <td>34.2</td>\n",
       "      <td>15</td>\n",
       "    </tr>\n",
       "    <tr>\n",
       "      <th>15</th>\n",
       "      <td>충남</td>\n",
       "      <td>21262</td>\n",
       "      <td>29.2</td>\n",
       "      <td>67</td>\n",
       "    </tr>\n",
       "    <tr>\n",
       "      <th>16</th>\n",
       "      <td>충북</td>\n",
       "      <td>21081</td>\n",
       "      <td>28.7</td>\n",
       "      <td>49</td>\n",
       "    </tr>\n",
       "  </tbody>\n",
       "</table>\n",
       "</div>"
      ],
      "text/plain": [
       "   시도별  1인당_개인소득(천 원)  1인당_사교육비(만 원)  지점수\n",
       "0   강원          21038           28.9   48\n",
       "1   경기          21937           42.2  861\n",
       "2   경남          20650           29.8  159\n",
       "3   경북          20667           31.6  123\n",
       "4   광주          22472           37.4   46\n",
       "5   대구          21046           42.2   85\n",
       "6   대전          22730           35.3   35\n",
       "7   부산          21352           42.1  155\n",
       "8   서울          25256           52.6  386\n",
       "9   세종          22061           40.6   25\n",
       "10  울산          25165           34.0   16\n",
       "11  인천          21317           38.9  112\n",
       "12  전남          20881           25.6   55\n",
       "13  전북          20862           30.0   59\n",
       "14  제주          20475           34.2   15\n",
       "15  충남          21262           29.2   67\n",
       "16  충북          21081           28.7   49"
      ]
     },
     "execution_count": 16,
     "metadata": {},
     "output_type": "execute_result"
    }
   ],
   "source": [
    "df2021_sorted"
   ]
  },
  {
   "cell_type": "markdown",
   "metadata": {},
   "source": [
    "##### 인구수 데이터\n",
    "- 데이터 전처리"
   ]
  },
  {
   "cell_type": "code",
   "execution_count": 17,
   "metadata": {},
   "outputs": [],
   "source": [
    "# 데이터 로드\n",
    "pop2021 = pd.read_csv('./data/시도별_인구_2021.csv', encoding = 'cp949')\n",
    "\n",
    "# 불필요한 행 정리\n",
    "pop2021 = pop2021.drop(index = 0).reset_index(drop=True).rename(columns={'행정구역별(읍면동)':'시도별'})\n",
    "\n",
    "# 시도별 컬럼 기준으로 정렬\n",
    "pop2021 = pop2021.sort_values(by = '시도별').reset_index(drop=True)"
   ]
  },
  {
   "cell_type": "markdown",
   "metadata": {},
   "source": [
    "- 인구수 데이터 합치기"
   ]
  },
  {
   "cell_type": "code",
   "execution_count": 18,
   "metadata": {},
   "outputs": [],
   "source": [
    "df2021_sorted['인구수'] = pop2021['2021']\n",
    "\n",
    "df2021_sorted['인구수'] = df2021_sorted['인구수'].apply(lambda x: int(x))"
   ]
  },
  {
   "cell_type": "code",
   "execution_count": 19,
   "metadata": {},
   "outputs": [
    {
     "data": {
      "text/html": [
       "<div>\n",
       "<style scoped>\n",
       "    .dataframe tbody tr th:only-of-type {\n",
       "        vertical-align: middle;\n",
       "    }\n",
       "\n",
       "    .dataframe tbody tr th {\n",
       "        vertical-align: top;\n",
       "    }\n",
       "\n",
       "    .dataframe thead th {\n",
       "        text-align: right;\n",
       "    }\n",
       "</style>\n",
       "<table border=\"1\" class=\"dataframe\">\n",
       "  <thead>\n",
       "    <tr style=\"text-align: right;\">\n",
       "      <th></th>\n",
       "      <th>시도별</th>\n",
       "      <th>1인당_개인소득(천 원)</th>\n",
       "      <th>1인당_사교육비(만 원)</th>\n",
       "      <th>지점수</th>\n",
       "      <th>인구수</th>\n",
       "    </tr>\n",
       "  </thead>\n",
       "  <tbody>\n",
       "    <tr>\n",
       "      <th>0</th>\n",
       "      <td>강원</td>\n",
       "      <td>21038</td>\n",
       "      <td>28.9</td>\n",
       "      <td>48</td>\n",
       "      <td>1521890</td>\n",
       "    </tr>\n",
       "    <tr>\n",
       "      <th>1</th>\n",
       "      <td>경기</td>\n",
       "      <td>21937</td>\n",
       "      <td>42.2</td>\n",
       "      <td>861</td>\n",
       "      <td>13652529</td>\n",
       "    </tr>\n",
       "    <tr>\n",
       "      <th>2</th>\n",
       "      <td>경남</td>\n",
       "      <td>20650</td>\n",
       "      <td>29.8</td>\n",
       "      <td>159</td>\n",
       "      <td>3305931</td>\n",
       "    </tr>\n",
       "    <tr>\n",
       "      <th>3</th>\n",
       "      <td>경북</td>\n",
       "      <td>20667</td>\n",
       "      <td>31.6</td>\n",
       "      <td>123</td>\n",
       "      <td>2635314</td>\n",
       "    </tr>\n",
       "    <tr>\n",
       "      <th>4</th>\n",
       "      <td>광주</td>\n",
       "      <td>22472</td>\n",
       "      <td>37.4</td>\n",
       "      <td>46</td>\n",
       "      <td>1475262</td>\n",
       "    </tr>\n",
       "    <tr>\n",
       "      <th>5</th>\n",
       "      <td>대구</td>\n",
       "      <td>21046</td>\n",
       "      <td>42.2</td>\n",
       "      <td>85</td>\n",
       "      <td>2387911</td>\n",
       "    </tr>\n",
       "    <tr>\n",
       "      <th>6</th>\n",
       "      <td>대전</td>\n",
       "      <td>22730</td>\n",
       "      <td>35.3</td>\n",
       "      <td>35</td>\n",
       "      <td>1479740</td>\n",
       "    </tr>\n",
       "    <tr>\n",
       "      <th>7</th>\n",
       "      <td>부산</td>\n",
       "      <td>21352</td>\n",
       "      <td>42.1</td>\n",
       "      <td>155</td>\n",
       "      <td>3324335</td>\n",
       "    </tr>\n",
       "    <tr>\n",
       "      <th>8</th>\n",
       "      <td>서울</td>\n",
       "      <td>25256</td>\n",
       "      <td>52.6</td>\n",
       "      <td>386</td>\n",
       "      <td>9472127</td>\n",
       "    </tr>\n",
       "    <tr>\n",
       "      <th>9</th>\n",
       "      <td>세종</td>\n",
       "      <td>22061</td>\n",
       "      <td>40.6</td>\n",
       "      <td>25</td>\n",
       "      <td>366227</td>\n",
       "    </tr>\n",
       "    <tr>\n",
       "      <th>10</th>\n",
       "      <td>울산</td>\n",
       "      <td>25165</td>\n",
       "      <td>34.0</td>\n",
       "      <td>16</td>\n",
       "      <td>1120753</td>\n",
       "    </tr>\n",
       "    <tr>\n",
       "      <th>11</th>\n",
       "      <td>인천</td>\n",
       "      <td>21317</td>\n",
       "      <td>38.9</td>\n",
       "      <td>112</td>\n",
       "      <td>2957044</td>\n",
       "    </tr>\n",
       "    <tr>\n",
       "      <th>12</th>\n",
       "      <td>전남</td>\n",
       "      <td>20881</td>\n",
       "      <td>25.6</td>\n",
       "      <td>55</td>\n",
       "      <td>1778124</td>\n",
       "    </tr>\n",
       "    <tr>\n",
       "      <th>13</th>\n",
       "      <td>전북</td>\n",
       "      <td>20862</td>\n",
       "      <td>30.0</td>\n",
       "      <td>59</td>\n",
       "      <td>1787053</td>\n",
       "    </tr>\n",
       "    <tr>\n",
       "      <th>14</th>\n",
       "      <td>제주</td>\n",
       "      <td>20475</td>\n",
       "      <td>34.2</td>\n",
       "      <td>15</td>\n",
       "      <td>673107</td>\n",
       "    </tr>\n",
       "    <tr>\n",
       "      <th>15</th>\n",
       "      <td>충남</td>\n",
       "      <td>21262</td>\n",
       "      <td>29.2</td>\n",
       "      <td>67</td>\n",
       "      <td>2175960</td>\n",
       "    </tr>\n",
       "    <tr>\n",
       "      <th>16</th>\n",
       "      <td>충북</td>\n",
       "      <td>21081</td>\n",
       "      <td>28.7</td>\n",
       "      <td>49</td>\n",
       "      <td>1624764</td>\n",
       "    </tr>\n",
       "  </tbody>\n",
       "</table>\n",
       "</div>"
      ],
      "text/plain": [
       "   시도별  1인당_개인소득(천 원)  1인당_사교육비(만 원)  지점수       인구수\n",
       "0   강원          21038           28.9   48   1521890\n",
       "1   경기          21937           42.2  861  13652529\n",
       "2   경남          20650           29.8  159   3305931\n",
       "3   경북          20667           31.6  123   2635314\n",
       "4   광주          22472           37.4   46   1475262\n",
       "5   대구          21046           42.2   85   2387911\n",
       "6   대전          22730           35.3   35   1479740\n",
       "7   부산          21352           42.1  155   3324335\n",
       "8   서울          25256           52.6  386   9472127\n",
       "9   세종          22061           40.6   25    366227\n",
       "10  울산          25165           34.0   16   1120753\n",
       "11  인천          21317           38.9  112   2957044\n",
       "12  전남          20881           25.6   55   1778124\n",
       "13  전북          20862           30.0   59   1787053\n",
       "14  제주          20475           34.2   15    673107\n",
       "15  충남          21262           29.2   67   2175960\n",
       "16  충북          21081           28.7   49   1624764"
      ]
     },
     "execution_count": 19,
     "metadata": {},
     "output_type": "execute_result"
    }
   ],
   "source": [
    "df2021_sorted"
   ]
  },
  {
   "cell_type": "code",
   "execution_count": 20,
   "metadata": {},
   "outputs": [],
   "source": [
    "df2021_sorted['인구대비_지점수'] = df2021_sorted['지점수'] / (df2021_sorted['인구수']/100000)"
   ]
  },
  {
   "cell_type": "code",
   "execution_count": 21,
   "metadata": {},
   "outputs": [],
   "source": [
    "df2021_sorted = df2021_sorted.rename(columns = {'인구대비_지점수':'10만명당_지점수'})"
   ]
  },
  {
   "cell_type": "code",
   "execution_count": 22,
   "metadata": {},
   "outputs": [
    {
     "data": {
      "text/html": [
       "<div>\n",
       "<style scoped>\n",
       "    .dataframe tbody tr th:only-of-type {\n",
       "        vertical-align: middle;\n",
       "    }\n",
       "\n",
       "    .dataframe tbody tr th {\n",
       "        vertical-align: top;\n",
       "    }\n",
       "\n",
       "    .dataframe thead th {\n",
       "        text-align: right;\n",
       "    }\n",
       "</style>\n",
       "<table border=\"1\" class=\"dataframe\">\n",
       "  <thead>\n",
       "    <tr style=\"text-align: right;\">\n",
       "      <th></th>\n",
       "      <th>시도별</th>\n",
       "      <th>1인당_개인소득(천 원)</th>\n",
       "      <th>1인당_사교육비(만 원)</th>\n",
       "      <th>지점수</th>\n",
       "      <th>인구수</th>\n",
       "      <th>10만명당_지점수</th>\n",
       "    </tr>\n",
       "  </thead>\n",
       "  <tbody>\n",
       "    <tr>\n",
       "      <th>0</th>\n",
       "      <td>강원</td>\n",
       "      <td>21038</td>\n",
       "      <td>28.9</td>\n",
       "      <td>48</td>\n",
       "      <td>1521890</td>\n",
       "      <td>3.153973</td>\n",
       "    </tr>\n",
       "    <tr>\n",
       "      <th>1</th>\n",
       "      <td>경기</td>\n",
       "      <td>21937</td>\n",
       "      <td>42.2</td>\n",
       "      <td>861</td>\n",
       "      <td>13652529</td>\n",
       "      <td>6.306524</td>\n",
       "    </tr>\n",
       "    <tr>\n",
       "      <th>2</th>\n",
       "      <td>경남</td>\n",
       "      <td>20650</td>\n",
       "      <td>29.8</td>\n",
       "      <td>159</td>\n",
       "      <td>3305931</td>\n",
       "      <td>4.809538</td>\n",
       "    </tr>\n",
       "    <tr>\n",
       "      <th>3</th>\n",
       "      <td>경북</td>\n",
       "      <td>20667</td>\n",
       "      <td>31.6</td>\n",
       "      <td>123</td>\n",
       "      <td>2635314</td>\n",
       "      <td>4.667376</td>\n",
       "    </tr>\n",
       "    <tr>\n",
       "      <th>4</th>\n",
       "      <td>광주</td>\n",
       "      <td>22472</td>\n",
       "      <td>37.4</td>\n",
       "      <td>46</td>\n",
       "      <td>1475262</td>\n",
       "      <td>3.118090</td>\n",
       "    </tr>\n",
       "    <tr>\n",
       "      <th>5</th>\n",
       "      <td>대구</td>\n",
       "      <td>21046</td>\n",
       "      <td>42.2</td>\n",
       "      <td>85</td>\n",
       "      <td>2387911</td>\n",
       "      <td>3.559597</td>\n",
       "    </tr>\n",
       "    <tr>\n",
       "      <th>6</th>\n",
       "      <td>대전</td>\n",
       "      <td>22730</td>\n",
       "      <td>35.3</td>\n",
       "      <td>35</td>\n",
       "      <td>1479740</td>\n",
       "      <td>2.365280</td>\n",
       "    </tr>\n",
       "    <tr>\n",
       "      <th>7</th>\n",
       "      <td>부산</td>\n",
       "      <td>21352</td>\n",
       "      <td>42.1</td>\n",
       "      <td>155</td>\n",
       "      <td>3324335</td>\n",
       "      <td>4.662587</td>\n",
       "    </tr>\n",
       "    <tr>\n",
       "      <th>8</th>\n",
       "      <td>서울</td>\n",
       "      <td>25256</td>\n",
       "      <td>52.6</td>\n",
       "      <td>386</td>\n",
       "      <td>9472127</td>\n",
       "      <td>4.075114</td>\n",
       "    </tr>\n",
       "    <tr>\n",
       "      <th>9</th>\n",
       "      <td>세종</td>\n",
       "      <td>22061</td>\n",
       "      <td>40.6</td>\n",
       "      <td>25</td>\n",
       "      <td>366227</td>\n",
       "      <td>6.826367</td>\n",
       "    </tr>\n",
       "    <tr>\n",
       "      <th>10</th>\n",
       "      <td>울산</td>\n",
       "      <td>25165</td>\n",
       "      <td>34.0</td>\n",
       "      <td>16</td>\n",
       "      <td>1120753</td>\n",
       "      <td>1.427612</td>\n",
       "    </tr>\n",
       "    <tr>\n",
       "      <th>11</th>\n",
       "      <td>인천</td>\n",
       "      <td>21317</td>\n",
       "      <td>38.9</td>\n",
       "      <td>112</td>\n",
       "      <td>2957044</td>\n",
       "      <td>3.787566</td>\n",
       "    </tr>\n",
       "    <tr>\n",
       "      <th>12</th>\n",
       "      <td>전남</td>\n",
       "      <td>20881</td>\n",
       "      <td>25.6</td>\n",
       "      <td>55</td>\n",
       "      <td>1778124</td>\n",
       "      <td>3.093148</td>\n",
       "    </tr>\n",
       "    <tr>\n",
       "      <th>13</th>\n",
       "      <td>전북</td>\n",
       "      <td>20862</td>\n",
       "      <td>30.0</td>\n",
       "      <td>59</td>\n",
       "      <td>1787053</td>\n",
       "      <td>3.301525</td>\n",
       "    </tr>\n",
       "    <tr>\n",
       "      <th>14</th>\n",
       "      <td>제주</td>\n",
       "      <td>20475</td>\n",
       "      <td>34.2</td>\n",
       "      <td>15</td>\n",
       "      <td>673107</td>\n",
       "      <td>2.228472</td>\n",
       "    </tr>\n",
       "    <tr>\n",
       "      <th>15</th>\n",
       "      <td>충남</td>\n",
       "      <td>21262</td>\n",
       "      <td>29.2</td>\n",
       "      <td>67</td>\n",
       "      <td>2175960</td>\n",
       "      <td>3.079101</td>\n",
       "    </tr>\n",
       "    <tr>\n",
       "      <th>16</th>\n",
       "      <td>충북</td>\n",
       "      <td>21081</td>\n",
       "      <td>28.7</td>\n",
       "      <td>49</td>\n",
       "      <td>1624764</td>\n",
       "      <td>3.015823</td>\n",
       "    </tr>\n",
       "  </tbody>\n",
       "</table>\n",
       "</div>"
      ],
      "text/plain": [
       "   시도별  1인당_개인소득(천 원)  1인당_사교육비(만 원)  지점수       인구수  10만명당_지점수\n",
       "0   강원          21038           28.9   48   1521890   3.153973\n",
       "1   경기          21937           42.2  861  13652529   6.306524\n",
       "2   경남          20650           29.8  159   3305931   4.809538\n",
       "3   경북          20667           31.6  123   2635314   4.667376\n",
       "4   광주          22472           37.4   46   1475262   3.118090\n",
       "5   대구          21046           42.2   85   2387911   3.559597\n",
       "6   대전          22730           35.3   35   1479740   2.365280\n",
       "7   부산          21352           42.1  155   3324335   4.662587\n",
       "8   서울          25256           52.6  386   9472127   4.075114\n",
       "9   세종          22061           40.6   25    366227   6.826367\n",
       "10  울산          25165           34.0   16   1120753   1.427612\n",
       "11  인천          21317           38.9  112   2957044   3.787566\n",
       "12  전남          20881           25.6   55   1778124   3.093148\n",
       "13  전북          20862           30.0   59   1787053   3.301525\n",
       "14  제주          20475           34.2   15    673107   2.228472\n",
       "15  충남          21262           29.2   67   2175960   3.079101\n",
       "16  충북          21081           28.7   49   1624764   3.015823"
      ]
     },
     "execution_count": 22,
     "metadata": {},
     "output_type": "execute_result"
    }
   ],
   "source": [
    "df2021_sorted"
   ]
  },
  {
   "cell_type": "code",
   "execution_count": 23,
   "metadata": {},
   "outputs": [
    {
     "data": {
      "application/vnd.plotly.v1+json": {
       "config": {
        "plotlyServerURL": "https://plot.ly"
       },
       "data": [
        {
         "hovertemplate": "인구수=%{x}<br>지점수=%{y}<extra></extra>",
         "legendgroup": "",
         "marker": {
          "color": "#636efa",
          "symbol": "circle"
         },
         "mode": "markers",
         "name": "",
         "orientation": "v",
         "showlegend": false,
         "type": "scatter",
         "x": [
          1521890,
          13652529,
          3305931,
          2635314,
          1475262,
          2387911,
          1479740,
          3324335,
          9472127,
          366227,
          1120753,
          2957044,
          1778124,
          1787053,
          673107,
          2175960,
          1624764
         ],
         "xaxis": "x",
         "y": [
          48,
          861,
          159,
          123,
          46,
          85,
          35,
          155,
          386,
          25,
          16,
          112,
          55,
          59,
          15,
          67,
          49
         ],
         "yaxis": "y"
        },
        {
         "hovertemplate": "<b>OLS trendline</b><br>지점수 = 5.95896e-05 * 인구수 + -46.2972<br>R<sup>2</sup>=0.955868<br><br>인구수=%{x}<br>지점수=%{y} <b>(trend)</b><extra></extra>",
         "legendgroup": "",
         "marker": {
          "color": "#636efa",
          "symbol": "circle"
         },
         "mode": "lines",
         "name": "",
         "showlegend": false,
         "type": "scatter",
         "x": [
          366227,
          673107,
          1120753,
          1475262,
          1479740,
          1521890,
          1624764,
          1778124,
          1787053,
          2175960,
          2387911,
          2635314,
          2957044,
          3305931,
          3324335,
          9472127,
          13652529
         ],
         "xaxis": "x",
         "y": [
          -24.473904318033323,
          -6.187035293275599,
          20.488029134046798,
          41.613093169167485,
          41.879935581487814,
          44.3916389489068,
          50.52186367535664,
          59.660531016456886,
          60.192606920791036,
          83.36743542643315,
          95.99751942234825,
          110.7401753703805,
          129.91195056373067,
          150.70200163724684,
          151.79868938989165,
          518.1434075059414,
          767.2520618491219
         ],
         "yaxis": "y"
        }
       ],
       "layout": {
        "legend": {
         "tracegroupgap": 0
        },
        "margin": {
         "t": 60
        },
        "template": {
         "data": {
          "bar": [
           {
            "error_x": {
             "color": "#2a3f5f"
            },
            "error_y": {
             "color": "#2a3f5f"
            },
            "marker": {
             "line": {
              "color": "#E5ECF6",
              "width": 0.5
             },
             "pattern": {
              "fillmode": "overlay",
              "size": 10,
              "solidity": 0.2
             }
            },
            "type": "bar"
           }
          ],
          "barpolar": [
           {
            "marker": {
             "line": {
              "color": "#E5ECF6",
              "width": 0.5
             },
             "pattern": {
              "fillmode": "overlay",
              "size": 10,
              "solidity": 0.2
             }
            },
            "type": "barpolar"
           }
          ],
          "carpet": [
           {
            "aaxis": {
             "endlinecolor": "#2a3f5f",
             "gridcolor": "white",
             "linecolor": "white",
             "minorgridcolor": "white",
             "startlinecolor": "#2a3f5f"
            },
            "baxis": {
             "endlinecolor": "#2a3f5f",
             "gridcolor": "white",
             "linecolor": "white",
             "minorgridcolor": "white",
             "startlinecolor": "#2a3f5f"
            },
            "type": "carpet"
           }
          ],
          "choropleth": [
           {
            "colorbar": {
             "outlinewidth": 0,
             "ticks": ""
            },
            "type": "choropleth"
           }
          ],
          "contour": [
           {
            "colorbar": {
             "outlinewidth": 0,
             "ticks": ""
            },
            "colorscale": [
             [
              0,
              "#0d0887"
             ],
             [
              0.1111111111111111,
              "#46039f"
             ],
             [
              0.2222222222222222,
              "#7201a8"
             ],
             [
              0.3333333333333333,
              "#9c179e"
             ],
             [
              0.4444444444444444,
              "#bd3786"
             ],
             [
              0.5555555555555556,
              "#d8576b"
             ],
             [
              0.6666666666666666,
              "#ed7953"
             ],
             [
              0.7777777777777778,
              "#fb9f3a"
             ],
             [
              0.8888888888888888,
              "#fdca26"
             ],
             [
              1,
              "#f0f921"
             ]
            ],
            "type": "contour"
           }
          ],
          "contourcarpet": [
           {
            "colorbar": {
             "outlinewidth": 0,
             "ticks": ""
            },
            "type": "contourcarpet"
           }
          ],
          "heatmap": [
           {
            "colorbar": {
             "outlinewidth": 0,
             "ticks": ""
            },
            "colorscale": [
             [
              0,
              "#0d0887"
             ],
             [
              0.1111111111111111,
              "#46039f"
             ],
             [
              0.2222222222222222,
              "#7201a8"
             ],
             [
              0.3333333333333333,
              "#9c179e"
             ],
             [
              0.4444444444444444,
              "#bd3786"
             ],
             [
              0.5555555555555556,
              "#d8576b"
             ],
             [
              0.6666666666666666,
              "#ed7953"
             ],
             [
              0.7777777777777778,
              "#fb9f3a"
             ],
             [
              0.8888888888888888,
              "#fdca26"
             ],
             [
              1,
              "#f0f921"
             ]
            ],
            "type": "heatmap"
           }
          ],
          "heatmapgl": [
           {
            "colorbar": {
             "outlinewidth": 0,
             "ticks": ""
            },
            "colorscale": [
             [
              0,
              "#0d0887"
             ],
             [
              0.1111111111111111,
              "#46039f"
             ],
             [
              0.2222222222222222,
              "#7201a8"
             ],
             [
              0.3333333333333333,
              "#9c179e"
             ],
             [
              0.4444444444444444,
              "#bd3786"
             ],
             [
              0.5555555555555556,
              "#d8576b"
             ],
             [
              0.6666666666666666,
              "#ed7953"
             ],
             [
              0.7777777777777778,
              "#fb9f3a"
             ],
             [
              0.8888888888888888,
              "#fdca26"
             ],
             [
              1,
              "#f0f921"
             ]
            ],
            "type": "heatmapgl"
           }
          ],
          "histogram": [
           {
            "marker": {
             "pattern": {
              "fillmode": "overlay",
              "size": 10,
              "solidity": 0.2
             }
            },
            "type": "histogram"
           }
          ],
          "histogram2d": [
           {
            "colorbar": {
             "outlinewidth": 0,
             "ticks": ""
            },
            "colorscale": [
             [
              0,
              "#0d0887"
             ],
             [
              0.1111111111111111,
              "#46039f"
             ],
             [
              0.2222222222222222,
              "#7201a8"
             ],
             [
              0.3333333333333333,
              "#9c179e"
             ],
             [
              0.4444444444444444,
              "#bd3786"
             ],
             [
              0.5555555555555556,
              "#d8576b"
             ],
             [
              0.6666666666666666,
              "#ed7953"
             ],
             [
              0.7777777777777778,
              "#fb9f3a"
             ],
             [
              0.8888888888888888,
              "#fdca26"
             ],
             [
              1,
              "#f0f921"
             ]
            ],
            "type": "histogram2d"
           }
          ],
          "histogram2dcontour": [
           {
            "colorbar": {
             "outlinewidth": 0,
             "ticks": ""
            },
            "colorscale": [
             [
              0,
              "#0d0887"
             ],
             [
              0.1111111111111111,
              "#46039f"
             ],
             [
              0.2222222222222222,
              "#7201a8"
             ],
             [
              0.3333333333333333,
              "#9c179e"
             ],
             [
              0.4444444444444444,
              "#bd3786"
             ],
             [
              0.5555555555555556,
              "#d8576b"
             ],
             [
              0.6666666666666666,
              "#ed7953"
             ],
             [
              0.7777777777777778,
              "#fb9f3a"
             ],
             [
              0.8888888888888888,
              "#fdca26"
             ],
             [
              1,
              "#f0f921"
             ]
            ],
            "type": "histogram2dcontour"
           }
          ],
          "mesh3d": [
           {
            "colorbar": {
             "outlinewidth": 0,
             "ticks": ""
            },
            "type": "mesh3d"
           }
          ],
          "parcoords": [
           {
            "line": {
             "colorbar": {
              "outlinewidth": 0,
              "ticks": ""
             }
            },
            "type": "parcoords"
           }
          ],
          "pie": [
           {
            "automargin": true,
            "type": "pie"
           }
          ],
          "scatter": [
           {
            "fillpattern": {
             "fillmode": "overlay",
             "size": 10,
             "solidity": 0.2
            },
            "type": "scatter"
           }
          ],
          "scatter3d": [
           {
            "line": {
             "colorbar": {
              "outlinewidth": 0,
              "ticks": ""
             }
            },
            "marker": {
             "colorbar": {
              "outlinewidth": 0,
              "ticks": ""
             }
            },
            "type": "scatter3d"
           }
          ],
          "scattercarpet": [
           {
            "marker": {
             "colorbar": {
              "outlinewidth": 0,
              "ticks": ""
             }
            },
            "type": "scattercarpet"
           }
          ],
          "scattergeo": [
           {
            "marker": {
             "colorbar": {
              "outlinewidth": 0,
              "ticks": ""
             }
            },
            "type": "scattergeo"
           }
          ],
          "scattergl": [
           {
            "marker": {
             "colorbar": {
              "outlinewidth": 0,
              "ticks": ""
             }
            },
            "type": "scattergl"
           }
          ],
          "scattermapbox": [
           {
            "marker": {
             "colorbar": {
              "outlinewidth": 0,
              "ticks": ""
             }
            },
            "type": "scattermapbox"
           }
          ],
          "scatterpolar": [
           {
            "marker": {
             "colorbar": {
              "outlinewidth": 0,
              "ticks": ""
             }
            },
            "type": "scatterpolar"
           }
          ],
          "scatterpolargl": [
           {
            "marker": {
             "colorbar": {
              "outlinewidth": 0,
              "ticks": ""
             }
            },
            "type": "scatterpolargl"
           }
          ],
          "scatterternary": [
           {
            "marker": {
             "colorbar": {
              "outlinewidth": 0,
              "ticks": ""
             }
            },
            "type": "scatterternary"
           }
          ],
          "surface": [
           {
            "colorbar": {
             "outlinewidth": 0,
             "ticks": ""
            },
            "colorscale": [
             [
              0,
              "#0d0887"
             ],
             [
              0.1111111111111111,
              "#46039f"
             ],
             [
              0.2222222222222222,
              "#7201a8"
             ],
             [
              0.3333333333333333,
              "#9c179e"
             ],
             [
              0.4444444444444444,
              "#bd3786"
             ],
             [
              0.5555555555555556,
              "#d8576b"
             ],
             [
              0.6666666666666666,
              "#ed7953"
             ],
             [
              0.7777777777777778,
              "#fb9f3a"
             ],
             [
              0.8888888888888888,
              "#fdca26"
             ],
             [
              1,
              "#f0f921"
             ]
            ],
            "type": "surface"
           }
          ],
          "table": [
           {
            "cells": {
             "fill": {
              "color": "#EBF0F8"
             },
             "line": {
              "color": "white"
             }
            },
            "header": {
             "fill": {
              "color": "#C8D4E3"
             },
             "line": {
              "color": "white"
             }
            },
            "type": "table"
           }
          ]
         },
         "layout": {
          "annotationdefaults": {
           "arrowcolor": "#2a3f5f",
           "arrowhead": 0,
           "arrowwidth": 1
          },
          "autotypenumbers": "strict",
          "coloraxis": {
           "colorbar": {
            "outlinewidth": 0,
            "ticks": ""
           }
          },
          "colorscale": {
           "diverging": [
            [
             0,
             "#8e0152"
            ],
            [
             0.1,
             "#c51b7d"
            ],
            [
             0.2,
             "#de77ae"
            ],
            [
             0.3,
             "#f1b6da"
            ],
            [
             0.4,
             "#fde0ef"
            ],
            [
             0.5,
             "#f7f7f7"
            ],
            [
             0.6,
             "#e6f5d0"
            ],
            [
             0.7,
             "#b8e186"
            ],
            [
             0.8,
             "#7fbc41"
            ],
            [
             0.9,
             "#4d9221"
            ],
            [
             1,
             "#276419"
            ]
           ],
           "sequential": [
            [
             0,
             "#0d0887"
            ],
            [
             0.1111111111111111,
             "#46039f"
            ],
            [
             0.2222222222222222,
             "#7201a8"
            ],
            [
             0.3333333333333333,
             "#9c179e"
            ],
            [
             0.4444444444444444,
             "#bd3786"
            ],
            [
             0.5555555555555556,
             "#d8576b"
            ],
            [
             0.6666666666666666,
             "#ed7953"
            ],
            [
             0.7777777777777778,
             "#fb9f3a"
            ],
            [
             0.8888888888888888,
             "#fdca26"
            ],
            [
             1,
             "#f0f921"
            ]
           ],
           "sequentialminus": [
            [
             0,
             "#0d0887"
            ],
            [
             0.1111111111111111,
             "#46039f"
            ],
            [
             0.2222222222222222,
             "#7201a8"
            ],
            [
             0.3333333333333333,
             "#9c179e"
            ],
            [
             0.4444444444444444,
             "#bd3786"
            ],
            [
             0.5555555555555556,
             "#d8576b"
            ],
            [
             0.6666666666666666,
             "#ed7953"
            ],
            [
             0.7777777777777778,
             "#fb9f3a"
            ],
            [
             0.8888888888888888,
             "#fdca26"
            ],
            [
             1,
             "#f0f921"
            ]
           ]
          },
          "colorway": [
           "#636efa",
           "#EF553B",
           "#00cc96",
           "#ab63fa",
           "#FFA15A",
           "#19d3f3",
           "#FF6692",
           "#B6E880",
           "#FF97FF",
           "#FECB52"
          ],
          "font": {
           "color": "#2a3f5f"
          },
          "geo": {
           "bgcolor": "white",
           "lakecolor": "white",
           "landcolor": "#E5ECF6",
           "showlakes": true,
           "showland": true,
           "subunitcolor": "white"
          },
          "hoverlabel": {
           "align": "left"
          },
          "hovermode": "closest",
          "mapbox": {
           "style": "light"
          },
          "paper_bgcolor": "white",
          "plot_bgcolor": "#E5ECF6",
          "polar": {
           "angularaxis": {
            "gridcolor": "white",
            "linecolor": "white",
            "ticks": ""
           },
           "bgcolor": "#E5ECF6",
           "radialaxis": {
            "gridcolor": "white",
            "linecolor": "white",
            "ticks": ""
           }
          },
          "scene": {
           "xaxis": {
            "backgroundcolor": "#E5ECF6",
            "gridcolor": "white",
            "gridwidth": 2,
            "linecolor": "white",
            "showbackground": true,
            "ticks": "",
            "zerolinecolor": "white"
           },
           "yaxis": {
            "backgroundcolor": "#E5ECF6",
            "gridcolor": "white",
            "gridwidth": 2,
            "linecolor": "white",
            "showbackground": true,
            "ticks": "",
            "zerolinecolor": "white"
           },
           "zaxis": {
            "backgroundcolor": "#E5ECF6",
            "gridcolor": "white",
            "gridwidth": 2,
            "linecolor": "white",
            "showbackground": true,
            "ticks": "",
            "zerolinecolor": "white"
           }
          },
          "shapedefaults": {
           "line": {
            "color": "#2a3f5f"
           }
          },
          "ternary": {
           "aaxis": {
            "gridcolor": "white",
            "linecolor": "white",
            "ticks": ""
           },
           "baxis": {
            "gridcolor": "white",
            "linecolor": "white",
            "ticks": ""
           },
           "bgcolor": "#E5ECF6",
           "caxis": {
            "gridcolor": "white",
            "linecolor": "white",
            "ticks": ""
           }
          },
          "title": {
           "x": 0.05
          },
          "xaxis": {
           "automargin": true,
           "gridcolor": "white",
           "linecolor": "white",
           "ticks": "",
           "title": {
            "standoff": 15
           },
           "zerolinecolor": "white",
           "zerolinewidth": 2
          },
          "yaxis": {
           "automargin": true,
           "gridcolor": "white",
           "linecolor": "white",
           "ticks": "",
           "title": {
            "standoff": 15
           },
           "zerolinecolor": "white",
           "zerolinewidth": 2
          }
         }
        },
        "xaxis": {
         "anchor": "y",
         "domain": [
          0,
          1
         ],
         "title": {
          "text": "인구수"
         }
        },
        "yaxis": {
         "anchor": "x",
         "domain": [
          0,
          1
         ],
         "title": {
          "text": "지점수"
         }
        }
       }
      }
     },
     "metadata": {},
     "output_type": "display_data"
    }
   ],
   "source": [
    "fig = px.scatter(df2021_sorted, x = '인구수', y = '지점수', trendline=\"ols\")\n",
    "\n",
    "fig.show()"
   ]
  },
  {
   "cell_type": "code",
   "execution_count": 24,
   "metadata": {},
   "outputs": [
    {
     "data": {
      "application/vnd.plotly.v1+json": {
       "config": {
        "plotlyServerURL": "https://plot.ly"
       },
       "data": [
        {
         "hovertemplate": "1인당_사교육비(만 원)=%{x}<br>10만명당_지점수=%{y}<extra></extra>",
         "legendgroup": "",
         "marker": {
          "color": "#636efa",
          "symbol": "circle"
         },
         "mode": "markers",
         "name": "",
         "orientation": "v",
         "showlegend": false,
         "type": "scatter",
         "x": [
          28.9,
          42.2,
          29.8,
          31.6,
          37.4,
          42.2,
          35.3,
          42.1,
          52.6,
          40.6,
          34,
          38.9,
          25.6,
          30,
          34.2,
          29.2,
          28.7
         ],
         "xaxis": "x",
         "y": [
          3.1539730203891216,
          6.306523868215185,
          4.809537767122181,
          4.667375500604482,
          3.1180902104168613,
          3.5595966516340014,
          2.36528038709503,
          4.66258665266888,
          4.075114280034463,
          6.826367253097123,
          1.4276116146911941,
          3.787566231682721,
          3.093147609503049,
          3.30152491280337,
          2.2284718477151477,
          3.079100718763213,
          3.0158226056214934
         ],
         "yaxis": "y"
        },
        {
         "hovertemplate": "<b>OLS trendline</b><br>10만명당_지점수 = 0.0776608 * 1인당_사교육비(만 원) + 0.977936<br>R<sup>2</sup>=0.151346<br><br>1인당_사교육비(만 원)=%{x}<br>10만명당_지점수=%{y} <b>(trend)</b><extra></extra>",
         "legendgroup": "",
         "marker": {
          "color": "#636efa",
          "symbol": "circle"
         },
         "mode": "lines",
         "name": "",
         "showlegend": false,
         "type": "scatter",
         "x": [
          25.6,
          28.7,
          28.9,
          29.2,
          29.8,
          30,
          31.6,
          34,
          34.2,
          35.3,
          37.4,
          38.9,
          40.6,
          42.1,
          42.2,
          42.2,
          52.6
         ],
         "xaxis": "x",
         "y": [
          2.9660532059806304,
          3.206801799402398,
          3.2223339667199316,
          3.245632217696232,
          3.292228719648832,
          3.3077608869663653,
          3.4320182255066327,
          3.618404233317033,
          3.6339364006345667,
          3.719363320881,
          3.882451077715101,
          3.9989423325966014,
          4.1309657547956355,
          4.247457009677136,
          4.255223093335903,
          4.255223093335903,
          5.062895793847639
         ],
         "yaxis": "y"
        }
       ],
       "layout": {
        "legend": {
         "tracegroupgap": 0
        },
        "margin": {
         "t": 60
        },
        "template": {
         "data": {
          "bar": [
           {
            "error_x": {
             "color": "#2a3f5f"
            },
            "error_y": {
             "color": "#2a3f5f"
            },
            "marker": {
             "line": {
              "color": "#E5ECF6",
              "width": 0.5
             },
             "pattern": {
              "fillmode": "overlay",
              "size": 10,
              "solidity": 0.2
             }
            },
            "type": "bar"
           }
          ],
          "barpolar": [
           {
            "marker": {
             "line": {
              "color": "#E5ECF6",
              "width": 0.5
             },
             "pattern": {
              "fillmode": "overlay",
              "size": 10,
              "solidity": 0.2
             }
            },
            "type": "barpolar"
           }
          ],
          "carpet": [
           {
            "aaxis": {
             "endlinecolor": "#2a3f5f",
             "gridcolor": "white",
             "linecolor": "white",
             "minorgridcolor": "white",
             "startlinecolor": "#2a3f5f"
            },
            "baxis": {
             "endlinecolor": "#2a3f5f",
             "gridcolor": "white",
             "linecolor": "white",
             "minorgridcolor": "white",
             "startlinecolor": "#2a3f5f"
            },
            "type": "carpet"
           }
          ],
          "choropleth": [
           {
            "colorbar": {
             "outlinewidth": 0,
             "ticks": ""
            },
            "type": "choropleth"
           }
          ],
          "contour": [
           {
            "colorbar": {
             "outlinewidth": 0,
             "ticks": ""
            },
            "colorscale": [
             [
              0,
              "#0d0887"
             ],
             [
              0.1111111111111111,
              "#46039f"
             ],
             [
              0.2222222222222222,
              "#7201a8"
             ],
             [
              0.3333333333333333,
              "#9c179e"
             ],
             [
              0.4444444444444444,
              "#bd3786"
             ],
             [
              0.5555555555555556,
              "#d8576b"
             ],
             [
              0.6666666666666666,
              "#ed7953"
             ],
             [
              0.7777777777777778,
              "#fb9f3a"
             ],
             [
              0.8888888888888888,
              "#fdca26"
             ],
             [
              1,
              "#f0f921"
             ]
            ],
            "type": "contour"
           }
          ],
          "contourcarpet": [
           {
            "colorbar": {
             "outlinewidth": 0,
             "ticks": ""
            },
            "type": "contourcarpet"
           }
          ],
          "heatmap": [
           {
            "colorbar": {
             "outlinewidth": 0,
             "ticks": ""
            },
            "colorscale": [
             [
              0,
              "#0d0887"
             ],
             [
              0.1111111111111111,
              "#46039f"
             ],
             [
              0.2222222222222222,
              "#7201a8"
             ],
             [
              0.3333333333333333,
              "#9c179e"
             ],
             [
              0.4444444444444444,
              "#bd3786"
             ],
             [
              0.5555555555555556,
              "#d8576b"
             ],
             [
              0.6666666666666666,
              "#ed7953"
             ],
             [
              0.7777777777777778,
              "#fb9f3a"
             ],
             [
              0.8888888888888888,
              "#fdca26"
             ],
             [
              1,
              "#f0f921"
             ]
            ],
            "type": "heatmap"
           }
          ],
          "heatmapgl": [
           {
            "colorbar": {
             "outlinewidth": 0,
             "ticks": ""
            },
            "colorscale": [
             [
              0,
              "#0d0887"
             ],
             [
              0.1111111111111111,
              "#46039f"
             ],
             [
              0.2222222222222222,
              "#7201a8"
             ],
             [
              0.3333333333333333,
              "#9c179e"
             ],
             [
              0.4444444444444444,
              "#bd3786"
             ],
             [
              0.5555555555555556,
              "#d8576b"
             ],
             [
              0.6666666666666666,
              "#ed7953"
             ],
             [
              0.7777777777777778,
              "#fb9f3a"
             ],
             [
              0.8888888888888888,
              "#fdca26"
             ],
             [
              1,
              "#f0f921"
             ]
            ],
            "type": "heatmapgl"
           }
          ],
          "histogram": [
           {
            "marker": {
             "pattern": {
              "fillmode": "overlay",
              "size": 10,
              "solidity": 0.2
             }
            },
            "type": "histogram"
           }
          ],
          "histogram2d": [
           {
            "colorbar": {
             "outlinewidth": 0,
             "ticks": ""
            },
            "colorscale": [
             [
              0,
              "#0d0887"
             ],
             [
              0.1111111111111111,
              "#46039f"
             ],
             [
              0.2222222222222222,
              "#7201a8"
             ],
             [
              0.3333333333333333,
              "#9c179e"
             ],
             [
              0.4444444444444444,
              "#bd3786"
             ],
             [
              0.5555555555555556,
              "#d8576b"
             ],
             [
              0.6666666666666666,
              "#ed7953"
             ],
             [
              0.7777777777777778,
              "#fb9f3a"
             ],
             [
              0.8888888888888888,
              "#fdca26"
             ],
             [
              1,
              "#f0f921"
             ]
            ],
            "type": "histogram2d"
           }
          ],
          "histogram2dcontour": [
           {
            "colorbar": {
             "outlinewidth": 0,
             "ticks": ""
            },
            "colorscale": [
             [
              0,
              "#0d0887"
             ],
             [
              0.1111111111111111,
              "#46039f"
             ],
             [
              0.2222222222222222,
              "#7201a8"
             ],
             [
              0.3333333333333333,
              "#9c179e"
             ],
             [
              0.4444444444444444,
              "#bd3786"
             ],
             [
              0.5555555555555556,
              "#d8576b"
             ],
             [
              0.6666666666666666,
              "#ed7953"
             ],
             [
              0.7777777777777778,
              "#fb9f3a"
             ],
             [
              0.8888888888888888,
              "#fdca26"
             ],
             [
              1,
              "#f0f921"
             ]
            ],
            "type": "histogram2dcontour"
           }
          ],
          "mesh3d": [
           {
            "colorbar": {
             "outlinewidth": 0,
             "ticks": ""
            },
            "type": "mesh3d"
           }
          ],
          "parcoords": [
           {
            "line": {
             "colorbar": {
              "outlinewidth": 0,
              "ticks": ""
             }
            },
            "type": "parcoords"
           }
          ],
          "pie": [
           {
            "automargin": true,
            "type": "pie"
           }
          ],
          "scatter": [
           {
            "fillpattern": {
             "fillmode": "overlay",
             "size": 10,
             "solidity": 0.2
            },
            "type": "scatter"
           }
          ],
          "scatter3d": [
           {
            "line": {
             "colorbar": {
              "outlinewidth": 0,
              "ticks": ""
             }
            },
            "marker": {
             "colorbar": {
              "outlinewidth": 0,
              "ticks": ""
             }
            },
            "type": "scatter3d"
           }
          ],
          "scattercarpet": [
           {
            "marker": {
             "colorbar": {
              "outlinewidth": 0,
              "ticks": ""
             }
            },
            "type": "scattercarpet"
           }
          ],
          "scattergeo": [
           {
            "marker": {
             "colorbar": {
              "outlinewidth": 0,
              "ticks": ""
             }
            },
            "type": "scattergeo"
           }
          ],
          "scattergl": [
           {
            "marker": {
             "colorbar": {
              "outlinewidth": 0,
              "ticks": ""
             }
            },
            "type": "scattergl"
           }
          ],
          "scattermapbox": [
           {
            "marker": {
             "colorbar": {
              "outlinewidth": 0,
              "ticks": ""
             }
            },
            "type": "scattermapbox"
           }
          ],
          "scatterpolar": [
           {
            "marker": {
             "colorbar": {
              "outlinewidth": 0,
              "ticks": ""
             }
            },
            "type": "scatterpolar"
           }
          ],
          "scatterpolargl": [
           {
            "marker": {
             "colorbar": {
              "outlinewidth": 0,
              "ticks": ""
             }
            },
            "type": "scatterpolargl"
           }
          ],
          "scatterternary": [
           {
            "marker": {
             "colorbar": {
              "outlinewidth": 0,
              "ticks": ""
             }
            },
            "type": "scatterternary"
           }
          ],
          "surface": [
           {
            "colorbar": {
             "outlinewidth": 0,
             "ticks": ""
            },
            "colorscale": [
             [
              0,
              "#0d0887"
             ],
             [
              0.1111111111111111,
              "#46039f"
             ],
             [
              0.2222222222222222,
              "#7201a8"
             ],
             [
              0.3333333333333333,
              "#9c179e"
             ],
             [
              0.4444444444444444,
              "#bd3786"
             ],
             [
              0.5555555555555556,
              "#d8576b"
             ],
             [
              0.6666666666666666,
              "#ed7953"
             ],
             [
              0.7777777777777778,
              "#fb9f3a"
             ],
             [
              0.8888888888888888,
              "#fdca26"
             ],
             [
              1,
              "#f0f921"
             ]
            ],
            "type": "surface"
           }
          ],
          "table": [
           {
            "cells": {
             "fill": {
              "color": "#EBF0F8"
             },
             "line": {
              "color": "white"
             }
            },
            "header": {
             "fill": {
              "color": "#C8D4E3"
             },
             "line": {
              "color": "white"
             }
            },
            "type": "table"
           }
          ]
         },
         "layout": {
          "annotationdefaults": {
           "arrowcolor": "#2a3f5f",
           "arrowhead": 0,
           "arrowwidth": 1
          },
          "autotypenumbers": "strict",
          "coloraxis": {
           "colorbar": {
            "outlinewidth": 0,
            "ticks": ""
           }
          },
          "colorscale": {
           "diverging": [
            [
             0,
             "#8e0152"
            ],
            [
             0.1,
             "#c51b7d"
            ],
            [
             0.2,
             "#de77ae"
            ],
            [
             0.3,
             "#f1b6da"
            ],
            [
             0.4,
             "#fde0ef"
            ],
            [
             0.5,
             "#f7f7f7"
            ],
            [
             0.6,
             "#e6f5d0"
            ],
            [
             0.7,
             "#b8e186"
            ],
            [
             0.8,
             "#7fbc41"
            ],
            [
             0.9,
             "#4d9221"
            ],
            [
             1,
             "#276419"
            ]
           ],
           "sequential": [
            [
             0,
             "#0d0887"
            ],
            [
             0.1111111111111111,
             "#46039f"
            ],
            [
             0.2222222222222222,
             "#7201a8"
            ],
            [
             0.3333333333333333,
             "#9c179e"
            ],
            [
             0.4444444444444444,
             "#bd3786"
            ],
            [
             0.5555555555555556,
             "#d8576b"
            ],
            [
             0.6666666666666666,
             "#ed7953"
            ],
            [
             0.7777777777777778,
             "#fb9f3a"
            ],
            [
             0.8888888888888888,
             "#fdca26"
            ],
            [
             1,
             "#f0f921"
            ]
           ],
           "sequentialminus": [
            [
             0,
             "#0d0887"
            ],
            [
             0.1111111111111111,
             "#46039f"
            ],
            [
             0.2222222222222222,
             "#7201a8"
            ],
            [
             0.3333333333333333,
             "#9c179e"
            ],
            [
             0.4444444444444444,
             "#bd3786"
            ],
            [
             0.5555555555555556,
             "#d8576b"
            ],
            [
             0.6666666666666666,
             "#ed7953"
            ],
            [
             0.7777777777777778,
             "#fb9f3a"
            ],
            [
             0.8888888888888888,
             "#fdca26"
            ],
            [
             1,
             "#f0f921"
            ]
           ]
          },
          "colorway": [
           "#636efa",
           "#EF553B",
           "#00cc96",
           "#ab63fa",
           "#FFA15A",
           "#19d3f3",
           "#FF6692",
           "#B6E880",
           "#FF97FF",
           "#FECB52"
          ],
          "font": {
           "color": "#2a3f5f"
          },
          "geo": {
           "bgcolor": "white",
           "lakecolor": "white",
           "landcolor": "#E5ECF6",
           "showlakes": true,
           "showland": true,
           "subunitcolor": "white"
          },
          "hoverlabel": {
           "align": "left"
          },
          "hovermode": "closest",
          "mapbox": {
           "style": "light"
          },
          "paper_bgcolor": "white",
          "plot_bgcolor": "#E5ECF6",
          "polar": {
           "angularaxis": {
            "gridcolor": "white",
            "linecolor": "white",
            "ticks": ""
           },
           "bgcolor": "#E5ECF6",
           "radialaxis": {
            "gridcolor": "white",
            "linecolor": "white",
            "ticks": ""
           }
          },
          "scene": {
           "xaxis": {
            "backgroundcolor": "#E5ECF6",
            "gridcolor": "white",
            "gridwidth": 2,
            "linecolor": "white",
            "showbackground": true,
            "ticks": "",
            "zerolinecolor": "white"
           },
           "yaxis": {
            "backgroundcolor": "#E5ECF6",
            "gridcolor": "white",
            "gridwidth": 2,
            "linecolor": "white",
            "showbackground": true,
            "ticks": "",
            "zerolinecolor": "white"
           },
           "zaxis": {
            "backgroundcolor": "#E5ECF6",
            "gridcolor": "white",
            "gridwidth": 2,
            "linecolor": "white",
            "showbackground": true,
            "ticks": "",
            "zerolinecolor": "white"
           }
          },
          "shapedefaults": {
           "line": {
            "color": "#2a3f5f"
           }
          },
          "ternary": {
           "aaxis": {
            "gridcolor": "white",
            "linecolor": "white",
            "ticks": ""
           },
           "baxis": {
            "gridcolor": "white",
            "linecolor": "white",
            "ticks": ""
           },
           "bgcolor": "#E5ECF6",
           "caxis": {
            "gridcolor": "white",
            "linecolor": "white",
            "ticks": ""
           }
          },
          "title": {
           "x": 0.05
          },
          "xaxis": {
           "automargin": true,
           "gridcolor": "white",
           "linecolor": "white",
           "ticks": "",
           "title": {
            "standoff": 15
           },
           "zerolinecolor": "white",
           "zerolinewidth": 2
          },
          "yaxis": {
           "automargin": true,
           "gridcolor": "white",
           "linecolor": "white",
           "ticks": "",
           "title": {
            "standoff": 15
           },
           "zerolinecolor": "white",
           "zerolinewidth": 2
          }
         }
        },
        "xaxis": {
         "anchor": "y",
         "domain": [
          0,
          1
         ],
         "title": {
          "text": "1인당_사교육비(만 원)"
         }
        },
        "yaxis": {
         "anchor": "x",
         "domain": [
          0,
          1
         ],
         "title": {
          "text": "10만명당_지점수"
         }
        }
       }
      }
     },
     "metadata": {},
     "output_type": "display_data"
    }
   ],
   "source": [
    "fig = px.scatter(df2021_sorted, x = '1인당_사교육비(만 원)', y = '10만명당_지점수', trendline=\"ols\")\n",
    "\n",
    "fig.show()"
   ]
  },
  {
   "cell_type": "code",
   "execution_count": 25,
   "metadata": {},
   "outputs": [
    {
     "data": {
      "application/vnd.plotly.v1+json": {
       "config": {
        "plotlyServerURL": "https://plot.ly"
       },
       "data": [
        {
         "hovertemplate": "1인당_개인소득(천 원)=%{x}<br>10만명당_지점수=%{y}<extra></extra>",
         "legendgroup": "",
         "marker": {
          "color": "#636efa",
          "symbol": "circle"
         },
         "mode": "markers",
         "name": "",
         "orientation": "v",
         "showlegend": false,
         "type": "scatter",
         "x": [
          21038,
          21937,
          20650,
          20667,
          22472,
          21046,
          22730,
          21352,
          25256,
          22061,
          25165,
          21317,
          20881,
          20862,
          20475,
          21262,
          21081
         ],
         "xaxis": "x",
         "y": [
          3.1539730203891216,
          6.306523868215185,
          4.809537767122181,
          4.667375500604482,
          3.1180902104168613,
          3.5595966516340014,
          2.36528038709503,
          4.66258665266888,
          4.075114280034463,
          6.826367253097123,
          1.4276116146911941,
          3.787566231682721,
          3.093147609503049,
          3.30152491280337,
          2.2284718477151477,
          3.079100718763213,
          3.0158226056214934
         ],
         "yaxis": "y"
        },
        {
         "hovertemplate": "<b>OLS trendline</b><br>10만명당_지점수 = -0.000163372 * 1인당_개인소득(천 원) + 7.29215<br>R<sup>2</sup>=0.028589<br><br>1인당_개인소득(천 원)=%{x}<br>10만명당_지점수=%{y} <b>(trend)</b><extra></extra>",
         "legendgroup": "",
         "marker": {
          "color": "#636efa",
          "symbol": "circle"
         },
         "mode": "lines",
         "name": "",
         "showlegend": false,
         "type": "scatter",
         "x": [
          20475,
          20650,
          20667,
          20862,
          20881,
          21038,
          21046,
          21081,
          21262,
          21317,
          21352,
          21937,
          22061,
          22472,
          22730,
          25165,
          25256
         ],
         "xaxis": "x",
         "y": [
          3.9471054175971108,
          3.918515316625774,
          3.9157379925314153,
          3.883880451449069,
          3.8807763833436093,
          3.8551269784721813,
          3.8538200024277773,
          3.84810198223351,
          3.8185316492288703,
          3.809546188923593,
          3.8038281687293254,
          3.708255545482285,
          3.6879974167940235,
          3.6208515225127695,
          3.5787015450807416,
          3.180890711565283,
          3.1660238590601875
         ],
         "yaxis": "y"
        }
       ],
       "layout": {
        "legend": {
         "tracegroupgap": 0
        },
        "margin": {
         "t": 60
        },
        "template": {
         "data": {
          "bar": [
           {
            "error_x": {
             "color": "#2a3f5f"
            },
            "error_y": {
             "color": "#2a3f5f"
            },
            "marker": {
             "line": {
              "color": "#E5ECF6",
              "width": 0.5
             },
             "pattern": {
              "fillmode": "overlay",
              "size": 10,
              "solidity": 0.2
             }
            },
            "type": "bar"
           }
          ],
          "barpolar": [
           {
            "marker": {
             "line": {
              "color": "#E5ECF6",
              "width": 0.5
             },
             "pattern": {
              "fillmode": "overlay",
              "size": 10,
              "solidity": 0.2
             }
            },
            "type": "barpolar"
           }
          ],
          "carpet": [
           {
            "aaxis": {
             "endlinecolor": "#2a3f5f",
             "gridcolor": "white",
             "linecolor": "white",
             "minorgridcolor": "white",
             "startlinecolor": "#2a3f5f"
            },
            "baxis": {
             "endlinecolor": "#2a3f5f",
             "gridcolor": "white",
             "linecolor": "white",
             "minorgridcolor": "white",
             "startlinecolor": "#2a3f5f"
            },
            "type": "carpet"
           }
          ],
          "choropleth": [
           {
            "colorbar": {
             "outlinewidth": 0,
             "ticks": ""
            },
            "type": "choropleth"
           }
          ],
          "contour": [
           {
            "colorbar": {
             "outlinewidth": 0,
             "ticks": ""
            },
            "colorscale": [
             [
              0,
              "#0d0887"
             ],
             [
              0.1111111111111111,
              "#46039f"
             ],
             [
              0.2222222222222222,
              "#7201a8"
             ],
             [
              0.3333333333333333,
              "#9c179e"
             ],
             [
              0.4444444444444444,
              "#bd3786"
             ],
             [
              0.5555555555555556,
              "#d8576b"
             ],
             [
              0.6666666666666666,
              "#ed7953"
             ],
             [
              0.7777777777777778,
              "#fb9f3a"
             ],
             [
              0.8888888888888888,
              "#fdca26"
             ],
             [
              1,
              "#f0f921"
             ]
            ],
            "type": "contour"
           }
          ],
          "contourcarpet": [
           {
            "colorbar": {
             "outlinewidth": 0,
             "ticks": ""
            },
            "type": "contourcarpet"
           }
          ],
          "heatmap": [
           {
            "colorbar": {
             "outlinewidth": 0,
             "ticks": ""
            },
            "colorscale": [
             [
              0,
              "#0d0887"
             ],
             [
              0.1111111111111111,
              "#46039f"
             ],
             [
              0.2222222222222222,
              "#7201a8"
             ],
             [
              0.3333333333333333,
              "#9c179e"
             ],
             [
              0.4444444444444444,
              "#bd3786"
             ],
             [
              0.5555555555555556,
              "#d8576b"
             ],
             [
              0.6666666666666666,
              "#ed7953"
             ],
             [
              0.7777777777777778,
              "#fb9f3a"
             ],
             [
              0.8888888888888888,
              "#fdca26"
             ],
             [
              1,
              "#f0f921"
             ]
            ],
            "type": "heatmap"
           }
          ],
          "heatmapgl": [
           {
            "colorbar": {
             "outlinewidth": 0,
             "ticks": ""
            },
            "colorscale": [
             [
              0,
              "#0d0887"
             ],
             [
              0.1111111111111111,
              "#46039f"
             ],
             [
              0.2222222222222222,
              "#7201a8"
             ],
             [
              0.3333333333333333,
              "#9c179e"
             ],
             [
              0.4444444444444444,
              "#bd3786"
             ],
             [
              0.5555555555555556,
              "#d8576b"
             ],
             [
              0.6666666666666666,
              "#ed7953"
             ],
             [
              0.7777777777777778,
              "#fb9f3a"
             ],
             [
              0.8888888888888888,
              "#fdca26"
             ],
             [
              1,
              "#f0f921"
             ]
            ],
            "type": "heatmapgl"
           }
          ],
          "histogram": [
           {
            "marker": {
             "pattern": {
              "fillmode": "overlay",
              "size": 10,
              "solidity": 0.2
             }
            },
            "type": "histogram"
           }
          ],
          "histogram2d": [
           {
            "colorbar": {
             "outlinewidth": 0,
             "ticks": ""
            },
            "colorscale": [
             [
              0,
              "#0d0887"
             ],
             [
              0.1111111111111111,
              "#46039f"
             ],
             [
              0.2222222222222222,
              "#7201a8"
             ],
             [
              0.3333333333333333,
              "#9c179e"
             ],
             [
              0.4444444444444444,
              "#bd3786"
             ],
             [
              0.5555555555555556,
              "#d8576b"
             ],
             [
              0.6666666666666666,
              "#ed7953"
             ],
             [
              0.7777777777777778,
              "#fb9f3a"
             ],
             [
              0.8888888888888888,
              "#fdca26"
             ],
             [
              1,
              "#f0f921"
             ]
            ],
            "type": "histogram2d"
           }
          ],
          "histogram2dcontour": [
           {
            "colorbar": {
             "outlinewidth": 0,
             "ticks": ""
            },
            "colorscale": [
             [
              0,
              "#0d0887"
             ],
             [
              0.1111111111111111,
              "#46039f"
             ],
             [
              0.2222222222222222,
              "#7201a8"
             ],
             [
              0.3333333333333333,
              "#9c179e"
             ],
             [
              0.4444444444444444,
              "#bd3786"
             ],
             [
              0.5555555555555556,
              "#d8576b"
             ],
             [
              0.6666666666666666,
              "#ed7953"
             ],
             [
              0.7777777777777778,
              "#fb9f3a"
             ],
             [
              0.8888888888888888,
              "#fdca26"
             ],
             [
              1,
              "#f0f921"
             ]
            ],
            "type": "histogram2dcontour"
           }
          ],
          "mesh3d": [
           {
            "colorbar": {
             "outlinewidth": 0,
             "ticks": ""
            },
            "type": "mesh3d"
           }
          ],
          "parcoords": [
           {
            "line": {
             "colorbar": {
              "outlinewidth": 0,
              "ticks": ""
             }
            },
            "type": "parcoords"
           }
          ],
          "pie": [
           {
            "automargin": true,
            "type": "pie"
           }
          ],
          "scatter": [
           {
            "fillpattern": {
             "fillmode": "overlay",
             "size": 10,
             "solidity": 0.2
            },
            "type": "scatter"
           }
          ],
          "scatter3d": [
           {
            "line": {
             "colorbar": {
              "outlinewidth": 0,
              "ticks": ""
             }
            },
            "marker": {
             "colorbar": {
              "outlinewidth": 0,
              "ticks": ""
             }
            },
            "type": "scatter3d"
           }
          ],
          "scattercarpet": [
           {
            "marker": {
             "colorbar": {
              "outlinewidth": 0,
              "ticks": ""
             }
            },
            "type": "scattercarpet"
           }
          ],
          "scattergeo": [
           {
            "marker": {
             "colorbar": {
              "outlinewidth": 0,
              "ticks": ""
             }
            },
            "type": "scattergeo"
           }
          ],
          "scattergl": [
           {
            "marker": {
             "colorbar": {
              "outlinewidth": 0,
              "ticks": ""
             }
            },
            "type": "scattergl"
           }
          ],
          "scattermapbox": [
           {
            "marker": {
             "colorbar": {
              "outlinewidth": 0,
              "ticks": ""
             }
            },
            "type": "scattermapbox"
           }
          ],
          "scatterpolar": [
           {
            "marker": {
             "colorbar": {
              "outlinewidth": 0,
              "ticks": ""
             }
            },
            "type": "scatterpolar"
           }
          ],
          "scatterpolargl": [
           {
            "marker": {
             "colorbar": {
              "outlinewidth": 0,
              "ticks": ""
             }
            },
            "type": "scatterpolargl"
           }
          ],
          "scatterternary": [
           {
            "marker": {
             "colorbar": {
              "outlinewidth": 0,
              "ticks": ""
             }
            },
            "type": "scatterternary"
           }
          ],
          "surface": [
           {
            "colorbar": {
             "outlinewidth": 0,
             "ticks": ""
            },
            "colorscale": [
             [
              0,
              "#0d0887"
             ],
             [
              0.1111111111111111,
              "#46039f"
             ],
             [
              0.2222222222222222,
              "#7201a8"
             ],
             [
              0.3333333333333333,
              "#9c179e"
             ],
             [
              0.4444444444444444,
              "#bd3786"
             ],
             [
              0.5555555555555556,
              "#d8576b"
             ],
             [
              0.6666666666666666,
              "#ed7953"
             ],
             [
              0.7777777777777778,
              "#fb9f3a"
             ],
             [
              0.8888888888888888,
              "#fdca26"
             ],
             [
              1,
              "#f0f921"
             ]
            ],
            "type": "surface"
           }
          ],
          "table": [
           {
            "cells": {
             "fill": {
              "color": "#EBF0F8"
             },
             "line": {
              "color": "white"
             }
            },
            "header": {
             "fill": {
              "color": "#C8D4E3"
             },
             "line": {
              "color": "white"
             }
            },
            "type": "table"
           }
          ]
         },
         "layout": {
          "annotationdefaults": {
           "arrowcolor": "#2a3f5f",
           "arrowhead": 0,
           "arrowwidth": 1
          },
          "autotypenumbers": "strict",
          "coloraxis": {
           "colorbar": {
            "outlinewidth": 0,
            "ticks": ""
           }
          },
          "colorscale": {
           "diverging": [
            [
             0,
             "#8e0152"
            ],
            [
             0.1,
             "#c51b7d"
            ],
            [
             0.2,
             "#de77ae"
            ],
            [
             0.3,
             "#f1b6da"
            ],
            [
             0.4,
             "#fde0ef"
            ],
            [
             0.5,
             "#f7f7f7"
            ],
            [
             0.6,
             "#e6f5d0"
            ],
            [
             0.7,
             "#b8e186"
            ],
            [
             0.8,
             "#7fbc41"
            ],
            [
             0.9,
             "#4d9221"
            ],
            [
             1,
             "#276419"
            ]
           ],
           "sequential": [
            [
             0,
             "#0d0887"
            ],
            [
             0.1111111111111111,
             "#46039f"
            ],
            [
             0.2222222222222222,
             "#7201a8"
            ],
            [
             0.3333333333333333,
             "#9c179e"
            ],
            [
             0.4444444444444444,
             "#bd3786"
            ],
            [
             0.5555555555555556,
             "#d8576b"
            ],
            [
             0.6666666666666666,
             "#ed7953"
            ],
            [
             0.7777777777777778,
             "#fb9f3a"
            ],
            [
             0.8888888888888888,
             "#fdca26"
            ],
            [
             1,
             "#f0f921"
            ]
           ],
           "sequentialminus": [
            [
             0,
             "#0d0887"
            ],
            [
             0.1111111111111111,
             "#46039f"
            ],
            [
             0.2222222222222222,
             "#7201a8"
            ],
            [
             0.3333333333333333,
             "#9c179e"
            ],
            [
             0.4444444444444444,
             "#bd3786"
            ],
            [
             0.5555555555555556,
             "#d8576b"
            ],
            [
             0.6666666666666666,
             "#ed7953"
            ],
            [
             0.7777777777777778,
             "#fb9f3a"
            ],
            [
             0.8888888888888888,
             "#fdca26"
            ],
            [
             1,
             "#f0f921"
            ]
           ]
          },
          "colorway": [
           "#636efa",
           "#EF553B",
           "#00cc96",
           "#ab63fa",
           "#FFA15A",
           "#19d3f3",
           "#FF6692",
           "#B6E880",
           "#FF97FF",
           "#FECB52"
          ],
          "font": {
           "color": "#2a3f5f"
          },
          "geo": {
           "bgcolor": "white",
           "lakecolor": "white",
           "landcolor": "#E5ECF6",
           "showlakes": true,
           "showland": true,
           "subunitcolor": "white"
          },
          "hoverlabel": {
           "align": "left"
          },
          "hovermode": "closest",
          "mapbox": {
           "style": "light"
          },
          "paper_bgcolor": "white",
          "plot_bgcolor": "#E5ECF6",
          "polar": {
           "angularaxis": {
            "gridcolor": "white",
            "linecolor": "white",
            "ticks": ""
           },
           "bgcolor": "#E5ECF6",
           "radialaxis": {
            "gridcolor": "white",
            "linecolor": "white",
            "ticks": ""
           }
          },
          "scene": {
           "xaxis": {
            "backgroundcolor": "#E5ECF6",
            "gridcolor": "white",
            "gridwidth": 2,
            "linecolor": "white",
            "showbackground": true,
            "ticks": "",
            "zerolinecolor": "white"
           },
           "yaxis": {
            "backgroundcolor": "#E5ECF6",
            "gridcolor": "white",
            "gridwidth": 2,
            "linecolor": "white",
            "showbackground": true,
            "ticks": "",
            "zerolinecolor": "white"
           },
           "zaxis": {
            "backgroundcolor": "#E5ECF6",
            "gridcolor": "white",
            "gridwidth": 2,
            "linecolor": "white",
            "showbackground": true,
            "ticks": "",
            "zerolinecolor": "white"
           }
          },
          "shapedefaults": {
           "line": {
            "color": "#2a3f5f"
           }
          },
          "ternary": {
           "aaxis": {
            "gridcolor": "white",
            "linecolor": "white",
            "ticks": ""
           },
           "baxis": {
            "gridcolor": "white",
            "linecolor": "white",
            "ticks": ""
           },
           "bgcolor": "#E5ECF6",
           "caxis": {
            "gridcolor": "white",
            "linecolor": "white",
            "ticks": ""
           }
          },
          "title": {
           "x": 0.05
          },
          "xaxis": {
           "automargin": true,
           "gridcolor": "white",
           "linecolor": "white",
           "ticks": "",
           "title": {
            "standoff": 15
           },
           "zerolinecolor": "white",
           "zerolinewidth": 2
          },
          "yaxis": {
           "automargin": true,
           "gridcolor": "white",
           "linecolor": "white",
           "ticks": "",
           "title": {
            "standoff": 15
           },
           "zerolinecolor": "white",
           "zerolinewidth": 2
          }
         }
        },
        "xaxis": {
         "anchor": "y",
         "domain": [
          0,
          1
         ],
         "title": {
          "text": "1인당_개인소득(천 원)"
         }
        },
        "yaxis": {
         "anchor": "x",
         "domain": [
          0,
          1
         ],
         "title": {
          "text": "10만명당_지점수"
         }
        }
       }
      }
     },
     "metadata": {},
     "output_type": "display_data"
    }
   ],
   "source": [
    "fig = px.scatter(df2021_sorted, x = '1인당_개인소득(천 원)', y = '10만명당_지점수', trendline=\"ols\")\n",
    "\n",
    "fig.show()"
   ]
  },
  {
   "cell_type": "code",
   "execution_count": 26,
   "metadata": {},
   "outputs": [
    {
     "data": {
      "text/html": [
       "<div>\n",
       "<style scoped>\n",
       "    .dataframe tbody tr th:only-of-type {\n",
       "        vertical-align: middle;\n",
       "    }\n",
       "\n",
       "    .dataframe tbody tr th {\n",
       "        vertical-align: top;\n",
       "    }\n",
       "\n",
       "    .dataframe thead th {\n",
       "        text-align: right;\n",
       "    }\n",
       "</style>\n",
       "<table border=\"1\" class=\"dataframe\">\n",
       "  <thead>\n",
       "    <tr style=\"text-align: right;\">\n",
       "      <th></th>\n",
       "      <th>시도별</th>\n",
       "      <th>1인당_개인소득(천 원)</th>\n",
       "      <th>1인당_사교육비(만 원)</th>\n",
       "      <th>지점수</th>\n",
       "      <th>인구수</th>\n",
       "      <th>10만명당_지점수</th>\n",
       "    </tr>\n",
       "  </thead>\n",
       "  <tbody>\n",
       "    <tr>\n",
       "      <th>0</th>\n",
       "      <td>강원</td>\n",
       "      <td>21038</td>\n",
       "      <td>28.9</td>\n",
       "      <td>48</td>\n",
       "      <td>1521890</td>\n",
       "      <td>3.153973</td>\n",
       "    </tr>\n",
       "    <tr>\n",
       "      <th>1</th>\n",
       "      <td>경기</td>\n",
       "      <td>21937</td>\n",
       "      <td>42.2</td>\n",
       "      <td>861</td>\n",
       "      <td>13652529</td>\n",
       "      <td>6.306524</td>\n",
       "    </tr>\n",
       "    <tr>\n",
       "      <th>2</th>\n",
       "      <td>경남</td>\n",
       "      <td>20650</td>\n",
       "      <td>29.8</td>\n",
       "      <td>159</td>\n",
       "      <td>3305931</td>\n",
       "      <td>4.809538</td>\n",
       "    </tr>\n",
       "    <tr>\n",
       "      <th>3</th>\n",
       "      <td>경북</td>\n",
       "      <td>20667</td>\n",
       "      <td>31.6</td>\n",
       "      <td>123</td>\n",
       "      <td>2635314</td>\n",
       "      <td>4.667376</td>\n",
       "    </tr>\n",
       "    <tr>\n",
       "      <th>4</th>\n",
       "      <td>광주</td>\n",
       "      <td>22472</td>\n",
       "      <td>37.4</td>\n",
       "      <td>46</td>\n",
       "      <td>1475262</td>\n",
       "      <td>3.118090</td>\n",
       "    </tr>\n",
       "    <tr>\n",
       "      <th>5</th>\n",
       "      <td>대구</td>\n",
       "      <td>21046</td>\n",
       "      <td>42.2</td>\n",
       "      <td>85</td>\n",
       "      <td>2387911</td>\n",
       "      <td>3.559597</td>\n",
       "    </tr>\n",
       "    <tr>\n",
       "      <th>6</th>\n",
       "      <td>대전</td>\n",
       "      <td>22730</td>\n",
       "      <td>35.3</td>\n",
       "      <td>35</td>\n",
       "      <td>1479740</td>\n",
       "      <td>2.365280</td>\n",
       "    </tr>\n",
       "    <tr>\n",
       "      <th>7</th>\n",
       "      <td>부산</td>\n",
       "      <td>21352</td>\n",
       "      <td>42.1</td>\n",
       "      <td>155</td>\n",
       "      <td>3324335</td>\n",
       "      <td>4.662587</td>\n",
       "    </tr>\n",
       "    <tr>\n",
       "      <th>8</th>\n",
       "      <td>서울</td>\n",
       "      <td>25256</td>\n",
       "      <td>52.6</td>\n",
       "      <td>386</td>\n",
       "      <td>9472127</td>\n",
       "      <td>4.075114</td>\n",
       "    </tr>\n",
       "    <tr>\n",
       "      <th>9</th>\n",
       "      <td>세종</td>\n",
       "      <td>22061</td>\n",
       "      <td>40.6</td>\n",
       "      <td>25</td>\n",
       "      <td>366227</td>\n",
       "      <td>6.826367</td>\n",
       "    </tr>\n",
       "    <tr>\n",
       "      <th>10</th>\n",
       "      <td>울산</td>\n",
       "      <td>25165</td>\n",
       "      <td>34.0</td>\n",
       "      <td>16</td>\n",
       "      <td>1120753</td>\n",
       "      <td>1.427612</td>\n",
       "    </tr>\n",
       "    <tr>\n",
       "      <th>11</th>\n",
       "      <td>인천</td>\n",
       "      <td>21317</td>\n",
       "      <td>38.9</td>\n",
       "      <td>112</td>\n",
       "      <td>2957044</td>\n",
       "      <td>3.787566</td>\n",
       "    </tr>\n",
       "    <tr>\n",
       "      <th>12</th>\n",
       "      <td>전남</td>\n",
       "      <td>20881</td>\n",
       "      <td>25.6</td>\n",
       "      <td>55</td>\n",
       "      <td>1778124</td>\n",
       "      <td>3.093148</td>\n",
       "    </tr>\n",
       "    <tr>\n",
       "      <th>13</th>\n",
       "      <td>전북</td>\n",
       "      <td>20862</td>\n",
       "      <td>30.0</td>\n",
       "      <td>59</td>\n",
       "      <td>1787053</td>\n",
       "      <td>3.301525</td>\n",
       "    </tr>\n",
       "    <tr>\n",
       "      <th>14</th>\n",
       "      <td>제주</td>\n",
       "      <td>20475</td>\n",
       "      <td>34.2</td>\n",
       "      <td>15</td>\n",
       "      <td>673107</td>\n",
       "      <td>2.228472</td>\n",
       "    </tr>\n",
       "    <tr>\n",
       "      <th>15</th>\n",
       "      <td>충남</td>\n",
       "      <td>21262</td>\n",
       "      <td>29.2</td>\n",
       "      <td>67</td>\n",
       "      <td>2175960</td>\n",
       "      <td>3.079101</td>\n",
       "    </tr>\n",
       "    <tr>\n",
       "      <th>16</th>\n",
       "      <td>충북</td>\n",
       "      <td>21081</td>\n",
       "      <td>28.7</td>\n",
       "      <td>49</td>\n",
       "      <td>1624764</td>\n",
       "      <td>3.015823</td>\n",
       "    </tr>\n",
       "  </tbody>\n",
       "</table>\n",
       "</div>"
      ],
      "text/plain": [
       "   시도별  1인당_개인소득(천 원)  1인당_사교육비(만 원)  지점수       인구수  10만명당_지점수\n",
       "0   강원          21038           28.9   48   1521890   3.153973\n",
       "1   경기          21937           42.2  861  13652529   6.306524\n",
       "2   경남          20650           29.8  159   3305931   4.809538\n",
       "3   경북          20667           31.6  123   2635314   4.667376\n",
       "4   광주          22472           37.4   46   1475262   3.118090\n",
       "5   대구          21046           42.2   85   2387911   3.559597\n",
       "6   대전          22730           35.3   35   1479740   2.365280\n",
       "7   부산          21352           42.1  155   3324335   4.662587\n",
       "8   서울          25256           52.6  386   9472127   4.075114\n",
       "9   세종          22061           40.6   25    366227   6.826367\n",
       "10  울산          25165           34.0   16   1120753   1.427612\n",
       "11  인천          21317           38.9  112   2957044   3.787566\n",
       "12  전남          20881           25.6   55   1778124   3.093148\n",
       "13  전북          20862           30.0   59   1787053   3.301525\n",
       "14  제주          20475           34.2   15    673107   2.228472\n",
       "15  충남          21262           29.2   67   2175960   3.079101\n",
       "16  충북          21081           28.7   49   1624764   3.015823"
      ]
     },
     "execution_count": 26,
     "metadata": {},
     "output_type": "execute_result"
    }
   ],
   "source": [
    "df2021_sorted"
   ]
  },
  {
   "cell_type": "code",
   "execution_count": 27,
   "metadata": {},
   "outputs": [
    {
     "data": {
      "application/vnd.plotly.v1+json": {
       "config": {
        "plotlyServerURL": "https://plot.ly"
       },
       "data": [
        {
         "mode": "markers",
         "type": "scatter",
         "x": [
          1521890,
          13652529,
          3305931,
          2635314,
          1475262,
          2387911,
          1479740,
          3324335,
          9472127,
          366227,
          1120753,
          2957044,
          1778124,
          1787053,
          673107,
          2175960,
          1624764
         ],
         "xaxis": "x",
         "y": [
          48,
          861,
          159,
          123,
          46,
          85,
          35,
          155,
          386,
          25,
          16,
          112,
          55,
          59,
          15,
          67,
          49
         ],
         "yaxis": "y"
        },
        {
         "mode": "markers",
         "type": "scatter",
         "x": [
          28.9,
          42.2,
          29.8,
          31.6,
          37.4,
          42.2,
          35.3,
          42.1,
          52.6,
          40.6,
          34,
          38.9,
          25.6,
          30,
          34.2,
          29.2,
          28.7
         ],
         "xaxis": "x2",
         "y": [
          3.1539730203891216,
          6.306523868215185,
          4.809537767122181,
          4.667375500604482,
          3.1180902104168613,
          3.5595966516340014,
          2.36528038709503,
          4.66258665266888,
          4.075114280034463,
          6.826367253097123,
          1.4276116146911941,
          3.787566231682721,
          3.093147609503049,
          3.30152491280337,
          2.2284718477151477,
          3.079100718763213,
          3.0158226056214934
         ],
         "yaxis": "y2"
        },
        {
         "mode": "markers",
         "type": "scatter",
         "x": [
          21038,
          21937,
          20650,
          20667,
          22472,
          21046,
          22730,
          21352,
          25256,
          22061,
          25165,
          21317,
          20881,
          20862,
          20475,
          21262,
          21081
         ],
         "xaxis": "x3",
         "y": [
          3.1539730203891216,
          6.306523868215185,
          4.809537767122181,
          4.667375500604482,
          3.1180902104168613,
          3.5595966516340014,
          2.36528038709503,
          4.66258665266888,
          4.075114280034463,
          6.826367253097123,
          1.4276116146911941,
          3.787566231682721,
          3.093147609503049,
          3.30152491280337,
          2.2284718477151477,
          3.079100718763213,
          3.0158226056214934
         ],
         "yaxis": "y3"
        }
       ],
       "layout": {
        "height": 800,
        "template": {
         "data": {
          "bar": [
           {
            "error_x": {
             "color": "#2a3f5f"
            },
            "error_y": {
             "color": "#2a3f5f"
            },
            "marker": {
             "line": {
              "color": "#E5ECF6",
              "width": 0.5
             },
             "pattern": {
              "fillmode": "overlay",
              "size": 10,
              "solidity": 0.2
             }
            },
            "type": "bar"
           }
          ],
          "barpolar": [
           {
            "marker": {
             "line": {
              "color": "#E5ECF6",
              "width": 0.5
             },
             "pattern": {
              "fillmode": "overlay",
              "size": 10,
              "solidity": 0.2
             }
            },
            "type": "barpolar"
           }
          ],
          "carpet": [
           {
            "aaxis": {
             "endlinecolor": "#2a3f5f",
             "gridcolor": "white",
             "linecolor": "white",
             "minorgridcolor": "white",
             "startlinecolor": "#2a3f5f"
            },
            "baxis": {
             "endlinecolor": "#2a3f5f",
             "gridcolor": "white",
             "linecolor": "white",
             "minorgridcolor": "white",
             "startlinecolor": "#2a3f5f"
            },
            "type": "carpet"
           }
          ],
          "choropleth": [
           {
            "colorbar": {
             "outlinewidth": 0,
             "ticks": ""
            },
            "type": "choropleth"
           }
          ],
          "contour": [
           {
            "colorbar": {
             "outlinewidth": 0,
             "ticks": ""
            },
            "colorscale": [
             [
              0,
              "#0d0887"
             ],
             [
              0.1111111111111111,
              "#46039f"
             ],
             [
              0.2222222222222222,
              "#7201a8"
             ],
             [
              0.3333333333333333,
              "#9c179e"
             ],
             [
              0.4444444444444444,
              "#bd3786"
             ],
             [
              0.5555555555555556,
              "#d8576b"
             ],
             [
              0.6666666666666666,
              "#ed7953"
             ],
             [
              0.7777777777777778,
              "#fb9f3a"
             ],
             [
              0.8888888888888888,
              "#fdca26"
             ],
             [
              1,
              "#f0f921"
             ]
            ],
            "type": "contour"
           }
          ],
          "contourcarpet": [
           {
            "colorbar": {
             "outlinewidth": 0,
             "ticks": ""
            },
            "type": "contourcarpet"
           }
          ],
          "heatmap": [
           {
            "colorbar": {
             "outlinewidth": 0,
             "ticks": ""
            },
            "colorscale": [
             [
              0,
              "#0d0887"
             ],
             [
              0.1111111111111111,
              "#46039f"
             ],
             [
              0.2222222222222222,
              "#7201a8"
             ],
             [
              0.3333333333333333,
              "#9c179e"
             ],
             [
              0.4444444444444444,
              "#bd3786"
             ],
             [
              0.5555555555555556,
              "#d8576b"
             ],
             [
              0.6666666666666666,
              "#ed7953"
             ],
             [
              0.7777777777777778,
              "#fb9f3a"
             ],
             [
              0.8888888888888888,
              "#fdca26"
             ],
             [
              1,
              "#f0f921"
             ]
            ],
            "type": "heatmap"
           }
          ],
          "heatmapgl": [
           {
            "colorbar": {
             "outlinewidth": 0,
             "ticks": ""
            },
            "colorscale": [
             [
              0,
              "#0d0887"
             ],
             [
              0.1111111111111111,
              "#46039f"
             ],
             [
              0.2222222222222222,
              "#7201a8"
             ],
             [
              0.3333333333333333,
              "#9c179e"
             ],
             [
              0.4444444444444444,
              "#bd3786"
             ],
             [
              0.5555555555555556,
              "#d8576b"
             ],
             [
              0.6666666666666666,
              "#ed7953"
             ],
             [
              0.7777777777777778,
              "#fb9f3a"
             ],
             [
              0.8888888888888888,
              "#fdca26"
             ],
             [
              1,
              "#f0f921"
             ]
            ],
            "type": "heatmapgl"
           }
          ],
          "histogram": [
           {
            "marker": {
             "pattern": {
              "fillmode": "overlay",
              "size": 10,
              "solidity": 0.2
             }
            },
            "type": "histogram"
           }
          ],
          "histogram2d": [
           {
            "colorbar": {
             "outlinewidth": 0,
             "ticks": ""
            },
            "colorscale": [
             [
              0,
              "#0d0887"
             ],
             [
              0.1111111111111111,
              "#46039f"
             ],
             [
              0.2222222222222222,
              "#7201a8"
             ],
             [
              0.3333333333333333,
              "#9c179e"
             ],
             [
              0.4444444444444444,
              "#bd3786"
             ],
             [
              0.5555555555555556,
              "#d8576b"
             ],
             [
              0.6666666666666666,
              "#ed7953"
             ],
             [
              0.7777777777777778,
              "#fb9f3a"
             ],
             [
              0.8888888888888888,
              "#fdca26"
             ],
             [
              1,
              "#f0f921"
             ]
            ],
            "type": "histogram2d"
           }
          ],
          "histogram2dcontour": [
           {
            "colorbar": {
             "outlinewidth": 0,
             "ticks": ""
            },
            "colorscale": [
             [
              0,
              "#0d0887"
             ],
             [
              0.1111111111111111,
              "#46039f"
             ],
             [
              0.2222222222222222,
              "#7201a8"
             ],
             [
              0.3333333333333333,
              "#9c179e"
             ],
             [
              0.4444444444444444,
              "#bd3786"
             ],
             [
              0.5555555555555556,
              "#d8576b"
             ],
             [
              0.6666666666666666,
              "#ed7953"
             ],
             [
              0.7777777777777778,
              "#fb9f3a"
             ],
             [
              0.8888888888888888,
              "#fdca26"
             ],
             [
              1,
              "#f0f921"
             ]
            ],
            "type": "histogram2dcontour"
           }
          ],
          "mesh3d": [
           {
            "colorbar": {
             "outlinewidth": 0,
             "ticks": ""
            },
            "type": "mesh3d"
           }
          ],
          "parcoords": [
           {
            "line": {
             "colorbar": {
              "outlinewidth": 0,
              "ticks": ""
             }
            },
            "type": "parcoords"
           }
          ],
          "pie": [
           {
            "automargin": true,
            "type": "pie"
           }
          ],
          "scatter": [
           {
            "fillpattern": {
             "fillmode": "overlay",
             "size": 10,
             "solidity": 0.2
            },
            "type": "scatter"
           }
          ],
          "scatter3d": [
           {
            "line": {
             "colorbar": {
              "outlinewidth": 0,
              "ticks": ""
             }
            },
            "marker": {
             "colorbar": {
              "outlinewidth": 0,
              "ticks": ""
             }
            },
            "type": "scatter3d"
           }
          ],
          "scattercarpet": [
           {
            "marker": {
             "colorbar": {
              "outlinewidth": 0,
              "ticks": ""
             }
            },
            "type": "scattercarpet"
           }
          ],
          "scattergeo": [
           {
            "marker": {
             "colorbar": {
              "outlinewidth": 0,
              "ticks": ""
             }
            },
            "type": "scattergeo"
           }
          ],
          "scattergl": [
           {
            "marker": {
             "colorbar": {
              "outlinewidth": 0,
              "ticks": ""
             }
            },
            "type": "scattergl"
           }
          ],
          "scattermapbox": [
           {
            "marker": {
             "colorbar": {
              "outlinewidth": 0,
              "ticks": ""
             }
            },
            "type": "scattermapbox"
           }
          ],
          "scatterpolar": [
           {
            "marker": {
             "colorbar": {
              "outlinewidth": 0,
              "ticks": ""
             }
            },
            "type": "scatterpolar"
           }
          ],
          "scatterpolargl": [
           {
            "marker": {
             "colorbar": {
              "outlinewidth": 0,
              "ticks": ""
             }
            },
            "type": "scatterpolargl"
           }
          ],
          "scatterternary": [
           {
            "marker": {
             "colorbar": {
              "outlinewidth": 0,
              "ticks": ""
             }
            },
            "type": "scatterternary"
           }
          ],
          "surface": [
           {
            "colorbar": {
             "outlinewidth": 0,
             "ticks": ""
            },
            "colorscale": [
             [
              0,
              "#0d0887"
             ],
             [
              0.1111111111111111,
              "#46039f"
             ],
             [
              0.2222222222222222,
              "#7201a8"
             ],
             [
              0.3333333333333333,
              "#9c179e"
             ],
             [
              0.4444444444444444,
              "#bd3786"
             ],
             [
              0.5555555555555556,
              "#d8576b"
             ],
             [
              0.6666666666666666,
              "#ed7953"
             ],
             [
              0.7777777777777778,
              "#fb9f3a"
             ],
             [
              0.8888888888888888,
              "#fdca26"
             ],
             [
              1,
              "#f0f921"
             ]
            ],
            "type": "surface"
           }
          ],
          "table": [
           {
            "cells": {
             "fill": {
              "color": "#EBF0F8"
             },
             "line": {
              "color": "white"
             }
            },
            "header": {
             "fill": {
              "color": "#C8D4E3"
             },
             "line": {
              "color": "white"
             }
            },
            "type": "table"
           }
          ]
         },
         "layout": {
          "annotationdefaults": {
           "arrowcolor": "#2a3f5f",
           "arrowhead": 0,
           "arrowwidth": 1
          },
          "autotypenumbers": "strict",
          "coloraxis": {
           "colorbar": {
            "outlinewidth": 0,
            "ticks": ""
           }
          },
          "colorscale": {
           "diverging": [
            [
             0,
             "#8e0152"
            ],
            [
             0.1,
             "#c51b7d"
            ],
            [
             0.2,
             "#de77ae"
            ],
            [
             0.3,
             "#f1b6da"
            ],
            [
             0.4,
             "#fde0ef"
            ],
            [
             0.5,
             "#f7f7f7"
            ],
            [
             0.6,
             "#e6f5d0"
            ],
            [
             0.7,
             "#b8e186"
            ],
            [
             0.8,
             "#7fbc41"
            ],
            [
             0.9,
             "#4d9221"
            ],
            [
             1,
             "#276419"
            ]
           ],
           "sequential": [
            [
             0,
             "#0d0887"
            ],
            [
             0.1111111111111111,
             "#46039f"
            ],
            [
             0.2222222222222222,
             "#7201a8"
            ],
            [
             0.3333333333333333,
             "#9c179e"
            ],
            [
             0.4444444444444444,
             "#bd3786"
            ],
            [
             0.5555555555555556,
             "#d8576b"
            ],
            [
             0.6666666666666666,
             "#ed7953"
            ],
            [
             0.7777777777777778,
             "#fb9f3a"
            ],
            [
             0.8888888888888888,
             "#fdca26"
            ],
            [
             1,
             "#f0f921"
            ]
           ],
           "sequentialminus": [
            [
             0,
             "#0d0887"
            ],
            [
             0.1111111111111111,
             "#46039f"
            ],
            [
             0.2222222222222222,
             "#7201a8"
            ],
            [
             0.3333333333333333,
             "#9c179e"
            ],
            [
             0.4444444444444444,
             "#bd3786"
            ],
            [
             0.5555555555555556,
             "#d8576b"
            ],
            [
             0.6666666666666666,
             "#ed7953"
            ],
            [
             0.7777777777777778,
             "#fb9f3a"
            ],
            [
             0.8888888888888888,
             "#fdca26"
            ],
            [
             1,
             "#f0f921"
            ]
           ]
          },
          "colorway": [
           "#636efa",
           "#EF553B",
           "#00cc96",
           "#ab63fa",
           "#FFA15A",
           "#19d3f3",
           "#FF6692",
           "#B6E880",
           "#FF97FF",
           "#FECB52"
          ],
          "font": {
           "color": "#2a3f5f"
          },
          "geo": {
           "bgcolor": "white",
           "lakecolor": "white",
           "landcolor": "#E5ECF6",
           "showlakes": true,
           "showland": true,
           "subunitcolor": "white"
          },
          "hoverlabel": {
           "align": "left"
          },
          "hovermode": "closest",
          "mapbox": {
           "style": "light"
          },
          "paper_bgcolor": "white",
          "plot_bgcolor": "#E5ECF6",
          "polar": {
           "angularaxis": {
            "gridcolor": "white",
            "linecolor": "white",
            "ticks": ""
           },
           "bgcolor": "#E5ECF6",
           "radialaxis": {
            "gridcolor": "white",
            "linecolor": "white",
            "ticks": ""
           }
          },
          "scene": {
           "xaxis": {
            "backgroundcolor": "#E5ECF6",
            "gridcolor": "white",
            "gridwidth": 2,
            "linecolor": "white",
            "showbackground": true,
            "ticks": "",
            "zerolinecolor": "white"
           },
           "yaxis": {
            "backgroundcolor": "#E5ECF6",
            "gridcolor": "white",
            "gridwidth": 2,
            "linecolor": "white",
            "showbackground": true,
            "ticks": "",
            "zerolinecolor": "white"
           },
           "zaxis": {
            "backgroundcolor": "#E5ECF6",
            "gridcolor": "white",
            "gridwidth": 2,
            "linecolor": "white",
            "showbackground": true,
            "ticks": "",
            "zerolinecolor": "white"
           }
          },
          "shapedefaults": {
           "line": {
            "color": "#2a3f5f"
           }
          },
          "ternary": {
           "aaxis": {
            "gridcolor": "white",
            "linecolor": "white",
            "ticks": ""
           },
           "baxis": {
            "gridcolor": "white",
            "linecolor": "white",
            "ticks": ""
           },
           "bgcolor": "#E5ECF6",
           "caxis": {
            "gridcolor": "white",
            "linecolor": "white",
            "ticks": ""
           }
          },
          "title": {
           "x": 0.05
          },
          "xaxis": {
           "automargin": true,
           "gridcolor": "white",
           "linecolor": "white",
           "ticks": "",
           "title": {
            "standoff": 15
           },
           "zerolinecolor": "white",
           "zerolinewidth": 2
          },
          "yaxis": {
           "automargin": true,
           "gridcolor": "white",
           "linecolor": "white",
           "ticks": "",
           "title": {
            "standoff": 15
           },
           "zerolinecolor": "white",
           "zerolinewidth": 2
          }
         }
        },
        "width": 1000,
        "xaxis": {
         "anchor": "y",
         "domain": [
          0,
          1
         ],
         "title": {
          "text": "인구 수"
         }
        },
        "xaxis2": {
         "anchor": "y2",
         "domain": [
          0,
          1
         ],
         "title": {
          "text": "1인당_사교육비(만 원)"
         }
        },
        "xaxis3": {
         "anchor": "y3",
         "domain": [
          0,
          1
         ],
         "title": {
          "text": "1인당_개인소득(천 원)"
         }
        },
        "yaxis": {
         "anchor": "x",
         "domain": [
          0.7333333333333333,
          1
         ],
         "title": {
          "text": "지점 수"
         }
        },
        "yaxis2": {
         "anchor": "x2",
         "domain": [
          0.36666666666666664,
          0.6333333333333333
         ],
         "title": {
          "text": "10만명당_지점수"
         }
        },
        "yaxis3": {
         "anchor": "x3",
         "domain": [
          0,
          0.26666666666666666
         ],
         "title": {
          "text": "10만명당_지점수"
         }
        }
       }
      }
     },
     "metadata": {},
     "output_type": "display_data"
    }
   ],
   "source": [
    "from plotly.subplots import make_subplots\n",
    "import plotly.graph_objects as go\n",
    "\n",
    "\n",
    "\n",
    "\n",
    "fig = make_subplots(rows = 3, cols = 1)\n",
    "\n",
    "fig.add_trace(go.Scatter(x = df2021_sorted['인구수'], y = df2021_sorted['지점수'], mode='markers'),\n",
    "              row = 1, col = 1)\n",
    "\n",
    "fig.add_trace(go.Scatter(x = df2021_sorted['1인당_사교육비(만 원)'], y = df2021_sorted['10만명당_지점수'], mode='markers'),\n",
    "              row = 2, col = 1)\n",
    "\n",
    "fig.add_trace(go.Scatter(x = df2021_sorted['1인당_개인소득(천 원)'], y = df2021_sorted['10만명당_지점수'], mode='markers'),\n",
    "              row = 3, col = 1)\n",
    "\n",
    "fig.update_layout(height=800, width=1000)\n",
    "fig.update_xaxes(title_text='인구 수', row=1, col=1)\n",
    "fig.update_yaxes(title_text='지점 수', row=1, col=1)\n",
    "fig.update_xaxes(title_text='1인당_사교육비(만 원)', row=2, col=1)\n",
    "fig.update_yaxes(title_text='10만명당_지점수', row=2, col=1)\n",
    "fig.update_xaxes(title_text='1인당_개인소득(천 원)', row=3, col=1)\n",
    "fig.update_yaxes(title_text='10만명당_지점수', row=3, col=1)\n",
    "\n",
    "fig.show()"
   ]
  },
  {
   "cell_type": "markdown",
   "metadata": {},
   "source": [
    "##### 상관계수 검정"
   ]
  },
  {
   "cell_type": "code",
   "execution_count": 28,
   "metadata": {},
   "outputs": [
    {
     "data": {
      "text/plain": [
       "SignificanceResult(statistic=0.985294117647059, pvalue=6.341615043472023e-13)"
      ]
     },
     "execution_count": 28,
     "metadata": {},
     "output_type": "execute_result"
    }
   ],
   "source": [
    "import scipy.stats as stats\n",
    "stats.spearmanr(df2021_sorted['인구수'],df2021_sorted['지점수'])"
   ]
  },
  {
   "cell_type": "code",
   "execution_count": 29,
   "metadata": {},
   "outputs": [
    {
     "data": {
      "text/plain": [
       "SignificanceResult(statistic=0.4488044988263006, pvalue=0.07075248072667742)"
      ]
     },
     "execution_count": 29,
     "metadata": {},
     "output_type": "execute_result"
    }
   ],
   "source": [
    "stats.spearmanr(df2021_sorted['1인당_사교육비(만 원)'],df2021_sorted['10만명당_지점수'])"
   ]
  },
  {
   "cell_type": "code",
   "execution_count": 30,
   "metadata": {},
   "outputs": [
    {
     "data": {
      "text/plain": [
       "SignificanceResult(statistic=-0.03186274509803922, pvalue=0.9033768447188891)"
      ]
     },
     "execution_count": 30,
     "metadata": {},
     "output_type": "execute_result"
    }
   ],
   "source": [
    "stats.spearmanr(df2021_sorted['1인당_개인소득(천 원)'],df2021_sorted['10만명당_지점수'])"
   ]
  },
  {
   "cell_type": "markdown",
   "metadata": {},
   "source": [
    "### 22년 시군구별 인구 수 대비 지점 수"
   ]
  },
  {
   "cell_type": "code",
   "execution_count": 66,
   "metadata": {},
   "outputs": [],
   "source": [
    "pop_2022 = pd.read_csv('./data/시군구/시군구_인구_2022.csv', encoding = 'cp949').drop(index = [0,1]).reset_index(drop=True)"
   ]
  },
  {
   "cell_type": "code",
   "execution_count": 67,
   "metadata": {},
   "outputs": [
    {
     "data": {
      "text/html": [
       "<div>\n",
       "<style scoped>\n",
       "    .dataframe tbody tr th:only-of-type {\n",
       "        vertical-align: middle;\n",
       "    }\n",
       "\n",
       "    .dataframe tbody tr th {\n",
       "        vertical-align: top;\n",
       "    }\n",
       "\n",
       "    .dataframe thead th {\n",
       "        text-align: right;\n",
       "    }\n",
       "</style>\n",
       "<table border=\"1\" class=\"dataframe\">\n",
       "  <thead>\n",
       "    <tr style=\"text-align: right;\">\n",
       "      <th></th>\n",
       "      <th>행정구역(시군구)별</th>\n",
       "      <th>2022</th>\n",
       "    </tr>\n",
       "  </thead>\n",
       "  <tbody>\n",
       "    <tr>\n",
       "      <th>0</th>\n",
       "      <td>종로구</td>\n",
       "      <td>140477</td>\n",
       "    </tr>\n",
       "    <tr>\n",
       "      <th>1</th>\n",
       "      <td>중구</td>\n",
       "      <td>119206.5</td>\n",
       "    </tr>\n",
       "    <tr>\n",
       "      <th>2</th>\n",
       "      <td>용산구</td>\n",
       "      <td>215891</td>\n",
       "    </tr>\n",
       "    <tr>\n",
       "      <th>3</th>\n",
       "      <td>성동구</td>\n",
       "      <td>280685</td>\n",
       "    </tr>\n",
       "    <tr>\n",
       "      <th>4</th>\n",
       "      <td>광진구</td>\n",
       "      <td>335712.5</td>\n",
       "    </tr>\n",
       "    <tr>\n",
       "      <th>...</th>\n",
       "      <td>...</td>\n",
       "      <td>...</td>\n",
       "    </tr>\n",
       "    <tr>\n",
       "      <th>224</th>\n",
       "      <td>함양군</td>\n",
       "      <td>37851</td>\n",
       "    </tr>\n",
       "    <tr>\n",
       "      <th>225</th>\n",
       "      <td>거창군</td>\n",
       "      <td>60550.5</td>\n",
       "    </tr>\n",
       "    <tr>\n",
       "      <th>226</th>\n",
       "      <td>합천군</td>\n",
       "      <td>42252.5</td>\n",
       "    </tr>\n",
       "    <tr>\n",
       "      <th>227</th>\n",
       "      <td>제주시</td>\n",
       "      <td>490397</td>\n",
       "    </tr>\n",
       "    <tr>\n",
       "      <th>228</th>\n",
       "      <td>서귀포시</td>\n",
       "      <td>183317</td>\n",
       "    </tr>\n",
       "  </tbody>\n",
       "</table>\n",
       "<p>229 rows × 2 columns</p>\n",
       "</div>"
      ],
      "text/plain": [
       "    행정구역(시군구)별      2022\n",
       "0          종로구    140477\n",
       "1           중구  119206.5\n",
       "2          용산구    215891\n",
       "3          성동구    280685\n",
       "4          광진구  335712.5\n",
       "..         ...       ...\n",
       "224        함양군     37851\n",
       "225        거창군   60550.5\n",
       "226        합천군   42252.5\n",
       "227        제주시    490397\n",
       "228       서귀포시    183317\n",
       "\n",
       "[229 rows x 2 columns]"
      ]
     },
     "execution_count": 67,
     "metadata": {},
     "output_type": "execute_result"
    }
   ],
   "source": [
    "pop_2022"
   ]
  },
  {
   "cell_type": "code",
   "execution_count": 68,
   "metadata": {},
   "outputs": [],
   "source": [
    "pop_2022['시도'] = 0"
   ]
  },
  {
   "cell_type": "code",
   "execution_count": 69,
   "metadata": {},
   "outputs": [],
   "source": [
    "pop_2022['시도'][:25] = '서울'\n",
    "pop_2022['시도'][25:41] = '부산'\n",
    "pop_2022['시도'][41:49] = '대구'\n",
    "pop_2022['시도'][49:59] = '인천'\n",
    "pop_2022['시도'][59:64] = '광주'\n",
    "pop_2022['시도'][64:69] = '대전'\n",
    "pop_2022['시도'][69:74] = '울산'\n",
    "pop_2022['시도'][74:75] = '세종'\n",
    "pop_2022['시도'][75:106] = '경기'\n",
    "pop_2022['시도'][106:124] = '강원'\n",
    "pop_2022['시도'][124:135] = '충북'\n",
    "pop_2022['시도'][135:150] = '충남'\n",
    "pop_2022['시도'][150:164] = '전북'\n",
    "pop_2022['시도'][164:186] = '전남'\n",
    "pop_2022['시도'][186:209] = '경북'\n",
    "pop_2022['시도'][209:227] = '경남'\n",
    "pop_2022['시도'][227:] = '제주'"
   ]
  },
  {
   "cell_type": "code",
   "execution_count": 70,
   "metadata": {},
   "outputs": [
    {
     "data": {
      "text/html": [
       "<div>\n",
       "<style scoped>\n",
       "    .dataframe tbody tr th:only-of-type {\n",
       "        vertical-align: middle;\n",
       "    }\n",
       "\n",
       "    .dataframe tbody tr th {\n",
       "        vertical-align: top;\n",
       "    }\n",
       "\n",
       "    .dataframe thead th {\n",
       "        text-align: right;\n",
       "    }\n",
       "</style>\n",
       "<table border=\"1\" class=\"dataframe\">\n",
       "  <thead>\n",
       "    <tr style=\"text-align: right;\">\n",
       "      <th></th>\n",
       "      <th>행정구역(시군구)별</th>\n",
       "      <th>2022</th>\n",
       "      <th>시도</th>\n",
       "    </tr>\n",
       "  </thead>\n",
       "  <tbody>\n",
       "    <tr>\n",
       "      <th>0</th>\n",
       "      <td>종로구</td>\n",
       "      <td>140477</td>\n",
       "      <td>서울</td>\n",
       "    </tr>\n",
       "    <tr>\n",
       "      <th>1</th>\n",
       "      <td>중구</td>\n",
       "      <td>119206.5</td>\n",
       "      <td>서울</td>\n",
       "    </tr>\n",
       "    <tr>\n",
       "      <th>2</th>\n",
       "      <td>용산구</td>\n",
       "      <td>215891</td>\n",
       "      <td>서울</td>\n",
       "    </tr>\n",
       "    <tr>\n",
       "      <th>3</th>\n",
       "      <td>성동구</td>\n",
       "      <td>280685</td>\n",
       "      <td>서울</td>\n",
       "    </tr>\n",
       "    <tr>\n",
       "      <th>4</th>\n",
       "      <td>광진구</td>\n",
       "      <td>335712.5</td>\n",
       "      <td>서울</td>\n",
       "    </tr>\n",
       "    <tr>\n",
       "      <th>...</th>\n",
       "      <td>...</td>\n",
       "      <td>...</td>\n",
       "      <td>...</td>\n",
       "    </tr>\n",
       "    <tr>\n",
       "      <th>224</th>\n",
       "      <td>함양군</td>\n",
       "      <td>37851</td>\n",
       "      <td>경남</td>\n",
       "    </tr>\n",
       "    <tr>\n",
       "      <th>225</th>\n",
       "      <td>거창군</td>\n",
       "      <td>60550.5</td>\n",
       "      <td>경남</td>\n",
       "    </tr>\n",
       "    <tr>\n",
       "      <th>226</th>\n",
       "      <td>합천군</td>\n",
       "      <td>42252.5</td>\n",
       "      <td>경남</td>\n",
       "    </tr>\n",
       "    <tr>\n",
       "      <th>227</th>\n",
       "      <td>제주시</td>\n",
       "      <td>490397</td>\n",
       "      <td>제주</td>\n",
       "    </tr>\n",
       "    <tr>\n",
       "      <th>228</th>\n",
       "      <td>서귀포시</td>\n",
       "      <td>183317</td>\n",
       "      <td>제주</td>\n",
       "    </tr>\n",
       "  </tbody>\n",
       "</table>\n",
       "<p>229 rows × 3 columns</p>\n",
       "</div>"
      ],
      "text/plain": [
       "    행정구역(시군구)별      2022  시도\n",
       "0          종로구    140477  서울\n",
       "1           중구  119206.5  서울\n",
       "2          용산구    215891  서울\n",
       "3          성동구    280685  서울\n",
       "4          광진구  335712.5  서울\n",
       "..         ...       ...  ..\n",
       "224        함양군     37851  경남\n",
       "225        거창군   60550.5  경남\n",
       "226        합천군   42252.5  경남\n",
       "227        제주시    490397  제주\n",
       "228       서귀포시    183317  제주\n",
       "\n",
       "[229 rows x 3 columns]"
      ]
     },
     "execution_count": 70,
     "metadata": {},
     "output_type": "execute_result"
    }
   ],
   "source": [
    "pop_2022"
   ]
  },
  {
   "cell_type": "code",
   "execution_count": 71,
   "metadata": {},
   "outputs": [],
   "source": [
    "# 통합창원시로 변경된 도시명을 창원시로.\n",
    "pop_2022['행정구역(시군구)별'] = pop_2022['행정구역(시군구)별'].apply(lambda x: '창원시' if x == '통합창원시' else  x)\n",
    "\n",
    "# 컬럼명 변경\n",
    "pop_2022 = pop_2022.rename(columns = {'행정구역(시군구)별':'시군구', '2022': '인구'})\n",
    "\n",
    "# 시도명과 시군구명을 합친 지역 컬럼 생성\n",
    "pop_2022['지역'] = pop_2022['시도'] + ' ' + pop_2022['시군구']"
   ]
  },
  {
   "cell_type": "code",
   "execution_count": 72,
   "metadata": {},
   "outputs": [],
   "source": [
    "# 컬럼 순서 변경\n",
    "pop_2022 = pop_2022[['시도','시군구','지역','인구']]\n",
    "\n",
    "# 인구에 소수 제거\n",
    "pop_2022['인구'] = pop_2022['인구'].apply(lambda x: round(float(x)))"
   ]
  },
  {
   "cell_type": "code",
   "execution_count": 73,
   "metadata": {},
   "outputs": [
    {
     "data": {
      "text/html": [
       "<div>\n",
       "<style scoped>\n",
       "    .dataframe tbody tr th:only-of-type {\n",
       "        vertical-align: middle;\n",
       "    }\n",
       "\n",
       "    .dataframe tbody tr th {\n",
       "        vertical-align: top;\n",
       "    }\n",
       "\n",
       "    .dataframe thead th {\n",
       "        text-align: right;\n",
       "    }\n",
       "</style>\n",
       "<table border=\"1\" class=\"dataframe\">\n",
       "  <thead>\n",
       "    <tr style=\"text-align: right;\">\n",
       "      <th></th>\n",
       "      <th>시도</th>\n",
       "      <th>시군구</th>\n",
       "      <th>지역</th>\n",
       "      <th>인구</th>\n",
       "    </tr>\n",
       "  </thead>\n",
       "  <tbody>\n",
       "    <tr>\n",
       "      <th>0</th>\n",
       "      <td>서울</td>\n",
       "      <td>종로구</td>\n",
       "      <td>서울 종로구</td>\n",
       "      <td>140477</td>\n",
       "    </tr>\n",
       "    <tr>\n",
       "      <th>1</th>\n",
       "      <td>서울</td>\n",
       "      <td>중구</td>\n",
       "      <td>서울 중구</td>\n",
       "      <td>119206</td>\n",
       "    </tr>\n",
       "    <tr>\n",
       "      <th>2</th>\n",
       "      <td>서울</td>\n",
       "      <td>용산구</td>\n",
       "      <td>서울 용산구</td>\n",
       "      <td>215891</td>\n",
       "    </tr>\n",
       "    <tr>\n",
       "      <th>3</th>\n",
       "      <td>서울</td>\n",
       "      <td>성동구</td>\n",
       "      <td>서울 성동구</td>\n",
       "      <td>280685</td>\n",
       "    </tr>\n",
       "    <tr>\n",
       "      <th>4</th>\n",
       "      <td>서울</td>\n",
       "      <td>광진구</td>\n",
       "      <td>서울 광진구</td>\n",
       "      <td>335712</td>\n",
       "    </tr>\n",
       "    <tr>\n",
       "      <th>...</th>\n",
       "      <td>...</td>\n",
       "      <td>...</td>\n",
       "      <td>...</td>\n",
       "      <td>...</td>\n",
       "    </tr>\n",
       "    <tr>\n",
       "      <th>224</th>\n",
       "      <td>경남</td>\n",
       "      <td>함양군</td>\n",
       "      <td>경남 함양군</td>\n",
       "      <td>37851</td>\n",
       "    </tr>\n",
       "    <tr>\n",
       "      <th>225</th>\n",
       "      <td>경남</td>\n",
       "      <td>거창군</td>\n",
       "      <td>경남 거창군</td>\n",
       "      <td>60550</td>\n",
       "    </tr>\n",
       "    <tr>\n",
       "      <th>226</th>\n",
       "      <td>경남</td>\n",
       "      <td>합천군</td>\n",
       "      <td>경남 합천군</td>\n",
       "      <td>42252</td>\n",
       "    </tr>\n",
       "    <tr>\n",
       "      <th>227</th>\n",
       "      <td>제주</td>\n",
       "      <td>제주시</td>\n",
       "      <td>제주 제주시</td>\n",
       "      <td>490397</td>\n",
       "    </tr>\n",
       "    <tr>\n",
       "      <th>228</th>\n",
       "      <td>제주</td>\n",
       "      <td>서귀포시</td>\n",
       "      <td>제주 서귀포시</td>\n",
       "      <td>183317</td>\n",
       "    </tr>\n",
       "  </tbody>\n",
       "</table>\n",
       "<p>229 rows × 4 columns</p>\n",
       "</div>"
      ],
      "text/plain": [
       "     시도   시군구       지역      인구\n",
       "0    서울   종로구   서울 종로구  140477\n",
       "1    서울    중구    서울 중구  119206\n",
       "2    서울   용산구   서울 용산구  215891\n",
       "3    서울   성동구   서울 성동구  280685\n",
       "4    서울   광진구   서울 광진구  335712\n",
       "..   ..   ...      ...     ...\n",
       "224  경남   함양군   경남 함양군   37851\n",
       "225  경남   거창군   경남 거창군   60550\n",
       "226  경남   합천군   경남 합천군   42252\n",
       "227  제주   제주시   제주 제주시  490397\n",
       "228  제주  서귀포시  제주 서귀포시  183317\n",
       "\n",
       "[229 rows x 4 columns]"
      ]
     },
     "execution_count": 73,
     "metadata": {},
     "output_type": "execute_result"
    }
   ],
   "source": [
    "pop_2022"
   ]
  },
  {
   "cell_type": "code",
   "execution_count": 74,
   "metadata": {},
   "outputs": [],
   "source": [
    "hme2 = hme.copy()"
   ]
  },
  {
   "cell_type": "code",
   "execution_count": 75,
   "metadata": {},
   "outputs": [],
   "source": [
    "for i in range(len(hme2)):\n",
    "    if hme2['시도'][i] == '세종':\n",
    "        hme2['시군구'][i] = '세종시'\n",
    "    else:\n",
    "        pass"
   ]
  },
  {
   "cell_type": "code",
   "execution_count": 76,
   "metadata": {},
   "outputs": [
    {
     "data": {
      "text/html": [
       "<div>\n",
       "<style scoped>\n",
       "    .dataframe tbody tr th:only-of-type {\n",
       "        vertical-align: middle;\n",
       "    }\n",
       "\n",
       "    .dataframe tbody tr th {\n",
       "        vertical-align: top;\n",
       "    }\n",
       "\n",
       "    .dataframe thead th {\n",
       "        text-align: right;\n",
       "    }\n",
       "</style>\n",
       "<table border=\"1\" class=\"dataframe\">\n",
       "  <thead>\n",
       "    <tr style=\"text-align: right;\">\n",
       "      <th></th>\n",
       "      <th>지점명</th>\n",
       "      <th>주소</th>\n",
       "      <th>시도</th>\n",
       "      <th>시군구</th>\n",
       "      <th>지역</th>\n",
       "    </tr>\n",
       "  </thead>\n",
       "  <tbody>\n",
       "    <tr>\n",
       "      <th>0</th>\n",
       "      <td>효천점</td>\n",
       "      <td>전북 전주시 완산구 효천중앙로 57 (효자동2가, 모악빌딩)</td>\n",
       "      <td>전북</td>\n",
       "      <td>전주시</td>\n",
       "      <td>전북 전주시</td>\n",
       "    </tr>\n",
       "    <tr>\n",
       "      <th>1</th>\n",
       "      <td>효천우미린2차점</td>\n",
       "      <td>전북 전주시 완산구 효천서로 20</td>\n",
       "      <td>전북</td>\n",
       "      <td>전주시</td>\n",
       "      <td>전북 전주시</td>\n",
       "    </tr>\n",
       "    <tr>\n",
       "      <th>2</th>\n",
       "      <td>효천연세수학점</td>\n",
       "      <td>전북 전주시 완산구 효천서로 20</td>\n",
       "      <td>전북</td>\n",
       "      <td>전주시</td>\n",
       "      <td>전북 전주시</td>\n",
       "    </tr>\n",
       "    <tr>\n",
       "      <th>3</th>\n",
       "      <td>효자포스코</td>\n",
       "      <td>전북 전주시 완산구 봉곡로 132</td>\n",
       "      <td>전북</td>\n",
       "      <td>전주시</td>\n",
       "      <td>전북 전주시</td>\n",
       "    </tr>\n",
       "    <tr>\n",
       "      <th>4</th>\n",
       "      <td>효자세븐팰리스점</td>\n",
       "      <td>전북 전주시 완산구 호암로 75-11 (효자동2가, 7단지아파트상가)</td>\n",
       "      <td>전북</td>\n",
       "      <td>전주시</td>\n",
       "      <td>전북 전주시</td>\n",
       "    </tr>\n",
       "    <tr>\n",
       "      <th>...</th>\n",
       "      <td>...</td>\n",
       "      <td>...</td>\n",
       "      <td>...</td>\n",
       "      <td>...</td>\n",
       "      <td>...</td>\n",
       "    </tr>\n",
       "    <tr>\n",
       "      <th>2291</th>\n",
       "      <td>sk view</td>\n",
       "      <td>서울 영등포구 여의대방로35가길 19 (신길동, 보라매 SK VIEW)</td>\n",
       "      <td>서울</td>\n",
       "      <td>영등포구</td>\n",
       "      <td>서울 영등포구</td>\n",
       "    </tr>\n",
       "    <tr>\n",
       "      <th>2292</th>\n",
       "      <td>DMC스마트해법학원</td>\n",
       "      <td>서울 서대문구 증가로 150 (남가좌동)</td>\n",
       "      <td>서울</td>\n",
       "      <td>서대문구</td>\n",
       "      <td>서울 서대문구</td>\n",
       "    </tr>\n",
       "    <tr>\n",
       "      <th>2293</th>\n",
       "      <td>스마트해법수학 왕지점</td>\n",
       "      <td>전남 순천시 연동남길 39 (조례동, 서영옥머리마당)</td>\n",
       "      <td>전남</td>\n",
       "      <td>순천시</td>\n",
       "      <td>전남 순천시</td>\n",
       "    </tr>\n",
       "    <tr>\n",
       "      <th>2294</th>\n",
       "      <td>스마트해법 북아현점</td>\n",
       "      <td>서울 서대문구 북아현동 180-27</td>\n",
       "      <td>서울</td>\n",
       "      <td>서대문구</td>\n",
       "      <td>서울 서대문구</td>\n",
       "    </tr>\n",
       "    <tr>\n",
       "      <th>2295</th>\n",
       "      <td>수원 광교SK레이크점</td>\n",
       "      <td>경기 수원시 영통구 법조로 25 (하동, 광교 SK VIEW Lake)</td>\n",
       "      <td>경기</td>\n",
       "      <td>수원시</td>\n",
       "      <td>경기 수원시</td>\n",
       "    </tr>\n",
       "  </tbody>\n",
       "</table>\n",
       "<p>2296 rows × 5 columns</p>\n",
       "</div>"
      ],
      "text/plain": [
       "              지점명                                       주소  시도   시군구       지역\n",
       "0             효천점        전북 전주시 완산구 효천중앙로 57 (효자동2가, 모악빌딩)  전북   전주시   전북 전주시\n",
       "1        효천우미린2차점                       전북 전주시 완산구 효천서로 20  전북   전주시   전북 전주시\n",
       "2         효천연세수학점                       전북 전주시 완산구 효천서로 20  전북   전주시   전북 전주시\n",
       "3           효자포스코                       전북 전주시 완산구 봉곡로 132  전북   전주시   전북 전주시\n",
       "4        효자세븐팰리스점   전북 전주시 완산구 호암로 75-11 (효자동2가, 7단지아파트상가)  전북   전주시   전북 전주시\n",
       "...           ...                                      ...  ..   ...      ...\n",
       "2291      sk view  서울 영등포구 여의대방로35가길 19 (신길동, 보라매 SK VIEW)  서울  영등포구  서울 영등포구\n",
       "2292   DMC스마트해법학원                   서울 서대문구 증가로 150 (남가좌동)  서울  서대문구  서울 서대문구\n",
       "2293  스마트해법수학 왕지점            전남 순천시 연동남길 39 (조례동, 서영옥머리마당)  전남   순천시   전남 순천시\n",
       "2294   스마트해법 북아현점                      서울 서대문구 북아현동 180-27  서울  서대문구  서울 서대문구\n",
       "2295  수원 광교SK레이크점  경기 수원시 영통구 법조로 25 (하동, 광교 SK VIEW Lake)  경기   수원시   경기 수원시\n",
       "\n",
       "[2296 rows x 5 columns]"
      ]
     },
     "execution_count": 76,
     "metadata": {},
     "output_type": "execute_result"
    }
   ],
   "source": [
    "hme2['지역'] = hme2['시도'] + ' ' + hme2['시군구']\n",
    "hme2"
   ]
  },
  {
   "cell_type": "code",
   "execution_count": 77,
   "metadata": {},
   "outputs": [],
   "source": [
    "pop_2022['해법수학_지점수'] = 0"
   ]
  },
  {
   "cell_type": "code",
   "execution_count": 78,
   "metadata": {},
   "outputs": [],
   "source": [
    "for i in range(len(hme2)):\n",
    "    for j in range(len(pop_2022)):\n",
    "        if hme2.iloc[i,4] == pop_2022.iloc[j,2]:\n",
    "            pop_2022.iloc[j, 4] += 1"
   ]
  },
  {
   "cell_type": "code",
   "execution_count": 79,
   "metadata": {},
   "outputs": [],
   "source": [
    "Competitors = pd.read_csv('./data/경쟁사.csv')"
   ]
  },
  {
   "cell_type": "code",
   "execution_count": 80,
   "metadata": {},
   "outputs": [],
   "source": [
    "pop_2022['경쟁사_지점수'] = 0"
   ]
  },
  {
   "cell_type": "code",
   "execution_count": 81,
   "metadata": {},
   "outputs": [],
   "source": [
    "for i in range(len(Competitors)):\n",
    "    for j in range(len(pop_2022)):\n",
    "        if Competitors.iloc[i, 3] == pop_2022.iloc[j, 2]:\n",
    "            pop_2022.iloc[j, 5] += 1"
   ]
  },
  {
   "cell_type": "code",
   "execution_count": 82,
   "metadata": {},
   "outputs": [
    {
     "data": {
      "text/html": [
       "<div>\n",
       "<style scoped>\n",
       "    .dataframe tbody tr th:only-of-type {\n",
       "        vertical-align: middle;\n",
       "    }\n",
       "\n",
       "    .dataframe tbody tr th {\n",
       "        vertical-align: top;\n",
       "    }\n",
       "\n",
       "    .dataframe thead th {\n",
       "        text-align: right;\n",
       "    }\n",
       "</style>\n",
       "<table border=\"1\" class=\"dataframe\">\n",
       "  <thead>\n",
       "    <tr style=\"text-align: right;\">\n",
       "      <th></th>\n",
       "      <th>시도</th>\n",
       "      <th>시군구</th>\n",
       "      <th>지역</th>\n",
       "      <th>인구</th>\n",
       "      <th>해법수학_지점수</th>\n",
       "      <th>경쟁사_지점수</th>\n",
       "    </tr>\n",
       "  </thead>\n",
       "  <tbody>\n",
       "    <tr>\n",
       "      <th>0</th>\n",
       "      <td>서울</td>\n",
       "      <td>종로구</td>\n",
       "      <td>서울 종로구</td>\n",
       "      <td>140477</td>\n",
       "      <td>2</td>\n",
       "      <td>1</td>\n",
       "    </tr>\n",
       "    <tr>\n",
       "      <th>1</th>\n",
       "      <td>서울</td>\n",
       "      <td>중구</td>\n",
       "      <td>서울 중구</td>\n",
       "      <td>119206</td>\n",
       "      <td>3</td>\n",
       "      <td>0</td>\n",
       "    </tr>\n",
       "    <tr>\n",
       "      <th>2</th>\n",
       "      <td>서울</td>\n",
       "      <td>용산구</td>\n",
       "      <td>서울 용산구</td>\n",
       "      <td>215891</td>\n",
       "      <td>4</td>\n",
       "      <td>1</td>\n",
       "    </tr>\n",
       "    <tr>\n",
       "      <th>3</th>\n",
       "      <td>서울</td>\n",
       "      <td>성동구</td>\n",
       "      <td>서울 성동구</td>\n",
       "      <td>280685</td>\n",
       "      <td>14</td>\n",
       "      <td>0</td>\n",
       "    </tr>\n",
       "    <tr>\n",
       "      <th>4</th>\n",
       "      <td>서울</td>\n",
       "      <td>광진구</td>\n",
       "      <td>서울 광진구</td>\n",
       "      <td>335712</td>\n",
       "      <td>11</td>\n",
       "      <td>5</td>\n",
       "    </tr>\n",
       "    <tr>\n",
       "      <th>...</th>\n",
       "      <td>...</td>\n",
       "      <td>...</td>\n",
       "      <td>...</td>\n",
       "      <td>...</td>\n",
       "      <td>...</td>\n",
       "      <td>...</td>\n",
       "    </tr>\n",
       "    <tr>\n",
       "      <th>224</th>\n",
       "      <td>경남</td>\n",
       "      <td>함양군</td>\n",
       "      <td>경남 함양군</td>\n",
       "      <td>37851</td>\n",
       "      <td>0</td>\n",
       "      <td>0</td>\n",
       "    </tr>\n",
       "    <tr>\n",
       "      <th>225</th>\n",
       "      <td>경남</td>\n",
       "      <td>거창군</td>\n",
       "      <td>경남 거창군</td>\n",
       "      <td>60550</td>\n",
       "      <td>1</td>\n",
       "      <td>1</td>\n",
       "    </tr>\n",
       "    <tr>\n",
       "      <th>226</th>\n",
       "      <td>경남</td>\n",
       "      <td>합천군</td>\n",
       "      <td>경남 합천군</td>\n",
       "      <td>42252</td>\n",
       "      <td>0</td>\n",
       "      <td>1</td>\n",
       "    </tr>\n",
       "    <tr>\n",
       "      <th>227</th>\n",
       "      <td>제주</td>\n",
       "      <td>제주시</td>\n",
       "      <td>제주 제주시</td>\n",
       "      <td>490397</td>\n",
       "      <td>10</td>\n",
       "      <td>13</td>\n",
       "    </tr>\n",
       "    <tr>\n",
       "      <th>228</th>\n",
       "      <td>제주</td>\n",
       "      <td>서귀포시</td>\n",
       "      <td>제주 서귀포시</td>\n",
       "      <td>183317</td>\n",
       "      <td>5</td>\n",
       "      <td>2</td>\n",
       "    </tr>\n",
       "  </tbody>\n",
       "</table>\n",
       "<p>229 rows × 6 columns</p>\n",
       "</div>"
      ],
      "text/plain": [
       "     시도   시군구       지역      인구  해법수학_지점수  경쟁사_지점수\n",
       "0    서울   종로구   서울 종로구  140477         2        1\n",
       "1    서울    중구    서울 중구  119206         3        0\n",
       "2    서울   용산구   서울 용산구  215891         4        1\n",
       "3    서울   성동구   서울 성동구  280685        14        0\n",
       "4    서울   광진구   서울 광진구  335712        11        5\n",
       "..   ..   ...      ...     ...       ...      ...\n",
       "224  경남   함양군   경남 함양군   37851         0        0\n",
       "225  경남   거창군   경남 거창군   60550         1        1\n",
       "226  경남   합천군   경남 합천군   42252         0        1\n",
       "227  제주   제주시   제주 제주시  490397        10       13\n",
       "228  제주  서귀포시  제주 서귀포시  183317         5        2\n",
       "\n",
       "[229 rows x 6 columns]"
      ]
     },
     "execution_count": 82,
     "metadata": {},
     "output_type": "execute_result"
    }
   ],
   "source": [
    "pop_2022"
   ]
  },
  {
   "cell_type": "code",
   "execution_count": 83,
   "metadata": {},
   "outputs": [],
   "source": [
    "pop_hme0 = pop_2022[(pop_2022['해법수학_지점수']==0) & (pop_2022['경쟁사_지점수']!=0)]"
   ]
  },
  {
   "cell_type": "code",
   "execution_count": 84,
   "metadata": {},
   "outputs": [
    {
     "data": {
      "text/html": [
       "<div>\n",
       "<style scoped>\n",
       "    .dataframe tbody tr th:only-of-type {\n",
       "        vertical-align: middle;\n",
       "    }\n",
       "\n",
       "    .dataframe tbody tr th {\n",
       "        vertical-align: top;\n",
       "    }\n",
       "\n",
       "    .dataframe thead th {\n",
       "        text-align: right;\n",
       "    }\n",
       "</style>\n",
       "<table border=\"1\" class=\"dataframe\">\n",
       "  <thead>\n",
       "    <tr style=\"text-align: right;\">\n",
       "      <th></th>\n",
       "      <th>시도</th>\n",
       "      <th>시군구</th>\n",
       "      <th>지역</th>\n",
       "      <th>인구</th>\n",
       "      <th>해법수학_지점수</th>\n",
       "      <th>경쟁사_지점수</th>\n",
       "    </tr>\n",
       "  </thead>\n",
       "  <tbody>\n",
       "    <tr>\n",
       "      <th>71</th>\n",
       "      <td>울산</td>\n",
       "      <td>동구</td>\n",
       "      <td>울산 동구</td>\n",
       "      <td>152418</td>\n",
       "      <td>0</td>\n",
       "      <td>7</td>\n",
       "    </tr>\n",
       "    <tr>\n",
       "      <th>82</th>\n",
       "      <td>경기</td>\n",
       "      <td>동두천시</td>\n",
       "      <td>경기 동두천시</td>\n",
       "      <td>91671</td>\n",
       "      <td>0</td>\n",
       "      <td>2</td>\n",
       "    </tr>\n",
       "    <tr>\n",
       "      <th>104</th>\n",
       "      <td>경기</td>\n",
       "      <td>가평군</td>\n",
       "      <td>경기 가평군</td>\n",
       "      <td>61879</td>\n",
       "      <td>0</td>\n",
       "      <td>1</td>\n",
       "    </tr>\n",
       "    <tr>\n",
       "      <th>110</th>\n",
       "      <td>강원</td>\n",
       "      <td>태백시</td>\n",
       "      <td>강원 태백시</td>\n",
       "      <td>39892</td>\n",
       "      <td>0</td>\n",
       "      <td>1</td>\n",
       "    </tr>\n",
       "    <tr>\n",
       "      <th>112</th>\n",
       "      <td>강원</td>\n",
       "      <td>삼척시</td>\n",
       "      <td>강원 삼척시</td>\n",
       "      <td>63242</td>\n",
       "      <td>0</td>\n",
       "      <td>1</td>\n",
       "    </tr>\n",
       "    <tr>\n",
       "      <th>120</th>\n",
       "      <td>강원</td>\n",
       "      <td>양구군</td>\n",
       "      <td>강원 양구군</td>\n",
       "      <td>21516</td>\n",
       "      <td>0</td>\n",
       "      <td>2</td>\n",
       "    </tr>\n",
       "    <tr>\n",
       "      <th>121</th>\n",
       "      <td>강원</td>\n",
       "      <td>인제군</td>\n",
       "      <td>강원 인제군</td>\n",
       "      <td>32134</td>\n",
       "      <td>0</td>\n",
       "      <td>2</td>\n",
       "    </tr>\n",
       "    <tr>\n",
       "      <th>136</th>\n",
       "      <td>충남</td>\n",
       "      <td>공주시</td>\n",
       "      <td>충남 공주시</td>\n",
       "      <td>102482</td>\n",
       "      <td>0</td>\n",
       "      <td>2</td>\n",
       "    </tr>\n",
       "    <tr>\n",
       "      <th>137</th>\n",
       "      <td>충남</td>\n",
       "      <td>보령시</td>\n",
       "      <td>충남 보령시</td>\n",
       "      <td>97494</td>\n",
       "      <td>0</td>\n",
       "      <td>3</td>\n",
       "    </tr>\n",
       "    <tr>\n",
       "      <th>145</th>\n",
       "      <td>충남</td>\n",
       "      <td>서천군</td>\n",
       "      <td>충남 서천군</td>\n",
       "      <td>50170</td>\n",
       "      <td>0</td>\n",
       "      <td>1</td>\n",
       "    </tr>\n",
       "    <tr>\n",
       "      <th>153</th>\n",
       "      <td>전북</td>\n",
       "      <td>정읍시</td>\n",
       "      <td>전북 정읍시</td>\n",
       "      <td>105364</td>\n",
       "      <td>0</td>\n",
       "      <td>1</td>\n",
       "    </tr>\n",
       "    <tr>\n",
       "      <th>155</th>\n",
       "      <td>전북</td>\n",
       "      <td>김제시</td>\n",
       "      <td>전북 김제시</td>\n",
       "      <td>80950</td>\n",
       "      <td>0</td>\n",
       "      <td>1</td>\n",
       "    </tr>\n",
       "    <tr>\n",
       "      <th>184</th>\n",
       "      <td>전남</td>\n",
       "      <td>진도군</td>\n",
       "      <td>전남 진도군</td>\n",
       "      <td>29712</td>\n",
       "      <td>0</td>\n",
       "      <td>1</td>\n",
       "    </tr>\n",
       "    <tr>\n",
       "      <th>207</th>\n",
       "      <td>경북</td>\n",
       "      <td>울진군</td>\n",
       "      <td>경북 울진군</td>\n",
       "      <td>47338</td>\n",
       "      <td>0</td>\n",
       "      <td>1</td>\n",
       "    </tr>\n",
       "    <tr>\n",
       "      <th>226</th>\n",
       "      <td>경남</td>\n",
       "      <td>합천군</td>\n",
       "      <td>경남 합천군</td>\n",
       "      <td>42252</td>\n",
       "      <td>0</td>\n",
       "      <td>1</td>\n",
       "    </tr>\n",
       "  </tbody>\n",
       "</table>\n",
       "</div>"
      ],
      "text/plain": [
       "     시도   시군구       지역      인구  해법수학_지점수  경쟁사_지점수\n",
       "71   울산    동구    울산 동구  152418         0        7\n",
       "82   경기  동두천시  경기 동두천시   91671         0        2\n",
       "104  경기   가평군   경기 가평군   61879         0        1\n",
       "110  강원   태백시   강원 태백시   39892         0        1\n",
       "112  강원   삼척시   강원 삼척시   63242         0        1\n",
       "120  강원   양구군   강원 양구군   21516         0        2\n",
       "121  강원   인제군   강원 인제군   32134         0        2\n",
       "136  충남   공주시   충남 공주시  102482         0        2\n",
       "137  충남   보령시   충남 보령시   97494         0        3\n",
       "145  충남   서천군   충남 서천군   50170         0        1\n",
       "153  전북   정읍시   전북 정읍시  105364         0        1\n",
       "155  전북   김제시   전북 김제시   80950         0        1\n",
       "184  전남   진도군   전남 진도군   29712         0        1\n",
       "207  경북   울진군   경북 울진군   47338         0        1\n",
       "226  경남   합천군   경남 합천군   42252         0        1"
      ]
     },
     "execution_count": 84,
     "metadata": {},
     "output_type": "execute_result"
    }
   ],
   "source": [
    "pop_hme0"
   ]
  },
  {
   "cell_type": "code",
   "execution_count": 85,
   "metadata": {},
   "outputs": [
    {
     "data": {
      "application/vnd.plotly.v1+json": {
       "config": {
        "plotlyServerURL": "https://plot.ly"
       },
       "data": [
        {
         "hovertemplate": "인구=%{x}<br>해법수학_지점수=%{y}<extra></extra>",
         "legendgroup": "",
         "marker": {
          "color": "#636efa",
          "symbol": "circle"
         },
         "mode": "markers",
         "name": "",
         "orientation": "v",
         "showlegend": false,
         "type": "scatter",
         "x": [
          140477,
          119206,
          215891,
          280685,
          335712,
          334024,
          383496,
          426764,
          293602,
          312180,
          504265,
          465728,
          302244,
          362720,
          440982,
          567898,
          393518,
          228374,
          372626,
          379738,
          482092,
          402936,
          522782,
          652994,
          457679,
          39734,
          104485,
          86265,
          108697,
          352436,
          268753,
          257800,
          280029,
          389108,
          302684,
          223598,
          142668,
          204390,
          173736,
          204934,
          177388,
          76684,
          338868,
          161058,
          141242,
          432522,
          412676,
          539138,
          262299,
          147138,
          59796,
          403480,
          385694,
          509400,
          484592,
          290546,
          569508,
          69430,
          20380,
          103780,
          288220,
          213383,
          424456,
          401428,
          219914,
          227508,
          469884,
          352588,
          173089,
          209778,
          310899,
          152418,
          218318,
          221188,
          376991,
          1181368,
          919911,
          460405,
          544560,
          793102,
          288700,
          568006,
          91671,
          642907,
          1070526,
          75160,
          189163,
          731726,
          229009,
          509794,
          266050,
          160902,
          321762,
          1070700,
          486840,
          222132,
          188317,
          483284,
          896463,
          387644,
          238671,
          147046,
          112243,
          42122,
          61879,
          121104,
          284382,
          357782,
          211365,
          89356,
          39892,
          82390,
          63242,
          67962,
          46308,
          37633,
          40850,
          35153,
          42672,
          23728,
          21516,
          32134,
          27177,
          27771,
          846245,
          208139,
          130843,
          31548,
          49679,
          45257,
          85414,
          37473,
          91701,
          27971,
          36734,
          655464,
          102482,
          97494,
          328357,
          176045,
          113202,
          43778,
          167154,
          50136,
          62872,
          50170,
          30276,
          98407,
          76830,
          61190,
          652438,
          262800,
          274636,
          105364,
          78485,
          80950,
          91540,
          24704,
          23570,
          21488,
          26527,
          26724,
          52692,
          50232,
          216968,
          275012,
          279395,
          116332,
          151054,
          45842,
          27194,
          24888,
          62118,
          38826,
          62106,
          35974,
          33354,
          66318,
          52470,
          90679,
          30925,
          51921,
          43125,
          47970,
          29712,
          37887,
          498464,
          249810,
          139392,
          155411,
          409004,
          101078,
          101226,
          94970,
          70399,
          266990,
          23076,
          50225,
          24374,
          16138,
          34823,
          41604,
          30405,
          42564,
          112699,
          55638,
          30274,
          47338,
          8842,
          344624,
          123573,
          109256,
          534782,
          102735,
          238017,
          353290,
          1022645,
          26134,
          61789,
          59047,
          50329,
          41800,
          42786,
          34064,
          37851,
          60550,
          42252,
          490397,
          183317
         ],
         "xaxis": "x",
         "y": [
          2,
          3,
          4,
          14,
          11,
          10,
          16,
          19,
          8,
          16,
          53,
          23,
          13,
          8,
          22,
          19,
          18,
          10,
          15,
          13,
          12,
          16,
          23,
          22,
          16,
          2,
          2,
          3,
          2,
          27,
          11,
          8,
          16,
          11,
          17,
          6,
          9,
          11,
          8,
          7,
          15,
          2,
          6,
          5,
          4,
          20,
          18,
          20,
          10,
          10,
          2,
          15,
          17,
          11,
          16,
          6,
          35,
          0,
          0,
          3,
          4,
          9,
          11,
          19,
          6,
          5,
          9,
          10,
          5,
          3,
          5,
          0,
          6,
          2,
          25,
          134,
          38,
          26,
          36,
          41,
          24,
          23,
          0,
          32,
          44,
          2,
          12,
          56,
          16,
          29,
          15,
          18,
          20,
          59,
          41,
          13,
          8,
          34,
          105,
          14,
          15,
          1,
          3,
          0,
          0,
          2,
          6,
          27,
          1,
          6,
          0,
          1,
          0,
          1,
          2,
          1,
          1,
          0,
          1,
          1,
          0,
          0,
          0,
          0,
          31,
          5,
          5,
          1,
          1,
          1,
          4,
          0,
          1,
          0,
          0,
          24,
          0,
          0,
          21,
          6,
          2,
          4,
          4,
          1,
          1,
          0,
          1,
          2,
          1,
          0,
          40,
          14,
          1,
          0,
          1,
          0,
          1,
          1,
          0,
          0,
          1,
          0,
          0,
          0,
          16,
          2,
          13,
          4,
          5,
          1,
          0,
          0,
          1,
          1,
          1,
          0,
          2,
          1,
          1,
          5,
          0,
          1,
          0,
          1,
          0,
          0,
          33,
          12,
          9,
          13,
          12,
          8,
          2,
          5,
          2,
          10,
          1,
          0,
          1,
          0,
          1,
          1,
          2,
          1,
          6,
          4,
          0,
          0,
          0,
          8,
          5,
          1,
          44,
          2,
          13,
          12,
          63,
          2,
          2,
          2,
          2,
          1,
          0,
          1,
          0,
          1,
          0,
          10,
          5
         ],
         "yaxis": "y"
        },
        {
         "hovertemplate": "<b>OLS trendline</b><br>해법수학_지점수 = 6.10863e-05 * 인구 + -3.6473<br>R<sup>2</sup>=0.739565<br><br>인구=%{x}<br>해법수학_지점수=%{y} <b>(trend)</b><extra></extra>",
         "legendgroup": "",
         "marker": {
          "color": "#636efa",
          "symbol": "circle"
         },
         "mode": "lines",
         "name": "",
         "showlegend": false,
         "type": "scatter",
         "x": [
          8842,
          16138,
          20380,
          21488,
          21516,
          23076,
          23570,
          23728,
          24374,
          24704,
          24888,
          26134,
          26527,
          26724,
          27177,
          27194,
          27771,
          27971,
          29712,
          30274,
          30276,
          30405,
          30925,
          31548,
          32134,
          33354,
          34064,
          34823,
          35153,
          35974,
          36734,
          37473,
          37633,
          37851,
          37887,
          38826,
          39734,
          39892,
          40850,
          41604,
          41800,
          42122,
          42252,
          42564,
          42672,
          42786,
          43125,
          43778,
          45257,
          45842,
          46308,
          47338,
          47970,
          49679,
          50136,
          50170,
          50225,
          50232,
          50329,
          51921,
          52470,
          52692,
          55638,
          59047,
          59796,
          60550,
          61190,
          61789,
          61879,
          62106,
          62118,
          62872,
          63242,
          66318,
          67962,
          69430,
          70399,
          75160,
          76684,
          76830,
          78485,
          80950,
          82390,
          85414,
          86265,
          89356,
          90679,
          91540,
          91671,
          91701,
          94970,
          97494,
          98407,
          101078,
          101226,
          102482,
          102735,
          103780,
          104485,
          105364,
          108697,
          109256,
          112243,
          112699,
          113202,
          116332,
          119206,
          121104,
          123573,
          130843,
          139392,
          140477,
          141242,
          142668,
          147046,
          147138,
          151054,
          152418,
          155411,
          160902,
          161058,
          167154,
          173089,
          173736,
          176045,
          177388,
          183317,
          188317,
          189163,
          204390,
          204934,
          208139,
          209778,
          211365,
          213383,
          215891,
          216968,
          218318,
          219914,
          221188,
          222132,
          223598,
          227508,
          228374,
          229009,
          238017,
          238671,
          249810,
          257800,
          262299,
          262800,
          266050,
          266990,
          268753,
          274636,
          275012,
          279395,
          280029,
          280685,
          284382,
          288220,
          288700,
          290546,
          293602,
          302244,
          302684,
          310899,
          312180,
          321762,
          328357,
          334024,
          335712,
          338868,
          344624,
          352436,
          352588,
          353290,
          357782,
          362720,
          372626,
          376991,
          379738,
          383496,
          385694,
          387644,
          389108,
          393518,
          401428,
          402936,
          403480,
          409004,
          412676,
          424456,
          426764,
          432522,
          440982,
          457679,
          460405,
          465728,
          469884,
          482092,
          483284,
          484592,
          486840,
          490397,
          498464,
          504265,
          509400,
          509794,
          522782,
          534782,
          539138,
          544560,
          567898,
          568006,
          569508,
          642907,
          652438,
          652994,
          655464,
          731726,
          793102,
          846245,
          896463,
          919911,
          1022645,
          1070526,
          1070700,
          1181368
         ],
         "xaxis": "x",
         "y": [
          -3.1071745268769266,
          -2.66148894913879,
          -2.402360903529528,
          -2.3346772933138134,
          -2.332966877171178,
          -2.237672263510063,
          -2.20749563585071,
          -2.1978440019029817,
          -2.158382258040751,
          -2.1382237820739767,
          -2.12698390456523,
          -2.0508703862179547,
          -2.026863473930251,
          -2.0148294746409947,
          -1.9871573849047863,
          -1.9861189179610435,
          -1.9508721281645927,
          -1.9386548700029114,
          -1.8323036377054749,
          -1.7979731422711502,
          -1.7978509696895335,
          -1.789970838175249,
          -1.7582059669548775,
          -1.72014920778124,
          -1.6843526413675136,
          -1.609827366581257,
          -1.5664561001072883,
          -1.5200916053837075,
          -1.4999331294169331,
          -1.449781284663231,
          -1.4033557036488418,
          -1.3582129347414291,
          -1.348439128212084,
          -1.3351223168158515,
          -1.3329232103467485,
          -1.2755631832776548,
          -1.2200968312236213,
          -1.210445197275893,
          -1.1519245306814394,
          -1.1058654674119004,
          -1.0938925544134528,
          -1.0742227687731458,
          -1.0662815509680525,
          -1.0472226282358297,
          -1.0406253088285218,
          -1.0336614716763637,
          -1.0129532190923136,
          -0.973063871194424,
          -0.8827172470887903,
          -0.8469817669658721,
          -0.8185155554491543,
          -0.7555966759164954,
          -0.7169901401255823,
          -0.6125936691340148,
          -0.5846772342345732,
          -0.582600300347087,
          -0.5792405543526247,
          -0.5788129503169661,
          -0.5728875801085502,
          -0.47563820514156685,
          -0.4421018314877512,
          -0.4285406749282852,
          -0.24858046220671826,
          -0.040337296840859516,
          0.005416334974637227,
          0.05147539824417624,
          0.09057062436155672,
          0.12716131255579244,
          0.13265907872854887,
          0.14652566674205714,
          0.1472587022317584,
          0.19331776550129698,
          0.2159196931004077,
          0.40382112362706746,
          0.5042469857160876,
          0.5939216606228293,
          0.6531142764161757,
          0.9439461069550008,
          1.0370416141470127,
          1.0459602126050402,
          1.1470580238929537,
          1.297635730735676,
          1.3855999894997826,
          1.5703249329044047,
          1.6223093663823587,
          1.8111270912711444,
          1.8919442540106672,
          1.944539550396705,
          1.9525418544926065,
          1.9543744432168584,
          2.154065527869541,
          2.30824732586996,
          2.3640191093780354,
          2.52718059212729,
          2.536221363166934,
          2.6129457444222934,
          2.62840057599682,
          2.692235749891605,
          2.7353015849115323,
          2.7889964345321214,
          2.992597041796542,
          3.026744278358441,
          3.2092090290031523,
          3.2370643776117864,
          3.267790781888415,
          3.4589908721187284,
          3.6345528719020894,
          3.750494651856446,
          3.9013167038624026,
          4.345414038039521,
          4.86764073816059,
          4.933919363687712,
          4.980650376156143,
          5.067759426848932,
          5.3351952080081375,
          5.340815146762511,
          5.580029061568231,
          5.663350762230898,
          5.8461820306204615,
          6.1816068534494235,
          6.191136314815534,
          6.563518343583583,
          6.926065479531477,
          6.965588309684517,
          7.106636555161128,
          7.188675443716818,
          7.550856061919863,
          7.856287515961897,
          7.907966517985809,
          8.838127468125421,
          8.871358410325195,
          9.067139972366139,
          9.167260403001118,
          9.26420434651406,
          9.387476481365423,
          9.540680898712909,
          9.606470833913562,
          9.688937326504911,
          9.78643104663513,
          9.86425498112504,
          9.921920439648176,
          10.0114729419733,
          10.250320339034172,
          10.30322106687425,
          10.34201086153759,
          10.892276169139718,
          10.932226603328417,
          11.61266679664326,
          12.100746260202431,
          12.375573482549456,
          12.406177714244468,
          12.60470815937179,
          12.66212927273169,
          12.769824403426913,
          13.129195052252769,
          13.152163497596732,
          13.419904710209977,
          13.458633418582508,
          13.498706025352824,
          13.724542042471505,
          13.958991226594168,
          13.988312646182205,
          14.101077939014523,
          14.287757643725016,
          14.815665368891267,
          14.842543336846965,
          15.34436721583803,
          15.422618754363597,
          16.007947592889753,
          16.410811680771197,
          16.756987690782438,
          16.86010134966703,
          17.05288968345836,
          17.40450237335155,
          17.881708477146827,
          17.8909935933497,
          17.933876169497204,
          18.208275787808567,
          18.50991989182048,
          19.11504068856856,
          19.381682347947255,
          19.54948638879795,
          19.779048669655943,
          19.91331633685282,
          20.032434603929214,
          20.12186493367272,
          20.391255476137797,
          20.874448036432295,
          20.96656616297137,
          20.999797105171144,
          21.337237775596783,
          21.561546635445254,
          22.28114314116829,
          22.42213030035409,
          22.773865162828898,
          23.29065518306802,
          24.31061298069599,
          24.477134209439708,
          24.802296535412857,
          25.056171160012596,
          25.801912598201625,
          25.874727456845246,
          25.954628325222643,
          26.09195030695994,
          26.309234243365445,
          26.802017351316863,
          27.156378924296433,
          27.4700570275976,
          27.494125026176114,
          28.2875137711957,
          29.020549260896587,
          29.286641143658002,
          29.617851012421184,
          31.043482867307787,
          31.050080186715093,
          31.14183179550932,
          35.625504454555575,
          36.20771789225051,
          36.24168186993998,
          36.392565008236744,
          41.051127717867466,
          44.80035990252425,
          48.04666865495542,
          51.11430000677199,
          52.54665135364751,
          58.82229035355839,
          61.74716304375572,
          61.75779205835639,
          68.51808968954116
         ],
         "yaxis": "y"
        }
       ],
       "layout": {
        "legend": {
         "tracegroupgap": 0
        },
        "margin": {
         "t": 60
        },
        "template": {
         "data": {
          "bar": [
           {
            "error_x": {
             "color": "#2a3f5f"
            },
            "error_y": {
             "color": "#2a3f5f"
            },
            "marker": {
             "line": {
              "color": "#E5ECF6",
              "width": 0.5
             },
             "pattern": {
              "fillmode": "overlay",
              "size": 10,
              "solidity": 0.2
             }
            },
            "type": "bar"
           }
          ],
          "barpolar": [
           {
            "marker": {
             "line": {
              "color": "#E5ECF6",
              "width": 0.5
             },
             "pattern": {
              "fillmode": "overlay",
              "size": 10,
              "solidity": 0.2
             }
            },
            "type": "barpolar"
           }
          ],
          "carpet": [
           {
            "aaxis": {
             "endlinecolor": "#2a3f5f",
             "gridcolor": "white",
             "linecolor": "white",
             "minorgridcolor": "white",
             "startlinecolor": "#2a3f5f"
            },
            "baxis": {
             "endlinecolor": "#2a3f5f",
             "gridcolor": "white",
             "linecolor": "white",
             "minorgridcolor": "white",
             "startlinecolor": "#2a3f5f"
            },
            "type": "carpet"
           }
          ],
          "choropleth": [
           {
            "colorbar": {
             "outlinewidth": 0,
             "ticks": ""
            },
            "type": "choropleth"
           }
          ],
          "contour": [
           {
            "colorbar": {
             "outlinewidth": 0,
             "ticks": ""
            },
            "colorscale": [
             [
              0,
              "#0d0887"
             ],
             [
              0.1111111111111111,
              "#46039f"
             ],
             [
              0.2222222222222222,
              "#7201a8"
             ],
             [
              0.3333333333333333,
              "#9c179e"
             ],
             [
              0.4444444444444444,
              "#bd3786"
             ],
             [
              0.5555555555555556,
              "#d8576b"
             ],
             [
              0.6666666666666666,
              "#ed7953"
             ],
             [
              0.7777777777777778,
              "#fb9f3a"
             ],
             [
              0.8888888888888888,
              "#fdca26"
             ],
             [
              1,
              "#f0f921"
             ]
            ],
            "type": "contour"
           }
          ],
          "contourcarpet": [
           {
            "colorbar": {
             "outlinewidth": 0,
             "ticks": ""
            },
            "type": "contourcarpet"
           }
          ],
          "heatmap": [
           {
            "colorbar": {
             "outlinewidth": 0,
             "ticks": ""
            },
            "colorscale": [
             [
              0,
              "#0d0887"
             ],
             [
              0.1111111111111111,
              "#46039f"
             ],
             [
              0.2222222222222222,
              "#7201a8"
             ],
             [
              0.3333333333333333,
              "#9c179e"
             ],
             [
              0.4444444444444444,
              "#bd3786"
             ],
             [
              0.5555555555555556,
              "#d8576b"
             ],
             [
              0.6666666666666666,
              "#ed7953"
             ],
             [
              0.7777777777777778,
              "#fb9f3a"
             ],
             [
              0.8888888888888888,
              "#fdca26"
             ],
             [
              1,
              "#f0f921"
             ]
            ],
            "type": "heatmap"
           }
          ],
          "heatmapgl": [
           {
            "colorbar": {
             "outlinewidth": 0,
             "ticks": ""
            },
            "colorscale": [
             [
              0,
              "#0d0887"
             ],
             [
              0.1111111111111111,
              "#46039f"
             ],
             [
              0.2222222222222222,
              "#7201a8"
             ],
             [
              0.3333333333333333,
              "#9c179e"
             ],
             [
              0.4444444444444444,
              "#bd3786"
             ],
             [
              0.5555555555555556,
              "#d8576b"
             ],
             [
              0.6666666666666666,
              "#ed7953"
             ],
             [
              0.7777777777777778,
              "#fb9f3a"
             ],
             [
              0.8888888888888888,
              "#fdca26"
             ],
             [
              1,
              "#f0f921"
             ]
            ],
            "type": "heatmapgl"
           }
          ],
          "histogram": [
           {
            "marker": {
             "pattern": {
              "fillmode": "overlay",
              "size": 10,
              "solidity": 0.2
             }
            },
            "type": "histogram"
           }
          ],
          "histogram2d": [
           {
            "colorbar": {
             "outlinewidth": 0,
             "ticks": ""
            },
            "colorscale": [
             [
              0,
              "#0d0887"
             ],
             [
              0.1111111111111111,
              "#46039f"
             ],
             [
              0.2222222222222222,
              "#7201a8"
             ],
             [
              0.3333333333333333,
              "#9c179e"
             ],
             [
              0.4444444444444444,
              "#bd3786"
             ],
             [
              0.5555555555555556,
              "#d8576b"
             ],
             [
              0.6666666666666666,
              "#ed7953"
             ],
             [
              0.7777777777777778,
              "#fb9f3a"
             ],
             [
              0.8888888888888888,
              "#fdca26"
             ],
             [
              1,
              "#f0f921"
             ]
            ],
            "type": "histogram2d"
           }
          ],
          "histogram2dcontour": [
           {
            "colorbar": {
             "outlinewidth": 0,
             "ticks": ""
            },
            "colorscale": [
             [
              0,
              "#0d0887"
             ],
             [
              0.1111111111111111,
              "#46039f"
             ],
             [
              0.2222222222222222,
              "#7201a8"
             ],
             [
              0.3333333333333333,
              "#9c179e"
             ],
             [
              0.4444444444444444,
              "#bd3786"
             ],
             [
              0.5555555555555556,
              "#d8576b"
             ],
             [
              0.6666666666666666,
              "#ed7953"
             ],
             [
              0.7777777777777778,
              "#fb9f3a"
             ],
             [
              0.8888888888888888,
              "#fdca26"
             ],
             [
              1,
              "#f0f921"
             ]
            ],
            "type": "histogram2dcontour"
           }
          ],
          "mesh3d": [
           {
            "colorbar": {
             "outlinewidth": 0,
             "ticks": ""
            },
            "type": "mesh3d"
           }
          ],
          "parcoords": [
           {
            "line": {
             "colorbar": {
              "outlinewidth": 0,
              "ticks": ""
             }
            },
            "type": "parcoords"
           }
          ],
          "pie": [
           {
            "automargin": true,
            "type": "pie"
           }
          ],
          "scatter": [
           {
            "fillpattern": {
             "fillmode": "overlay",
             "size": 10,
             "solidity": 0.2
            },
            "type": "scatter"
           }
          ],
          "scatter3d": [
           {
            "line": {
             "colorbar": {
              "outlinewidth": 0,
              "ticks": ""
             }
            },
            "marker": {
             "colorbar": {
              "outlinewidth": 0,
              "ticks": ""
             }
            },
            "type": "scatter3d"
           }
          ],
          "scattercarpet": [
           {
            "marker": {
             "colorbar": {
              "outlinewidth": 0,
              "ticks": ""
             }
            },
            "type": "scattercarpet"
           }
          ],
          "scattergeo": [
           {
            "marker": {
             "colorbar": {
              "outlinewidth": 0,
              "ticks": ""
             }
            },
            "type": "scattergeo"
           }
          ],
          "scattergl": [
           {
            "marker": {
             "colorbar": {
              "outlinewidth": 0,
              "ticks": ""
             }
            },
            "type": "scattergl"
           }
          ],
          "scattermapbox": [
           {
            "marker": {
             "colorbar": {
              "outlinewidth": 0,
              "ticks": ""
             }
            },
            "type": "scattermapbox"
           }
          ],
          "scatterpolar": [
           {
            "marker": {
             "colorbar": {
              "outlinewidth": 0,
              "ticks": ""
             }
            },
            "type": "scatterpolar"
           }
          ],
          "scatterpolargl": [
           {
            "marker": {
             "colorbar": {
              "outlinewidth": 0,
              "ticks": ""
             }
            },
            "type": "scatterpolargl"
           }
          ],
          "scatterternary": [
           {
            "marker": {
             "colorbar": {
              "outlinewidth": 0,
              "ticks": ""
             }
            },
            "type": "scatterternary"
           }
          ],
          "surface": [
           {
            "colorbar": {
             "outlinewidth": 0,
             "ticks": ""
            },
            "colorscale": [
             [
              0,
              "#0d0887"
             ],
             [
              0.1111111111111111,
              "#46039f"
             ],
             [
              0.2222222222222222,
              "#7201a8"
             ],
             [
              0.3333333333333333,
              "#9c179e"
             ],
             [
              0.4444444444444444,
              "#bd3786"
             ],
             [
              0.5555555555555556,
              "#d8576b"
             ],
             [
              0.6666666666666666,
              "#ed7953"
             ],
             [
              0.7777777777777778,
              "#fb9f3a"
             ],
             [
              0.8888888888888888,
              "#fdca26"
             ],
             [
              1,
              "#f0f921"
             ]
            ],
            "type": "surface"
           }
          ],
          "table": [
           {
            "cells": {
             "fill": {
              "color": "#EBF0F8"
             },
             "line": {
              "color": "white"
             }
            },
            "header": {
             "fill": {
              "color": "#C8D4E3"
             },
             "line": {
              "color": "white"
             }
            },
            "type": "table"
           }
          ]
         },
         "layout": {
          "annotationdefaults": {
           "arrowcolor": "#2a3f5f",
           "arrowhead": 0,
           "arrowwidth": 1
          },
          "autotypenumbers": "strict",
          "coloraxis": {
           "colorbar": {
            "outlinewidth": 0,
            "ticks": ""
           }
          },
          "colorscale": {
           "diverging": [
            [
             0,
             "#8e0152"
            ],
            [
             0.1,
             "#c51b7d"
            ],
            [
             0.2,
             "#de77ae"
            ],
            [
             0.3,
             "#f1b6da"
            ],
            [
             0.4,
             "#fde0ef"
            ],
            [
             0.5,
             "#f7f7f7"
            ],
            [
             0.6,
             "#e6f5d0"
            ],
            [
             0.7,
             "#b8e186"
            ],
            [
             0.8,
             "#7fbc41"
            ],
            [
             0.9,
             "#4d9221"
            ],
            [
             1,
             "#276419"
            ]
           ],
           "sequential": [
            [
             0,
             "#0d0887"
            ],
            [
             0.1111111111111111,
             "#46039f"
            ],
            [
             0.2222222222222222,
             "#7201a8"
            ],
            [
             0.3333333333333333,
             "#9c179e"
            ],
            [
             0.4444444444444444,
             "#bd3786"
            ],
            [
             0.5555555555555556,
             "#d8576b"
            ],
            [
             0.6666666666666666,
             "#ed7953"
            ],
            [
             0.7777777777777778,
             "#fb9f3a"
            ],
            [
             0.8888888888888888,
             "#fdca26"
            ],
            [
             1,
             "#f0f921"
            ]
           ],
           "sequentialminus": [
            [
             0,
             "#0d0887"
            ],
            [
             0.1111111111111111,
             "#46039f"
            ],
            [
             0.2222222222222222,
             "#7201a8"
            ],
            [
             0.3333333333333333,
             "#9c179e"
            ],
            [
             0.4444444444444444,
             "#bd3786"
            ],
            [
             0.5555555555555556,
             "#d8576b"
            ],
            [
             0.6666666666666666,
             "#ed7953"
            ],
            [
             0.7777777777777778,
             "#fb9f3a"
            ],
            [
             0.8888888888888888,
             "#fdca26"
            ],
            [
             1,
             "#f0f921"
            ]
           ]
          },
          "colorway": [
           "#636efa",
           "#EF553B",
           "#00cc96",
           "#ab63fa",
           "#FFA15A",
           "#19d3f3",
           "#FF6692",
           "#B6E880",
           "#FF97FF",
           "#FECB52"
          ],
          "font": {
           "color": "#2a3f5f"
          },
          "geo": {
           "bgcolor": "white",
           "lakecolor": "white",
           "landcolor": "#E5ECF6",
           "showlakes": true,
           "showland": true,
           "subunitcolor": "white"
          },
          "hoverlabel": {
           "align": "left"
          },
          "hovermode": "closest",
          "mapbox": {
           "style": "light"
          },
          "paper_bgcolor": "white",
          "plot_bgcolor": "#E5ECF6",
          "polar": {
           "angularaxis": {
            "gridcolor": "white",
            "linecolor": "white",
            "ticks": ""
           },
           "bgcolor": "#E5ECF6",
           "radialaxis": {
            "gridcolor": "white",
            "linecolor": "white",
            "ticks": ""
           }
          },
          "scene": {
           "xaxis": {
            "backgroundcolor": "#E5ECF6",
            "gridcolor": "white",
            "gridwidth": 2,
            "linecolor": "white",
            "showbackground": true,
            "ticks": "",
            "zerolinecolor": "white"
           },
           "yaxis": {
            "backgroundcolor": "#E5ECF6",
            "gridcolor": "white",
            "gridwidth": 2,
            "linecolor": "white",
            "showbackground": true,
            "ticks": "",
            "zerolinecolor": "white"
           },
           "zaxis": {
            "backgroundcolor": "#E5ECF6",
            "gridcolor": "white",
            "gridwidth": 2,
            "linecolor": "white",
            "showbackground": true,
            "ticks": "",
            "zerolinecolor": "white"
           }
          },
          "shapedefaults": {
           "line": {
            "color": "#2a3f5f"
           }
          },
          "ternary": {
           "aaxis": {
            "gridcolor": "white",
            "linecolor": "white",
            "ticks": ""
           },
           "baxis": {
            "gridcolor": "white",
            "linecolor": "white",
            "ticks": ""
           },
           "bgcolor": "#E5ECF6",
           "caxis": {
            "gridcolor": "white",
            "linecolor": "white",
            "ticks": ""
           }
          },
          "title": {
           "x": 0.05
          },
          "xaxis": {
           "automargin": true,
           "gridcolor": "white",
           "linecolor": "white",
           "ticks": "",
           "title": {
            "standoff": 15
           },
           "zerolinecolor": "white",
           "zerolinewidth": 2
          },
          "yaxis": {
           "automargin": true,
           "gridcolor": "white",
           "linecolor": "white",
           "ticks": "",
           "title": {
            "standoff": 15
           },
           "zerolinecolor": "white",
           "zerolinewidth": 2
          }
         }
        },
        "xaxis": {
         "anchor": "y",
         "domain": [
          0,
          1
         ],
         "title": {
          "text": "인구"
         }
        },
        "yaxis": {
         "anchor": "x",
         "domain": [
          0,
          1
         ],
         "title": {
          "text": "해법수학_지점수"
         }
        }
       }
      }
     },
     "metadata": {},
     "output_type": "display_data"
    }
   ],
   "source": [
    "fig = px.scatter(pop_2022, x = '인구', y = '해법수학_지점수', trendline = 'ols')\n",
    "\n",
    "fig.show()"
   ]
  },
  {
   "cell_type": "code",
   "execution_count": 86,
   "metadata": {},
   "outputs": [
    {
     "data": {
      "application/vnd.plotly.v1+json": {
       "config": {
        "plotlyServerURL": "https://plot.ly"
       },
       "data": [
        {
         "hovertemplate": "인구=%{x}<br>경쟁사_지점수=%{y}<extra></extra>",
         "legendgroup": "",
         "marker": {
          "color": "#636efa",
          "symbol": "circle"
         },
         "mode": "markers",
         "name": "",
         "orientation": "v",
         "showlegend": false,
         "type": "scatter",
         "x": [
          140477,
          119206,
          215891,
          280685,
          335712,
          334024,
          383496,
          426764,
          293602,
          312180,
          504265,
          465728,
          302244,
          362720,
          440982,
          567898,
          393518,
          228374,
          372626,
          379738,
          482092,
          402936,
          522782,
          652994,
          457679,
          39734,
          104485,
          86265,
          108697,
          352436,
          268753,
          257800,
          280029,
          389108,
          302684,
          223598,
          142668,
          204390,
          173736,
          204934,
          177388,
          76684,
          338868,
          161058,
          141242,
          432522,
          412676,
          539138,
          262299,
          147138,
          59796,
          403480,
          385694,
          509400,
          484592,
          290546,
          569508,
          69430,
          20380,
          103780,
          288220,
          213383,
          424456,
          401428,
          219914,
          227508,
          469884,
          352588,
          173089,
          209778,
          310899,
          152418,
          218318,
          221188,
          376991,
          1181368,
          919911,
          460405,
          544560,
          793102,
          288700,
          568006,
          91671,
          642907,
          1070526,
          75160,
          189163,
          731726,
          229009,
          509794,
          266050,
          160902,
          321762,
          1070700,
          486840,
          222132,
          188317,
          483284,
          896463,
          387644,
          238671,
          147046,
          112243,
          42122,
          61879,
          121104,
          284382,
          357782,
          211365,
          89356,
          39892,
          82390,
          63242,
          67962,
          46308,
          37633,
          40850,
          35153,
          42672,
          23728,
          21516,
          32134,
          27177,
          27771,
          846245,
          208139,
          130843,
          31548,
          49679,
          45257,
          85414,
          37473,
          91701,
          27971,
          36734,
          655464,
          102482,
          97494,
          328357,
          176045,
          113202,
          43778,
          167154,
          50136,
          62872,
          50170,
          30276,
          98407,
          76830,
          61190,
          652438,
          262800,
          274636,
          105364,
          78485,
          80950,
          91540,
          24704,
          23570,
          21488,
          26527,
          26724,
          52692,
          50232,
          216968,
          275012,
          279395,
          116332,
          151054,
          45842,
          27194,
          24888,
          62118,
          38826,
          62106,
          35974,
          33354,
          66318,
          52470,
          90679,
          30925,
          51921,
          43125,
          47970,
          29712,
          37887,
          498464,
          249810,
          139392,
          155411,
          409004,
          101078,
          101226,
          94970,
          70399,
          266990,
          23076,
          50225,
          24374,
          16138,
          34823,
          41604,
          30405,
          42564,
          112699,
          55638,
          30274,
          47338,
          8842,
          344624,
          123573,
          109256,
          534782,
          102735,
          238017,
          353290,
          1022645,
          26134,
          61789,
          59047,
          50329,
          41800,
          42786,
          34064,
          37851,
          60550,
          42252,
          490397,
          183317
         ],
         "xaxis": "x",
         "y": [
          1,
          0,
          1,
          0,
          5,
          1,
          4,
          3,
          3,
          3,
          4,
          3,
          1,
          2,
          5,
          7,
          3,
          1,
          1,
          2,
          1,
          1,
          2,
          2,
          5,
          0,
          2,
          0,
          0,
          0,
          1,
          1,
          2,
          3,
          4,
          1,
          1,
          1,
          1,
          0,
          3,
          2,
          6,
          1,
          0,
          4,
          3,
          9,
          8,
          1,
          0,
          2,
          4,
          6,
          7,
          3,
          9,
          0,
          0,
          1,
          4,
          5,
          4,
          10,
          4,
          2,
          5,
          3,
          3,
          1,
          6,
          7,
          7,
          8,
          10,
          12,
          4,
          6,
          4,
          5,
          2,
          5,
          2,
          5,
          16,
          0,
          4,
          12,
          5,
          6,
          2,
          2,
          2,
          7,
          7,
          6,
          1,
          21,
          14,
          6,
          4,
          2,
          0,
          0,
          1,
          2,
          5,
          4,
          2,
          3,
          1,
          2,
          1,
          2,
          1,
          0,
          0,
          0,
          2,
          0,
          2,
          2,
          0,
          0,
          7,
          2,
          3,
          0,
          1,
          1,
          2,
          0,
          1,
          0,
          0,
          10,
          2,
          3,
          4,
          2,
          5,
          1,
          1,
          0,
          2,
          1,
          0,
          3,
          1,
          0,
          14,
          6,
          5,
          1,
          2,
          1,
          1,
          0,
          0,
          0,
          0,
          0,
          0,
          0,
          11,
          6,
          2,
          1,
          2,
          1,
          0,
          0,
          0,
          0,
          2,
          0,
          0,
          1,
          4,
          5,
          0,
          1,
          0,
          2,
          1,
          0,
          6,
          1,
          1,
          1,
          1,
          1,
          0,
          0,
          0,
          2,
          0,
          0,
          0,
          0,
          0,
          0,
          0,
          1,
          0,
          1,
          0,
          1,
          0,
          8,
          1,
          1,
          8,
          1,
          9,
          6,
          25,
          0,
          1,
          0,
          0,
          0,
          0,
          0,
          0,
          1,
          1,
          13,
          2
         ],
         "yaxis": "y"
        },
        {
         "hovertemplate": "<b>OLS trendline</b><br>경쟁사_지점수 = 1.1908e-05 * 인구 + 0.0943577<br>R<sup>2</sup>=0.534952<br><br>인구=%{x}<br>경쟁사_지점수=%{y} <b>(trend)</b><extra></extra>",
         "legendgroup": "",
         "marker": {
          "color": "#636efa",
          "symbol": "circle"
         },
         "mode": "lines",
         "name": "",
         "showlegend": false,
         "type": "scatter",
         "x": [
          8842,
          16138,
          20380,
          21488,
          21516,
          23076,
          23570,
          23728,
          24374,
          24704,
          24888,
          26134,
          26527,
          26724,
          27177,
          27194,
          27771,
          27971,
          29712,
          30274,
          30276,
          30405,
          30925,
          31548,
          32134,
          33354,
          34064,
          34823,
          35153,
          35974,
          36734,
          37473,
          37633,
          37851,
          37887,
          38826,
          39734,
          39892,
          40850,
          41604,
          41800,
          42122,
          42252,
          42564,
          42672,
          42786,
          43125,
          43778,
          45257,
          45842,
          46308,
          47338,
          47970,
          49679,
          50136,
          50170,
          50225,
          50232,
          50329,
          51921,
          52470,
          52692,
          55638,
          59047,
          59796,
          60550,
          61190,
          61789,
          61879,
          62106,
          62118,
          62872,
          63242,
          66318,
          67962,
          69430,
          70399,
          75160,
          76684,
          76830,
          78485,
          80950,
          82390,
          85414,
          86265,
          89356,
          90679,
          91540,
          91671,
          91701,
          94970,
          97494,
          98407,
          101078,
          101226,
          102482,
          102735,
          103780,
          104485,
          105364,
          108697,
          109256,
          112243,
          112699,
          113202,
          116332,
          119206,
          121104,
          123573,
          130843,
          139392,
          140477,
          141242,
          142668,
          147046,
          147138,
          151054,
          152418,
          155411,
          160902,
          161058,
          167154,
          173089,
          173736,
          176045,
          177388,
          183317,
          188317,
          189163,
          204390,
          204934,
          208139,
          209778,
          211365,
          213383,
          215891,
          216968,
          218318,
          219914,
          221188,
          222132,
          223598,
          227508,
          228374,
          229009,
          238017,
          238671,
          249810,
          257800,
          262299,
          262800,
          266050,
          266990,
          268753,
          274636,
          275012,
          279395,
          280029,
          280685,
          284382,
          288220,
          288700,
          290546,
          293602,
          302244,
          302684,
          310899,
          312180,
          321762,
          328357,
          334024,
          335712,
          338868,
          344624,
          352436,
          352588,
          353290,
          357782,
          362720,
          372626,
          376991,
          379738,
          383496,
          385694,
          387644,
          389108,
          393518,
          401428,
          402936,
          403480,
          409004,
          412676,
          424456,
          426764,
          432522,
          440982,
          457679,
          460405,
          465728,
          469884,
          482092,
          483284,
          484592,
          486840,
          490397,
          498464,
          504265,
          509400,
          509794,
          522782,
          534782,
          539138,
          544560,
          567898,
          568006,
          569508,
          642907,
          652438,
          652994,
          655464,
          731726,
          793102,
          846245,
          896463,
          919911,
          1022645,
          1070526,
          1070700,
          1181368
         ],
         "xaxis": "x",
         "y": [
          0.19964787324168748,
          0.28652836915725666,
          0.3370419469634305,
          0.35023596964359094,
          0.3505693925994072,
          0.3691458144234599,
          0.37502834800107654,
          0.37690980610889724,
          0.3846023500180883,
          0.38853197771163783,
          0.3907230428498594,
          0.4055603643836861,
          0.41024019372782244,
          0.41258606238124446,
          0.41798036948784434,
          0.4181828048538757,
          0.4250536993362336,
          0.42743529187777884,
          0.4481670549519299,
          0.4548593299936719,
          0.45488314591908735,
          0.456419273108384,
          0.4626114137164015,
          0.47003007448331485,
          0.4770081406300423,
          0.4915358551334681,
          0.49999050865595357,
          0.5090286523511176,
          0.5129582800446673,
          0.5227347174277103,
          0.5317847690855821,
          0.5405847535265916,
          0.5424900275598278,
          0.5450859634301121,
          0.5455146500875903,
          0.556696227070145,
          0.5675086572087602,
          0.5693901153165809,
          0.5807979435905825,
          0.5897765474722079,
          0.5921105081629222,
          0.59594487215481,
          0.5974929073068144,
          0.6012081916716249,
          0.6024942516440593,
          0.60385175939274,
          0.6078885587506592,
          0.6156644583988043,
          0.6332763352435311,
          0.6402424934275508,
          0.6457916040493512,
          0.658056805638309,
          0.6655826380695918,
          0.6859333463370957,
          0.6913752852945264,
          0.6917801560265892,
          0.6924350939755141,
          0.6925184497144682,
          0.6936735220971175,
          0.7126309987278174,
          0.719168470254359,
          0.7218120379754742,
          0.756892896112435,
          0.7974871409830732,
          0.80640620505116,
          0.8153848089327854,
          0.82300590506573,
          0.830138774727658,
          0.8312104913713533,
          0.8339135989060071,
          0.8340564944584998,
          0.8430350983401252,
          0.8474410445419839,
          0.8840699378309492,
          0.9036466285224508,
          0.9211275177773927,
          0.9326663336411791,
          0.9893601440926628,
          1.0075078792592373,
          1.0092464418145652,
          1.0289541200958519,
          1.0583072481703966,
          1.0754547144695221,
          1.1114643936976858,
          1.1215980699619605,
          1.1584055826915418,
          1.1741598173538632,
          1.1844125732452153,
          1.1859725163599275,
          1.1863297552411594,
          1.2252568853327157,
          1.2553125832070162,
          1.26618455315917,
          1.2979907215515063,
          1.2997531000322498,
          1.3147095011931538,
          1.3177222157582085,
          1.3301660367877821,
          1.338561150496729,
          1.3490282497168202,
          1.388717489421671,
          1.39537404057529,
          1.4309431251832676,
          1.4363731561779907,
          1.4423628614199768,
          1.4796347846951594,
          1.5138582695171638,
          1.536459582736428,
          1.5658603426618036,
          1.6524312315469718,
          1.7542324047353217,
          1.7671525442732046,
          1.776262135744615,
          1.7932428905658322,
          1.8453759513002568,
          1.8464714838693677,
          1.8931030658328227,
          1.909345526966161,
          1.9449860593503852,
          2.0103726825785087,
          2.012230324760914,
          2.084821265427212,
          2.155495024097566,
          2.163199475969465,
          2.1906949618616043,
          2.2066873557780804,
          2.277289666672188,
          2.336829480210818,
          2.3469036166615544,
          2.5282261648120987,
          2.5347040965251018,
          2.5728691170033637,
          2.5923862678813268,
          2.611284204698488,
          2.635314473442679,
          2.665179643913656,
          2.678004519749877,
          2.694080269405307,
          2.713085377886838,
          2.7282561223764805,
          2.7394972391725743,
          2.7569543125021005,
          2.8035144466893094,
          2.8138267423942,
          2.821388298713606,
          2.928655226784802,
          2.936443034395655,
          3.0690858309970155,
          3.164230453031746,
          3.2178043772538056,
          3.2237702665703765,
          3.262471145370486,
          3.2736646303157486,
          3.2946583685694697,
          3.364712913179022,
          3.369190307157127,
          3.42138290770509,
          3.4289325560617883,
          3.436744179598057,
          3.48076791772852,
          3.5264706786007722,
          3.532186500700481,
          3.554168599858943,
          3.590559333893754,
          3.6934679476139225,
          3.6987074512053217,
          3.796531364849291,
          3.811785465077888,
          3.925887563743319,
          4.004420577800772,
          4.071903002465455,
          4.092003643516097,
          4.129585173821681,
          4.198127407167352,
          4.291152411840107,
          4.292962422171682,
          4.301321811992506,
          4.354812380475611,
          4.413613900326363,
          4.531574178909096,
          4.58355243612832,
          4.616263609686444,
          4.661013733542078,
          4.6871874355736605,
          4.710407962853726,
          4.727841220257837,
          4.780355335798909,
          4.874547320817022,
          4.892504528580273,
          4.898982460293276,
          4.964762046290754,
          5.008488085353524,
          5.148763886050537,
          5.176247463979968,
          5.244813513251055,
          5.345554877758417,
          5.544382131089319,
          5.57684323743058,
          5.640229322923806,
          5.689718815937115,
          5.835091224673035,
          5.849285516220644,
          5.86486113144235,
          5.891630231609318,
          5.9339868549606996,
          6.030048390123925,
          6.099126481791444,
          6.160273870295617,
          6.164965607602461,
          6.319626227250407,
          6.46252177974312,
          6.514392865297975,
          6.578957839099265,
          6.856865872772175,
          6.85815193274461,
          6.876037692731614,
          7.750070247515997,
          7.863565040083334,
          7.87018586734883,
          7.899598535236914,
          8.807723587253516,
          9.53858670640291,
          10.171411568579595,
          10.769405639836181,
          11.04862354940694,
          12.271976190222468,
          12.842141352631097,
          12.844213338142243,
          14.162043755080868
         ],
         "yaxis": "y"
        }
       ],
       "layout": {
        "legend": {
         "tracegroupgap": 0
        },
        "margin": {
         "t": 60
        },
        "template": {
         "data": {
          "bar": [
           {
            "error_x": {
             "color": "#2a3f5f"
            },
            "error_y": {
             "color": "#2a3f5f"
            },
            "marker": {
             "line": {
              "color": "#E5ECF6",
              "width": 0.5
             },
             "pattern": {
              "fillmode": "overlay",
              "size": 10,
              "solidity": 0.2
             }
            },
            "type": "bar"
           }
          ],
          "barpolar": [
           {
            "marker": {
             "line": {
              "color": "#E5ECF6",
              "width": 0.5
             },
             "pattern": {
              "fillmode": "overlay",
              "size": 10,
              "solidity": 0.2
             }
            },
            "type": "barpolar"
           }
          ],
          "carpet": [
           {
            "aaxis": {
             "endlinecolor": "#2a3f5f",
             "gridcolor": "white",
             "linecolor": "white",
             "minorgridcolor": "white",
             "startlinecolor": "#2a3f5f"
            },
            "baxis": {
             "endlinecolor": "#2a3f5f",
             "gridcolor": "white",
             "linecolor": "white",
             "minorgridcolor": "white",
             "startlinecolor": "#2a3f5f"
            },
            "type": "carpet"
           }
          ],
          "choropleth": [
           {
            "colorbar": {
             "outlinewidth": 0,
             "ticks": ""
            },
            "type": "choropleth"
           }
          ],
          "contour": [
           {
            "colorbar": {
             "outlinewidth": 0,
             "ticks": ""
            },
            "colorscale": [
             [
              0,
              "#0d0887"
             ],
             [
              0.1111111111111111,
              "#46039f"
             ],
             [
              0.2222222222222222,
              "#7201a8"
             ],
             [
              0.3333333333333333,
              "#9c179e"
             ],
             [
              0.4444444444444444,
              "#bd3786"
             ],
             [
              0.5555555555555556,
              "#d8576b"
             ],
             [
              0.6666666666666666,
              "#ed7953"
             ],
             [
              0.7777777777777778,
              "#fb9f3a"
             ],
             [
              0.8888888888888888,
              "#fdca26"
             ],
             [
              1,
              "#f0f921"
             ]
            ],
            "type": "contour"
           }
          ],
          "contourcarpet": [
           {
            "colorbar": {
             "outlinewidth": 0,
             "ticks": ""
            },
            "type": "contourcarpet"
           }
          ],
          "heatmap": [
           {
            "colorbar": {
             "outlinewidth": 0,
             "ticks": ""
            },
            "colorscale": [
             [
              0,
              "#0d0887"
             ],
             [
              0.1111111111111111,
              "#46039f"
             ],
             [
              0.2222222222222222,
              "#7201a8"
             ],
             [
              0.3333333333333333,
              "#9c179e"
             ],
             [
              0.4444444444444444,
              "#bd3786"
             ],
             [
              0.5555555555555556,
              "#d8576b"
             ],
             [
              0.6666666666666666,
              "#ed7953"
             ],
             [
              0.7777777777777778,
              "#fb9f3a"
             ],
             [
              0.8888888888888888,
              "#fdca26"
             ],
             [
              1,
              "#f0f921"
             ]
            ],
            "type": "heatmap"
           }
          ],
          "heatmapgl": [
           {
            "colorbar": {
             "outlinewidth": 0,
             "ticks": ""
            },
            "colorscale": [
             [
              0,
              "#0d0887"
             ],
             [
              0.1111111111111111,
              "#46039f"
             ],
             [
              0.2222222222222222,
              "#7201a8"
             ],
             [
              0.3333333333333333,
              "#9c179e"
             ],
             [
              0.4444444444444444,
              "#bd3786"
             ],
             [
              0.5555555555555556,
              "#d8576b"
             ],
             [
              0.6666666666666666,
              "#ed7953"
             ],
             [
              0.7777777777777778,
              "#fb9f3a"
             ],
             [
              0.8888888888888888,
              "#fdca26"
             ],
             [
              1,
              "#f0f921"
             ]
            ],
            "type": "heatmapgl"
           }
          ],
          "histogram": [
           {
            "marker": {
             "pattern": {
              "fillmode": "overlay",
              "size": 10,
              "solidity": 0.2
             }
            },
            "type": "histogram"
           }
          ],
          "histogram2d": [
           {
            "colorbar": {
             "outlinewidth": 0,
             "ticks": ""
            },
            "colorscale": [
             [
              0,
              "#0d0887"
             ],
             [
              0.1111111111111111,
              "#46039f"
             ],
             [
              0.2222222222222222,
              "#7201a8"
             ],
             [
              0.3333333333333333,
              "#9c179e"
             ],
             [
              0.4444444444444444,
              "#bd3786"
             ],
             [
              0.5555555555555556,
              "#d8576b"
             ],
             [
              0.6666666666666666,
              "#ed7953"
             ],
             [
              0.7777777777777778,
              "#fb9f3a"
             ],
             [
              0.8888888888888888,
              "#fdca26"
             ],
             [
              1,
              "#f0f921"
             ]
            ],
            "type": "histogram2d"
           }
          ],
          "histogram2dcontour": [
           {
            "colorbar": {
             "outlinewidth": 0,
             "ticks": ""
            },
            "colorscale": [
             [
              0,
              "#0d0887"
             ],
             [
              0.1111111111111111,
              "#46039f"
             ],
             [
              0.2222222222222222,
              "#7201a8"
             ],
             [
              0.3333333333333333,
              "#9c179e"
             ],
             [
              0.4444444444444444,
              "#bd3786"
             ],
             [
              0.5555555555555556,
              "#d8576b"
             ],
             [
              0.6666666666666666,
              "#ed7953"
             ],
             [
              0.7777777777777778,
              "#fb9f3a"
             ],
             [
              0.8888888888888888,
              "#fdca26"
             ],
             [
              1,
              "#f0f921"
             ]
            ],
            "type": "histogram2dcontour"
           }
          ],
          "mesh3d": [
           {
            "colorbar": {
             "outlinewidth": 0,
             "ticks": ""
            },
            "type": "mesh3d"
           }
          ],
          "parcoords": [
           {
            "line": {
             "colorbar": {
              "outlinewidth": 0,
              "ticks": ""
             }
            },
            "type": "parcoords"
           }
          ],
          "pie": [
           {
            "automargin": true,
            "type": "pie"
           }
          ],
          "scatter": [
           {
            "fillpattern": {
             "fillmode": "overlay",
             "size": 10,
             "solidity": 0.2
            },
            "type": "scatter"
           }
          ],
          "scatter3d": [
           {
            "line": {
             "colorbar": {
              "outlinewidth": 0,
              "ticks": ""
             }
            },
            "marker": {
             "colorbar": {
              "outlinewidth": 0,
              "ticks": ""
             }
            },
            "type": "scatter3d"
           }
          ],
          "scattercarpet": [
           {
            "marker": {
             "colorbar": {
              "outlinewidth": 0,
              "ticks": ""
             }
            },
            "type": "scattercarpet"
           }
          ],
          "scattergeo": [
           {
            "marker": {
             "colorbar": {
              "outlinewidth": 0,
              "ticks": ""
             }
            },
            "type": "scattergeo"
           }
          ],
          "scattergl": [
           {
            "marker": {
             "colorbar": {
              "outlinewidth": 0,
              "ticks": ""
             }
            },
            "type": "scattergl"
           }
          ],
          "scattermapbox": [
           {
            "marker": {
             "colorbar": {
              "outlinewidth": 0,
              "ticks": ""
             }
            },
            "type": "scattermapbox"
           }
          ],
          "scatterpolar": [
           {
            "marker": {
             "colorbar": {
              "outlinewidth": 0,
              "ticks": ""
             }
            },
            "type": "scatterpolar"
           }
          ],
          "scatterpolargl": [
           {
            "marker": {
             "colorbar": {
              "outlinewidth": 0,
              "ticks": ""
             }
            },
            "type": "scatterpolargl"
           }
          ],
          "scatterternary": [
           {
            "marker": {
             "colorbar": {
              "outlinewidth": 0,
              "ticks": ""
             }
            },
            "type": "scatterternary"
           }
          ],
          "surface": [
           {
            "colorbar": {
             "outlinewidth": 0,
             "ticks": ""
            },
            "colorscale": [
             [
              0,
              "#0d0887"
             ],
             [
              0.1111111111111111,
              "#46039f"
             ],
             [
              0.2222222222222222,
              "#7201a8"
             ],
             [
              0.3333333333333333,
              "#9c179e"
             ],
             [
              0.4444444444444444,
              "#bd3786"
             ],
             [
              0.5555555555555556,
              "#d8576b"
             ],
             [
              0.6666666666666666,
              "#ed7953"
             ],
             [
              0.7777777777777778,
              "#fb9f3a"
             ],
             [
              0.8888888888888888,
              "#fdca26"
             ],
             [
              1,
              "#f0f921"
             ]
            ],
            "type": "surface"
           }
          ],
          "table": [
           {
            "cells": {
             "fill": {
              "color": "#EBF0F8"
             },
             "line": {
              "color": "white"
             }
            },
            "header": {
             "fill": {
              "color": "#C8D4E3"
             },
             "line": {
              "color": "white"
             }
            },
            "type": "table"
           }
          ]
         },
         "layout": {
          "annotationdefaults": {
           "arrowcolor": "#2a3f5f",
           "arrowhead": 0,
           "arrowwidth": 1
          },
          "autotypenumbers": "strict",
          "coloraxis": {
           "colorbar": {
            "outlinewidth": 0,
            "ticks": ""
           }
          },
          "colorscale": {
           "diverging": [
            [
             0,
             "#8e0152"
            ],
            [
             0.1,
             "#c51b7d"
            ],
            [
             0.2,
             "#de77ae"
            ],
            [
             0.3,
             "#f1b6da"
            ],
            [
             0.4,
             "#fde0ef"
            ],
            [
             0.5,
             "#f7f7f7"
            ],
            [
             0.6,
             "#e6f5d0"
            ],
            [
             0.7,
             "#b8e186"
            ],
            [
             0.8,
             "#7fbc41"
            ],
            [
             0.9,
             "#4d9221"
            ],
            [
             1,
             "#276419"
            ]
           ],
           "sequential": [
            [
             0,
             "#0d0887"
            ],
            [
             0.1111111111111111,
             "#46039f"
            ],
            [
             0.2222222222222222,
             "#7201a8"
            ],
            [
             0.3333333333333333,
             "#9c179e"
            ],
            [
             0.4444444444444444,
             "#bd3786"
            ],
            [
             0.5555555555555556,
             "#d8576b"
            ],
            [
             0.6666666666666666,
             "#ed7953"
            ],
            [
             0.7777777777777778,
             "#fb9f3a"
            ],
            [
             0.8888888888888888,
             "#fdca26"
            ],
            [
             1,
             "#f0f921"
            ]
           ],
           "sequentialminus": [
            [
             0,
             "#0d0887"
            ],
            [
             0.1111111111111111,
             "#46039f"
            ],
            [
             0.2222222222222222,
             "#7201a8"
            ],
            [
             0.3333333333333333,
             "#9c179e"
            ],
            [
             0.4444444444444444,
             "#bd3786"
            ],
            [
             0.5555555555555556,
             "#d8576b"
            ],
            [
             0.6666666666666666,
             "#ed7953"
            ],
            [
             0.7777777777777778,
             "#fb9f3a"
            ],
            [
             0.8888888888888888,
             "#fdca26"
            ],
            [
             1,
             "#f0f921"
            ]
           ]
          },
          "colorway": [
           "#636efa",
           "#EF553B",
           "#00cc96",
           "#ab63fa",
           "#FFA15A",
           "#19d3f3",
           "#FF6692",
           "#B6E880",
           "#FF97FF",
           "#FECB52"
          ],
          "font": {
           "color": "#2a3f5f"
          },
          "geo": {
           "bgcolor": "white",
           "lakecolor": "white",
           "landcolor": "#E5ECF6",
           "showlakes": true,
           "showland": true,
           "subunitcolor": "white"
          },
          "hoverlabel": {
           "align": "left"
          },
          "hovermode": "closest",
          "mapbox": {
           "style": "light"
          },
          "paper_bgcolor": "white",
          "plot_bgcolor": "#E5ECF6",
          "polar": {
           "angularaxis": {
            "gridcolor": "white",
            "linecolor": "white",
            "ticks": ""
           },
           "bgcolor": "#E5ECF6",
           "radialaxis": {
            "gridcolor": "white",
            "linecolor": "white",
            "ticks": ""
           }
          },
          "scene": {
           "xaxis": {
            "backgroundcolor": "#E5ECF6",
            "gridcolor": "white",
            "gridwidth": 2,
            "linecolor": "white",
            "showbackground": true,
            "ticks": "",
            "zerolinecolor": "white"
           },
           "yaxis": {
            "backgroundcolor": "#E5ECF6",
            "gridcolor": "white",
            "gridwidth": 2,
            "linecolor": "white",
            "showbackground": true,
            "ticks": "",
            "zerolinecolor": "white"
           },
           "zaxis": {
            "backgroundcolor": "#E5ECF6",
            "gridcolor": "white",
            "gridwidth": 2,
            "linecolor": "white",
            "showbackground": true,
            "ticks": "",
            "zerolinecolor": "white"
           }
          },
          "shapedefaults": {
           "line": {
            "color": "#2a3f5f"
           }
          },
          "ternary": {
           "aaxis": {
            "gridcolor": "white",
            "linecolor": "white",
            "ticks": ""
           },
           "baxis": {
            "gridcolor": "white",
            "linecolor": "white",
            "ticks": ""
           },
           "bgcolor": "#E5ECF6",
           "caxis": {
            "gridcolor": "white",
            "linecolor": "white",
            "ticks": ""
           }
          },
          "title": {
           "x": 0.05
          },
          "xaxis": {
           "automargin": true,
           "gridcolor": "white",
           "linecolor": "white",
           "ticks": "",
           "title": {
            "standoff": 15
           },
           "zerolinecolor": "white",
           "zerolinewidth": 2
          },
          "yaxis": {
           "automargin": true,
           "gridcolor": "white",
           "linecolor": "white",
           "ticks": "",
           "title": {
            "standoff": 15
           },
           "zerolinecolor": "white",
           "zerolinewidth": 2
          }
         }
        },
        "xaxis": {
         "anchor": "y",
         "domain": [
          0,
          1
         ],
         "title": {
          "text": "인구"
         }
        },
        "yaxis": {
         "anchor": "x",
         "domain": [
          0,
          1
         ],
         "title": {
          "text": "경쟁사_지점수"
         }
        }
       }
      }
     },
     "metadata": {},
     "output_type": "display_data"
    }
   ],
   "source": [
    "fig = px.scatter(pop_2022, x = '인구', y = '경쟁사_지점수', trendline = 'ols')\n",
    "\n",
    "fig.show()"
   ]
  },
  {
   "cell_type": "code",
   "execution_count": 87,
   "metadata": {},
   "outputs": [
    {
     "data": {
      "text/plain": [
       "ShapiroResult(statistic=0.8189647197723389, pvalue=1.2914938986890892e-15)"
      ]
     },
     "execution_count": 87,
     "metadata": {},
     "output_type": "execute_result"
    }
   ],
   "source": [
    "stats.shapiro(pop_2022['인구'])"
   ]
  },
  {
   "cell_type": "code",
   "execution_count": 88,
   "metadata": {},
   "outputs": [
    {
     "data": {
      "text/plain": [
       "SignificanceResult(statistic=0.8944944965180148, pvalue=2.562236091716654e-81)"
      ]
     },
     "execution_count": 88,
     "metadata": {},
     "output_type": "execute_result"
    }
   ],
   "source": [
    "stats.spearmanr(pop_2022['인구'],pop_2022['해법수학_지점수'])"
   ]
  },
  {
   "cell_type": "code",
   "execution_count": 89,
   "metadata": {},
   "outputs": [
    {
     "data": {
      "text/plain": [
       "SignificanceResult(statistic=0.7782256948465996, pvalue=9.23745330663562e-48)"
      ]
     },
     "execution_count": 89,
     "metadata": {},
     "output_type": "execute_result"
    }
   ],
   "source": [
    "stats.spearmanr(pop_2022['인구'],pop_2022['경쟁사_지점수'])"
   ]
  },
  {
   "cell_type": "markdown",
   "metadata": {},
   "source": [
    "### 두 상관관계 간에 유의미한 차이가 있는가?"
   ]
  },
  {
   "cell_type": "code",
   "execution_count": 90,
   "metadata": {},
   "outputs": [],
   "source": [
    "r1 = stats.spearmanr(pop_2022['인구'],pop_2022['해법수학_지점수'])[0]\n",
    "r2 = stats.spearmanr(pop_2022['인구'],pop_2022['경쟁사_지점수'])[0]"
   ]
  },
  {
   "cell_type": "markdown",
   "metadata": {},
   "source": [
    "##### Fisher Transformation"
   ]
  },
  {
   "cell_type": "code",
   "execution_count": 91,
   "metadata": {},
   "outputs": [],
   "source": [
    "def fishertransform(r):\n",
    "    return 0.5 * np.log((1 + r) / (1 - r))"
   ]
  },
  {
   "cell_type": "code",
   "execution_count": 92,
   "metadata": {},
   "outputs": [],
   "source": [
    "r1f = fishertransform(r1)\n",
    "r2f = fishertransform(r2)"
   ]
  },
  {
   "cell_type": "code",
   "execution_count": 93,
   "metadata": {},
   "outputs": [
    {
     "data": {
      "text/plain": [
       "(1.4439721041071314, 1.0408555621076732)"
      ]
     },
     "execution_count": 93,
     "metadata": {},
     "output_type": "execute_result"
    }
   ],
   "source": [
    "r1f, r2f"
   ]
  },
  {
   "cell_type": "markdown",
   "metadata": {},
   "source": [
    "##### Fisher Transformation 결과를 통해 Z-test"
   ]
  },
  {
   "cell_type": "code",
   "execution_count": 94,
   "metadata": {},
   "outputs": [],
   "source": [
    "n1 = len(pop_2022)\n",
    "n2 = len(pop_2022)"
   ]
  },
  {
   "cell_type": "code",
   "execution_count": 95,
   "metadata": {},
   "outputs": [],
   "source": [
    "def z_test(r1f, r2f, n1, n2):\n",
    "    return (r1f - r2f) / np.sqrt((1 / (n1 - 3)) + (1 / (n2 - 3)))"
   ]
  },
  {
   "cell_type": "code",
   "execution_count": 96,
   "metadata": {},
   "outputs": [],
   "source": [
    "z = z_test(r1f, r2f, n1, n2)"
   ]
  },
  {
   "cell_type": "code",
   "execution_count": 97,
   "metadata": {},
   "outputs": [
    {
     "name": "stdout",
     "output_type": "stream",
     "text": [
      "4.285187620979612\n"
     ]
    }
   ],
   "source": [
    "print(z)"
   ]
  },
  {
   "cell_type": "markdown",
   "metadata": {},
   "source": [
    "##### Z값 통해서 p-value 구하기"
   ]
  },
  {
   "cell_type": "code",
   "execution_count": 98,
   "metadata": {},
   "outputs": [
    {
     "name": "stdout",
     "output_type": "stream",
     "text": [
      "p value is : 9.129251660567152e-06\n"
     ]
    }
   ],
   "source": [
    "# importing packages\n",
    "import scipy.stats\n",
    "  \n",
    "# finding p-value\n",
    "p_value = scipy.stats.norm.sf(abs(z))\n",
    "print('p value is : ' + str(p_value))"
   ]
  }
 ],
 "metadata": {
  "kernelspec": {
   "display_name": "base",
   "language": "python",
   "name": "python3"
  },
  "language_info": {
   "codemirror_mode": {
    "name": "ipython",
    "version": 3
   },
   "file_extension": ".py",
   "mimetype": "text/x-python",
   "name": "python",
   "nbconvert_exporter": "python",
   "pygments_lexer": "ipython3",
   "version": "3.10.9"
  }
 },
 "nbformat": 4,
 "nbformat_minor": 2
}
